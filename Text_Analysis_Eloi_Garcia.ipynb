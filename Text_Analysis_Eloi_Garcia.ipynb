{
  "cells": [
    {
      "cell_type": "markdown",
      "metadata": {
        "id": "o9X4QssWacsA"
      },
      "source": [
        "# <center>Generative Probabilistic Models for collections of text corpora: Latent Dirichlet Allocation on the Reuters dataset.</center>"
      ]
    },
    {
      "cell_type": "markdown",
      "metadata": {
        "id": "BgFJEpOYacsD"
      },
      "source": [
        "<center>Eloi Garcia Climent</center>\n",
        "\n",
        "<center>Barcelona School of Economics</center>"
      ]
    },
    {
      "cell_type": "markdown",
      "metadata": {
        "id": "WErHTbGAacsJ"
      },
      "source": [
        "## Importing the Required Libraries"
      ]
    },
    {
      "cell_type": "code",
      "execution_count": null,
      "metadata": {
        "id": "PXK49Uj-acsJ"
      },
      "outputs": [],
      "source": [
        "import numpy as np\n",
        "import pandas as pd\n",
        "import json\n",
        "import glob\n",
        "\n",
        "#Gensim\n",
        "import gensim\n",
        "import gensim.corpora as corpora\n",
        "from gensim.utils import simple_preprocess\n",
        "from gensim.models import CoherenceModel\n",
        "\n",
        "#spacy\n",
        "import spacy\n",
        "\n",
        "#vis\n",
        "import pyLDAvis\n",
        "\n",
        "#nltk\n",
        "import nltk\n",
        "from nltk.corpus import stopwords\n",
        "\n",
        "import warnings\n",
        "warnings.filterwarnings(\"ignore\", category=DeprecationWarning)"
      ]
    },
    {
      "cell_type": "markdown",
      "metadata": {
        "id": "h49KL6ElacsK"
      },
      "source": [
        "## Preparing the Data"
      ]
    },
    {
      "cell_type": "markdown",
      "source": [
        "\n",
        "\n",
        "1.   Load the dataset\n",
        "\n"
      ],
      "metadata": {
        "id": "LO8V2eh7bmyx"
      }
    },
    {
      "cell_type": "code",
      "execution_count": null,
      "metadata": {
        "id": "oSTIH9kWacsM"
      },
      "outputs": [],
      "source": [
        "reuters = pd.read_csv(\"reutersCSV.csv\",encoding= 'unicode_escape')"
      ]
    },
    {
      "cell_type": "markdown",
      "source": [
        "\n",
        "\n",
        "2.   Punctuation and stopwords download\n",
        "\n"
      ],
      "metadata": {
        "id": "58SRx95jbgMA"
      }
    },
    {
      "cell_type": "code",
      "execution_count": null,
      "metadata": {
        "id": "VjmpZc0lacsL",
        "outputId": "70ac6812-717d-4d30-9819-0e05cdbdf7e9"
      },
      "outputs": [
        {
          "name": "stderr",
          "output_type": "stream",
          "text": [
            "[nltk_data] Downloading package stopwords to\n",
            "[nltk_data]     C:\\Users\\eloid\\AppData\\Roaming\\nltk_data...\n",
            "[nltk_data]   Package stopwords is already up-to-date!\n",
            "[nltk_data] Downloading package punkt to\n",
            "[nltk_data]     C:\\Users\\eloid\\AppData\\Roaming\\nltk_data...\n",
            "[nltk_data]   Package punkt is already up-to-date!\n"
          ]
        }
      ],
      "source": [
        "nltk.download('stopwords')\n",
        "nltk.download('punkt')\n",
        "stopwords = stopwords.words(\"english\")\n"
      ]
    },
    {
      "cell_type": "markdown",
      "source": [
        "3. Cleaning and tokenizing the data"
      ],
      "metadata": {
        "id": "RIuJmaiZhNv5"
      }
    },
    {
      "cell_type": "code",
      "execution_count": null,
      "metadata": {
        "id": "qo47CVv-acsM",
        "outputId": "43deb2ed-3729-4c3e-d50b-6b8213e0a2b4"
      },
      "outputs": [
        {
          "name": "stderr",
          "output_type": "stream",
          "text": [
            "C:\\Users\\eloid\\AppData\\Local\\Temp/ipykernel_9568/2286880139.py:6: FutureWarning: The default value of regex will change from True to False in a future version.\n",
            "  reuters[\"doc.text\"] = reuters[\"doc.text\"].str.replace('[^\\w\\s]','')\n"
          ]
        },
        {
          "data": {
            "text/plain": [
              "'standard oil co bp north america inc said plan form venture manage money market borrowing investment activities companies bp north america subsidiary british petroleum co plc ltbp also owns 55 pct interest standard oil the venture called bpstandard financial trading operated standard oil oversight joint management committee reuter'"
            ]
          },
          "execution_count": 76,
          "metadata": {},
          "output_type": "execute_result"
        }
      ],
      "source": [
        "reuters = reuters.dropna()\n",
        "reuters['doc.text'] = reuters['doc.text'].apply(lambda x: ' '.join([word for word in x.split() if word not in (stopwords)]))\n",
        "reuters[\"doc.text\"] = reuters[\"doc.text\"].str.lower()\n",
        "reuters[\"doc.text\"] = reuters[\"doc.text\"].str.replace('[^\\w\\s]','')\n",
        "reuters[\"doc.text.token\"] = reuters[\"doc.text\"].apply(nltk.word_tokenize)\n",
        "reuters[\"doc.text\"][1]"
      ]
    },
    {
      "cell_type": "markdown",
      "source": [
        "4. Topic filtering (We're going to classify the 30 most common topics)"
      ],
      "metadata": {
        "id": "YapCKyFlhSYv"
      }
    },
    {
      "cell_type": "code",
      "execution_count": null,
      "metadata": {
        "id": "n32zsy1TacsN",
        "outputId": "24ff38c2-c8c7-413d-afc0-c8665193a34f"
      },
      "outputs": [
        {
          "name": "stderr",
          "output_type": "stream",
          "text": [
            "C:\\Users\\eloid\\AppData\\Local\\Temp/ipykernel_9568/62950708.py:3: FutureWarning: The pandas.np module is deprecated and will be removed from pandas in a future version. Import numpy directly instead\n",
            "  reuters.loc['total'] = reuters.select_dtypes(pd.np.number).sum()\n",
            "C:\\Users\\eloid\\AppData\\Local\\Temp/ipykernel_9568/62950708.py:12: FutureWarning: The pandas.np module is deprecated and will be removed from pandas in a future version. Import numpy directly instead\n",
            "  reuters.loc['total'] = reuters.select_dtypes(pd.np.number).sum()\n",
            "C:\\Users\\eloid\\AppData\\Local\\Temp/ipykernel_9568/62950708.py:29: FutureWarning: Dropping of nuisance columns in DataFrame reductions (with 'numeric_only=None') is deprecated; in a future version this will raise TypeError.  Select only valid columns before calling the reduction.\n",
            "  reuters[\"real_topic\"]= reuters.max(axis=1)\n"
          ]
        },
        {
          "data": {
            "text/html": [
              "<div>\n",
              "<style scoped>\n",
              "    .dataframe tbody tr th:only-of-type {\n",
              "        vertical-align: middle;\n",
              "    }\n",
              "\n",
              "    .dataframe tbody tr th {\n",
              "        vertical-align: top;\n",
              "    }\n",
              "\n",
              "    .dataframe thead th {\n",
              "        text-align: right;\n",
              "    }\n",
              "</style>\n",
              "<table border=\"1\" class=\"dataframe\">\n",
              "  <thead>\n",
              "    <tr style=\"text-align: right;\">\n",
              "      <th></th>\n",
              "      <th>purpose</th>\n",
              "      <th>doc.title</th>\n",
              "      <th>doc.text</th>\n",
              "      <th>doc.text.token</th>\n",
              "      <th>real_topic</th>\n",
              "      <th>predicted_topic</th>\n",
              "    </tr>\n",
              "  </thead>\n",
              "  <tbody>\n",
              "    <tr>\n",
              "      <th>0</th>\n",
              "      <td>train</td>\n",
              "      <td>BAHIA COCOA REVIEW</td>\n",
              "      <td>showers continued throughout week bahia cocoa ...</td>\n",
              "      <td>[showers, continued, throughout, week, bahia, ...</td>\n",
              "      <td>28.0</td>\n",
              "      <td>0</td>\n",
              "    </tr>\n",
              "    <tr>\n",
              "      <th>4</th>\n",
              "      <td>train</td>\n",
              "      <td>NATIONAL AVERAGE PRICES FOR FARMER-OWNED RESERVE</td>\n",
              "      <td>the us agriculture department reported farmero...</td>\n",
              "      <td>[the, us, agriculture, department, reported, f...</td>\n",
              "      <td>10.0</td>\n",
              "      <td>0</td>\n",
              "    </tr>\n",
              "    <tr>\n",
              "      <th>5</th>\n",
              "      <td>train</td>\n",
              "      <td>ARGENTINE 1986/87 GRAIN/OILSEED REGISTRATIONS</td>\n",
              "      <td>argentine grain board figures show crop regist...</td>\n",
              "      <td>[argentine, grain, board, figures, show, crop,...</td>\n",
              "      <td>21.0</td>\n",
              "      <td>0</td>\n",
              "    </tr>\n",
              "    <tr>\n",
              "      <th>8</th>\n",
              "      <td>train</td>\n",
              "      <td>CHAMPION PRODUCTS &amp;lt;CH&gt; APPROVES STOCK SPLIT</td>\n",
              "      <td>champion products inc said board directors app...</td>\n",
              "      <td>[champion, products, inc, said, board, directo...</td>\n",
              "      <td>1.0</td>\n",
              "      <td>0</td>\n",
              "    </tr>\n",
              "    <tr>\n",
              "      <th>9</th>\n",
              "      <td>train</td>\n",
              "      <td>COMPUTER TERMINAL SYSTEMS &amp;lt;CPML&gt; COMPLETES ...</td>\n",
              "      <td>computer terminal systems inc said completed s...</td>\n",
              "      <td>[computer, terminal, systems, inc, said, compl...</td>\n",
              "      <td>2.0</td>\n",
              "      <td>0</td>\n",
              "    </tr>\n",
              "    <tr>\n",
              "      <th>...</th>\n",
              "      <td>...</td>\n",
              "      <td>...</td>\n",
              "      <td>...</td>\n",
              "      <td>...</td>\n",
              "      <td>...</td>\n",
              "      <td>...</td>\n",
              "    </tr>\n",
              "    <tr>\n",
              "      <th>21569</th>\n",
              "      <td>test</td>\n",
              "      <td>THAI RICE EXPORTS RISE IN WEEK TO OCTOBER 13</td>\n",
              "      <td>thai rice exports rose 72987 tonnes week ended...</td>\n",
              "      <td>[thai, rice, exports, rose, 72987, tonnes, wee...</td>\n",
              "      <td>29.0</td>\n",
              "      <td>0</td>\n",
              "    </tr>\n",
              "    <tr>\n",
              "      <th>21570</th>\n",
              "      <td>test</td>\n",
              "      <td>N.Z.'S CHASE CORP MAKES OFFER FOR ENTREGROWTH</td>\n",
              "      <td>chase corp ltd ltchcawe said make offer fullyp...</td>\n",
              "      <td>[chase, corp, ltd, ltchcawe, said, make, offer...</td>\n",
              "      <td>2.0</td>\n",
              "      <td>0</td>\n",
              "    </tr>\n",
              "    <tr>\n",
              "      <th>21572</th>\n",
              "      <td>test</td>\n",
              "      <td>TOKYO DEALERS SEE DOLLAR POISED TO BREACH 140 YEN</td>\n",
              "      <td>tokyos foreign exchange market watching nervou...</td>\n",
              "      <td>[tokyos, foreign, exchange, market, watching, ...</td>\n",
              "      <td>13.0</td>\n",
              "      <td>0</td>\n",
              "    </tr>\n",
              "    <tr>\n",
              "      <th>21573</th>\n",
              "      <td>test</td>\n",
              "      <td>JAPAN/INDIA CONFERENCE CUTS GULF WAR RISK CHARGES</td>\n",
              "      <td>the japanindiapakistangulfjapan shipping confe...</td>\n",
              "      <td>[the, japanindiapakistangulfjapan, shipping, c...</td>\n",
              "      <td>8.0</td>\n",
              "      <td>0</td>\n",
              "    </tr>\n",
              "    <tr>\n",
              "      <th>21575</th>\n",
              "      <td>test</td>\n",
              "      <td>SIX KILLED IN SOUTH AFRICAN GOLD MINE ACCIDENT</td>\n",
              "      <td>six black miners killed two injured rock fall ...</td>\n",
              "      <td>[six, black, miners, killed, two, injured, roc...</td>\n",
              "      <td>17.0</td>\n",
              "      <td>0</td>\n",
              "    </tr>\n",
              "  </tbody>\n",
              "</table>\n",
              "<p>9827 rows × 6 columns</p>\n",
              "</div>"
            ],
            "text/plain": [
              "      purpose                                          doc.title  \\\n",
              "0       train                                 BAHIA COCOA REVIEW   \n",
              "4       train   NATIONAL AVERAGE PRICES FOR FARMER-OWNED RESERVE   \n",
              "5       train      ARGENTINE 1986/87 GRAIN/OILSEED REGISTRATIONS   \n",
              "8       train     CHAMPION PRODUCTS &lt;CH> APPROVES STOCK SPLIT   \n",
              "9       train  COMPUTER TERMINAL SYSTEMS &lt;CPML> COMPLETES ...   \n",
              "...       ...                                                ...   \n",
              "21569    test       THAI RICE EXPORTS RISE IN WEEK TO OCTOBER 13   \n",
              "21570    test      N.Z.'S CHASE CORP MAKES OFFER FOR ENTREGROWTH   \n",
              "21572    test  TOKYO DEALERS SEE DOLLAR POISED TO BREACH 140 YEN   \n",
              "21573    test  JAPAN/INDIA CONFERENCE CUTS GULF WAR RISK CHARGES   \n",
              "21575    test     SIX KILLED IN SOUTH AFRICAN GOLD MINE ACCIDENT   \n",
              "\n",
              "                                                doc.text  \\\n",
              "0      showers continued throughout week bahia cocoa ...   \n",
              "4      the us agriculture department reported farmero...   \n",
              "5      argentine grain board figures show crop regist...   \n",
              "8      champion products inc said board directors app...   \n",
              "9      computer terminal systems inc said completed s...   \n",
              "...                                                  ...   \n",
              "21569  thai rice exports rose 72987 tonnes week ended...   \n",
              "21570  chase corp ltd ltchcawe said make offer fullyp...   \n",
              "21572  tokyos foreign exchange market watching nervou...   \n",
              "21573  the japanindiapakistangulfjapan shipping confe...   \n",
              "21575  six black miners killed two injured rock fall ...   \n",
              "\n",
              "                                          doc.text.token  real_topic  \\\n",
              "0      [showers, continued, throughout, week, bahia, ...        28.0   \n",
              "4      [the, us, agriculture, department, reported, f...        10.0   \n",
              "5      [argentine, grain, board, figures, show, crop,...        21.0   \n",
              "8      [champion, products, inc, said, board, directo...         1.0   \n",
              "9      [computer, terminal, systems, inc, said, compl...         2.0   \n",
              "...                                                  ...         ...   \n",
              "21569  [thai, rice, exports, rose, 72987, tonnes, wee...        29.0   \n",
              "21570  [chase, corp, ltd, ltchcawe, said, make, offer...         2.0   \n",
              "21572  [tokyos, foreign, exchange, market, watching, ...        13.0   \n",
              "21573  [the, japanindiapakistangulfjapan, shipping, c...         8.0   \n",
              "21575  [six, black, miners, killed, two, injured, roc...        17.0   \n",
              "\n",
              "       predicted_topic  \n",
              "0                    0  \n",
              "4                    0  \n",
              "5                    0  \n",
              "8                    0  \n",
              "9                    0  \n",
              "...                ...  \n",
              "21569                0  \n",
              "21570                0  \n",
              "21572                0  \n",
              "21573                0  \n",
              "21575                0  \n",
              "\n",
              "[9827 rows x 6 columns]"
            ]
          },
          "execution_count": 77,
          "metadata": {},
          "output_type": "execute_result"
        }
      ],
      "source": [
        "import math\n",
        "#Getting 30 most common topics\n",
        "reuters.loc['total'] = reuters.select_dtypes(pd.np.number).sum()\n",
        "\n",
        "#Remove news from non-common topics\n",
        "common_topics = reuters.iloc[-1].sort_values(ascending=False)[2:31].index\n",
        "filter = np.any(reuters[common_topics]>0,axis=1)\n",
        "reuters = reuters[filter]\n",
        "reuters = reuters.drop(index=\"total\")\n",
        "\n",
        "#remove topics columns\n",
        "reuters.loc['total'] = reuters.select_dtypes(pd.np.number).sum()\n",
        "reuters = reuters.loc[:, (reuters!=0).any(0)]\n",
        "#reuters = reuters.drop(index=\"total\")\n",
        "part1 = reuters.iloc[:,np.array(reuters.loc[\"total\"]>66)]\n",
        "part2 = reuters.iloc[:,np.array(reuters.loc[\"total\"]) != np.array(reuters.loc[\"total\"])]\n",
        "reuters = pd.merge(part1, part2, left_index=True, right_index=True)\n",
        "reuters = reuters.drop(index=\"total\")\n",
        "\n",
        "#Everything in one column\n",
        "reuters[\"real_topic\"] = 0\n",
        "reuters = reuters.drop([\"pid\",\"fileName\"],axis=1)\n",
        "count = 1\n",
        "for topic in common_topics:\n",
        "    #reuters[\"real_topic\"] = [count if x == 1 else reuters[\"real_topic\"] for x in reuters[topic]]\n",
        "    reuters[topic] = reuters[topic].replace(1.0,count)\n",
        "    count = count +1\n",
        "reuters\n",
        "reuters[\"real_topic\"]= reuters.max(axis=1)\n",
        "reuters[\"predicted_topic\"] = 0\n",
        "reuters = reuters.drop(common_topics,axis=1)\n",
        "reuters"
      ]
    },
    {
      "cell_type": "markdown",
      "source": [
        "5. Obtaining the words that will be included in the model"
      ],
      "metadata": {
        "id": "2feQG3PBhal-"
      }
    },
    {
      "cell_type": "code",
      "execution_count": null,
      "metadata": {
        "id": "2Qy3ApkhacsO",
        "outputId": "9870dd14-d5b7-4a02-d10a-13e07cc80da1"
      },
      "outputs": [
        {
          "name": "stdout",
          "output_type": "stream",
          "text": [
            "['showers', 'continued', 'throughout', 'week', 'bahia', 'cocoa', 'zone', 'alleviating', 'drought', 'since', 'early', 'january', 'improving', 'prospects', 'coming', 'temporao', 'although', 'normal', 'humidity', 'levels']\n"
          ]
        }
      ],
      "source": [
        "def gen_words(texts):\n",
        "    final = []\n",
        "    for text in texts:\n",
        "        new = gensim.utils.simple_preprocess(text, deacc=True)\n",
        "        final.append(new)\n",
        "    return (final)\n",
        "\n",
        "data_words = gen_words(reuters[reuters[\"purpose\"]==\"train\"][\"doc.text\"])\n",
        "\n",
        "print (data_words[0][0:20])"
      ]
    },
    {
      "cell_type": "markdown",
      "source": [
        "6. Generating bigrams and trigrams"
      ],
      "metadata": {
        "id": "JcsguNVGiJ0e"
      }
    },
    {
      "cell_type": "code",
      "execution_count": null,
      "metadata": {
        "id": "0z2emDvVacsP",
        "outputId": "ad56d2bd-b9b7-4277-8356-f3e93724cd5b"
      },
      "outputs": [
        {
          "name": "stdout",
          "output_type": "stream",
          "text": [
            "['showers', 'continued', 'throughout', 'week', 'bahia', 'cocoa', 'zone', 'alleviating', 'drought', 'since', 'early', 'january', 'improving', 'prospects', 'coming', 'temporao', 'although', 'normal', 'humidity', 'levels', 'restored', 'comissaria', 'smith', 'said', 'weekly', 'review', 'the', 'dry', 'period', 'means', 'temporao', 'late', 'year', 'arrivals', 'week', 'ended', 'february', 'bags', 'kilos', 'making', 'cumulative', 'total', 'season', 'mln', 'stage', 'last', 'year', 'again', 'seems', 'cocoa', 'delivered', 'earlier', 'consignment', 'included', 'arrivals', 'figures', 'comissaria', 'smith', 'said', 'still', 'doubt', 'much', 'old', 'crop', 'cocoa', 'still', 'available', 'harvesting', 'practically', 'come', 'end', 'with', 'total', 'bahia', 'crop', 'estimates', 'around', 'mln', 'bags', 'sales', 'standing', 'almost', 'mln', 'hundred', 'thousand', 'bags', 'still', 'hands', 'farmers', 'middlemen', 'exporters', 'processors', 'there', 'doubts', 'much', 'cocoa', 'would', 'fit', 'export', 'shippers', 'experiencing', 'dificulties', 'obtaining', 'bahia', 'superior', 'certificates', 'in', 'view', 'lower', 'quality', 'recent', 'weeks', 'farmers', 'sold', 'good', 'part', 'cocoa', 'held', 'consignment', 'comissaria', 'smith', 'said', 'spot', 'bean', 'prices', 'rose', 'cruzados', 'per', 'arroba', 'kilos', 'bean', 'shippers', 'reluctant', 'offer', 'nearby', 'shipment', 'limited', 'sales', 'booked', 'march', 'shipment', 'dlrs', 'per_tonne', 'ports', 'named', 'new', 'crop', 'sales', 'also', 'light', 'open', 'ports', 'junejuly', 'going', 'dlrs', 'dlrs', 'new_york', 'july', 'augsept', 'dlrs', 'per_tonne', 'fob', 'routine', 'sales', 'butter', 'made', 'marchapril', 'sold', 'dlrs', 'aprilmay', 'butter', 'went', 'times_new_york', 'may', 'junejuly', 'dlrs', 'augsept', 'dlrs', 'times_new_york', 'sept', 'octdec', 'dlrs', 'times_new_york', 'dec', 'comissaria', 'smith', 'said', 'destinations', 'us', 'covertible', 'currency', 'areas', 'uruguay', 'open', 'ports', 'cake', 'sales', 'registered', 'dlrs', 'marchapril', 'dlrs', 'may', 'dlrs', 'aug', 'times_new_york', 'dec', 'octdec', 'buyers', 'us', 'argentina', 'uruguay', 'convertible', 'currency', 'areas', 'liquor', 'sales', 'limited', 'marchapril', 'selling', 'dlrs', 'junejuly', 'dlrs', 'times_new_york', 'july', 'augsept', 'dlrs', 'times_new_york', 'sept', 'octdec', 'times_new_york', 'dec', 'comissaria', 'smith', 'said', 'total', 'bahia', 'sales', 'currently', 'estimated', 'mln', 'bags', 'crop', 'mln', 'bags', 'crop', 'final', 'figures', 'period', 'february', 'expected', 'published', 'brazilian', 'cocoa', 'trade', 'commission', 'carnival', 'ends', 'midday', 'february', 'reuter']\n"
          ]
        }
      ],
      "source": [
        "bigram_phrases = gensim.models.Phrases(data_words, min_count=5, threshold=100)\n",
        "trigram_phrases = gensim.models.Phrases(bigram_phrases[data_words], threshold=100)\n",
        "\n",
        "bigram = gensim.models.phrases.Phraser(bigram_phrases)\n",
        "trigram = gensim.models.phrases.Phraser(trigram_phrases)\n",
        "\n",
        "def make_bigrams(texts):\n",
        "    return([bigram[doc] for doc in texts])\n",
        "\n",
        "def make_trigrams(texts):\n",
        "    return ([trigram[bigram[doc]] for doc in texts])\n",
        "\n",
        "data_bigrams = make_bigrams(data_words)\n",
        "data_bigrams_and_trigrams = make_trigrams(data_bigrams)\n",
        "\n",
        "print(data_bigrams_and_trigrams[0])"
      ]
    },
    {
      "cell_type": "markdown",
      "source": [
        "7. Processing the low-incidence words (below 3%) with a Term frequency - Inverse Document Frequency model and generating the train corpus."
      ],
      "metadata": {
        "id": "_73R2Gc3iO4X"
      }
    },
    {
      "cell_type": "code",
      "execution_count": null,
      "metadata": {
        "id": "RLwOAWm_acsP"
      },
      "outputs": [],
      "source": [
        "from gensim.models import TfidfModel\n",
        "\n",
        "id2word = corpora.Dictionary(data_bigrams_and_trigrams)\n",
        "texts = data_bigrams_and_trigrams\n",
        "\n",
        "corpus=[id2word.doc2bow(text) for text in texts]\n",
        "\n",
        "tfidf = TfidfModel(corpus, id2word=id2word)\n",
        "\n",
        "low_value = 0.03\n",
        "words = []\n",
        "words_missing_in_tfidf = []\n",
        "for i in range(0, len(corpus)):\n",
        "    bow = corpus[i]\n",
        "    low_value_words = []\n",
        "    tfidf_ids = [id for id, value in tfidf[bow]]\n",
        "    bow_ids = [id for id, value in bow]\n",
        "    low_value_words = [id for id, value in tfidf[bow] if value < low_value]\n",
        "    drops = low_value_words+words_missing_in_tfidf\n",
        "    for item in drops:\n",
        "        words.append(id2word[item])\n",
        "    words_missing_in_tfidf = [id for id in bow_ids if id not in tfidf_ids]\n",
        "\n",
        "    new_bow = [b for b in bow if b[0] not in low_value_words and b[0] not in words_missing_in_tfidf]\n",
        "    corpus[i] = new_bow\n"
      ]
    },
    {
      "cell_type": "code",
      "execution_count": null,
      "metadata": {
        "id": "sR_EqCOKacsQ",
        "outputId": "a62dd37b-3236-4260-f5f9-0f4162b84e00"
      },
      "outputs": [
        {
          "name": "stdout",
          "output_type": "stream",
          "text": [
            "[(0, 1), (1, 1), (2, 1), (3, 1), (4, 1), (5, 1), (6, 2), (7, 1), (8, 1), (9, 2), (10, 1), (11, 1), (12, 3), (13, 1), (14, 5), (15, 4), (16, 2), (17, 1), (18, 1), (19, 2)]\n",
            "again\n"
          ]
        }
      ],
      "source": [
        "id2word = corpora.Dictionary(data_words)\n",
        "\n",
        "corpus = []\n",
        "for text in data_words:\n",
        "    new = id2word.doc2bow(text)\n",
        "    corpus.append(new)\n",
        "\n",
        "print (corpus[0][0:20])\n",
        "\n",
        "word = id2word[[0][:1][0]]\n",
        "print (word)"
      ]
    },
    {
      "cell_type": "markdown",
      "source": [
        "# LDA Model"
      ],
      "metadata": {
        "id": "Xlhbp3Q2iZuX"
      }
    },
    {
      "cell_type": "code",
      "execution_count": null,
      "metadata": {
        "id": "FpwrJjblacsQ"
      },
      "outputs": [],
      "source": [
        "lda_model = gensim.models.ldamodel.LdaModel(corpus=corpus,\n",
        "                                           id2word=id2word,\n",
        "                                           num_topics=30,\n",
        "                                           random_state=100,\n",
        "                                           update_every=1,\n",
        "                                           chunksize=100,\n",
        "                                           passes=10,\n",
        "                                           alpha=\"auto\")\n"
      ]
    },
    {
      "cell_type": "markdown",
      "source": [
        "## Model topics generated"
      ],
      "metadata": {
        "id": "n9ZSCvzlic23"
      }
    },
    {
      "cell_type": "code",
      "execution_count": null,
      "metadata": {
        "id": "LIWrfscBacsR",
        "outputId": "a01945d1-a8c5-4146-c997-9ee215ec109b"
      },
      "outputs": [
        {
          "data": {
            "text/plain": [
              "[(0,\n",
              "  '0.220*\"billion\" + 0.082*\"february\" + 0.051*\"rose\" + 0.050*\"currency\" + 0.047*\"january\" + 0.028*\"surplus\" + 0.022*\"the\" + 0.020*\"figures\" + 0.020*\"account\" + 0.019*\"revised\"'),\n",
              " (1,\n",
              "  '0.255*\"sugar\" + 0.089*\"short\" + 0.079*\"tons\" + 0.034*\"appreciation\" + 0.029*\"drilling\" + 0.025*\"television\" + 0.024*\"cited\" + 0.017*\"tighten\" + 0.015*\"former\" + 0.014*\"economics\"'),\n",
              " (2,\n",
              "  '0.122*\"production\" + 0.119*\"prices\" + 0.069*\"june\" + 0.056*\"petroleum\" + 0.049*\"price\" + 0.047*\"bpd\" + 0.034*\"energy\" + 0.028*\"lbs\" + 0.027*\"barley\" + 0.026*\"output\"'),\n",
              " (3,\n",
              "  '0.102*\"share\" + 0.063*\"per\" + 0.062*\"dividend\" + 0.053*\"cts\" + 0.044*\"nil\" + 0.042*\"stock\" + 0.042*\"income\" + 0.037*\"april\" + 0.036*\"tax\" + 0.030*\"gains\"'),\n",
              " (4,\n",
              "  '0.060*\"department\" + 0.053*\"may\" + 0.048*\"tonnes\" + 0.048*\"us\" + 0.047*\"export\" + 0.044*\"corn\" + 0.038*\"the\" + 0.037*\"cocoa\" + 0.036*\"agriculture\" + 0.036*\"tonne\"'),\n",
              " (5,\n",
              "  '0.092*\"coffee\" + 0.067*\"producers\" + 0.064*\"proposed\" + 0.053*\"change\" + 0.050*\"among\" + 0.037*\"producer\" + 0.035*\"meeting\" + 0.034*\"quotas\" + 0.034*\"export\" + 0.029*\"santa\"'),\n",
              " (6,\n",
              "  '0.152*\"shares\" + 0.120*\"stock\" + 0.076*\"pct\" + 0.067*\"common\" + 0.037*\"stake\" + 0.037*\"securities\" + 0.031*\"exchange\" + 0.030*\"outstanding\" + 0.028*\"commission\" + 0.023*\"acquired\"'),\n",
              " (7,\n",
              "  '0.219*\"states\" + 0.176*\"united\" + 0.087*\"south\" + 0.078*\"subject\" + 0.041*\"regulatory\" + 0.028*\"corps\" + 0.026*\"lines\" + 0.025*\"transport\" + 0.023*\"transfer\" + 0.019*\"various\"'),\n",
              " (8,\n",
              "  '0.137*\"grain\" + 0.120*\"wheat\" + 0.076*\"union\" + 0.067*\"usda\" + 0.046*\"soviet\" + 0.037*\"program\" + 0.031*\"agriculture\" + 0.030*\"plant\" + 0.026*\"maize\" + 0.025*\"shipments\"'),\n",
              " (9,\n",
              "  '0.178*\"profit\" + 0.132*\"cts\" + 0.066*\"prior\" + 0.061*\"vs\" + 0.060*\"reuter\" + 0.057*\"april\" + 0.049*\"record\" + 0.041*\"div\" + 0.037*\"pay\" + 0.037*\"six\"'),\n",
              " (10,\n",
              "  '0.427*\"pct\" + 0.075*\"rate\" + 0.034*\"rise\" + 0.027*\"growth\" + 0.026*\"three\" + 0.022*\"average\" + 0.021*\"compared\" + 0.021*\"forecast\" + 0.020*\"year\" + 0.014*\"increase\"'),\n",
              " (11,\n",
              "  '0.123*\"american\" + 0.069*\"services\" + 0.067*\"given\" + 0.062*\"fund\" + 0.062*\"trust\" + 0.049*\"reflect\" + 0.040*\"began\" + 0.031*\"brothers\" + 0.022*\"public\" + 0.020*\"shearson\"'),\n",
              " (12,\n",
              "  '0.203*\"products\" + 0.084*\"division\" + 0.073*\"ships\" + 0.055*\"undisclosed\" + 0.049*\"vice\" + 0.036*\"loading\" + 0.026*\"portland\" + 0.026*\"load\" + 0.025*\"hrs\" + 0.022*\"ontario\"'),\n",
              " (13,\n",
              "  '0.185*\"dlrs\" + 0.059*\"quarter\" + 0.058*\"year\" + 0.040*\"first\" + 0.036*\"sales\" + 0.034*\"earnings\" + 0.020*\"operating\" + 0.020*\"ended\" + 0.020*\"reported\" + 0.020*\"period\"'),\n",
              " (14,\n",
              "  '0.217*\"vs\" + 0.104*\"loss\" + 0.092*\"mln\" + 0.090*\"cts\" + 0.079*\"net\" + 0.067*\"shr\" + 0.045*\"dlrs\" + 0.043*\"revs\" + 0.033*\"reuter\" + 0.026*\"note\"'),\n",
              " (15,\n",
              "  '0.072*\"deficit\" + 0.052*\"reduce\" + 0.045*\"unchanged\" + 0.045*\"fell\" + 0.037*\"losses\" + 0.035*\"help\" + 0.033*\"certificates\" + 0.032*\"balance\" + 0.029*\"start\" + 0.028*\"francs\"'),\n",
              " (16,\n",
              "  '0.129*\"bank\" + 0.059*\"banks\" + 0.049*\"the\" + 0.039*\"rates\" + 0.036*\"market\" + 0.034*\"money\" + 0.027*\"said\" + 0.025*\"dealers\" + 0.025*\"federal\" + 0.024*\"march\"'),\n",
              " (17,\n",
              "  '0.088*\"said\" + 0.043*\"the\" + 0.033*\"year\" + 0.032*\"last\" + 0.019*\"years\" + 0.018*\"month\" + 0.018*\"interest\" + 0.017*\"west\" + 0.016*\"report\" + 0.016*\"expected\"'),\n",
              " (18,\n",
              "  '0.094*\"offer\" + 0.050*\"tender\" + 0.041*\"assets\" + 0.034*\"general\" + 0.034*\"merger\" + 0.030*\"share\" + 0.030*\"bid\" + 0.027*\"action\" + 0.027*\"plan\" + 0.024*\"would\"'),\n",
              " (19,\n",
              "  '0.354*\"tonnes\" + 0.066*\"week\" + 0.058*\"wheat\" + 0.050*\"china\" + 0.044*\"soybean\" + 0.041*\"total\" + 0.038*\"exports\" + 0.023*\"previous\" + 0.021*\"figures\" + 0.021*\"bushels\"'),\n",
              " (20,\n",
              "  '0.838*\"mln\" + 0.014*\"estimates\" + 0.008*\"estimated\" + 0.008*\"fair\" + 0.008*\"forecast\" + 0.008*\"projected\" + 0.008*\"yearago\" + 0.008*\"dividends\" + 0.005*\"profitability\" + 0.004*\"four\"'),\n",
              " (21,\n",
              "  '0.131*\"said\" + 0.054*\"reuter\" + 0.047*\"the\" + 0.042*\"company\" + 0.033*\"inc\" + 0.033*\"dlrs\" + 0.029*\"corp\" + 0.018*\"group\" + 0.018*\"co\" + 0.016*\"it\"'),\n",
              " (22,\n",
              "  '0.214*\"systems\" + 0.078*\"vessels\" + 0.028*\"marine\" + 0.014*\"pulp\" + 0.000*\"cafeterias\" + 0.000*\"ketchup\" + 0.000*\"heinzufe\" + 0.000*\"imaginable\" + 0.000*\"watchers\" + 0.000*\"seoulheinz\"'),\n",
              " (23,\n",
              "  '0.092*\"dollar\" + 0.059*\"exchange\" + 0.051*\"countries\" + 0.046*\"economic\" + 0.040*\"rate\" + 0.038*\"foreign\" + 0.031*\"monetary\" + 0.029*\"growth\" + 0.026*\"economy\" + 0.022*\"markets\"'),\n",
              " (24,\n",
              "  '0.118*\"gulf\" + 0.090*\"brazil\" + 0.087*\"amount\" + 0.039*\"significant\" + 0.035*\"commodities\" + 0.024*\"india\" + 0.024*\"coast\" + 0.024*\"debentures\" + 0.023*\"taiwan\" + 0.021*\"grade\"'),\n",
              " (25,\n",
              "  '0.241*\"oil\" + 0.061*\"crude\" + 0.052*\"barrels\" + 0.051*\"stocks\" + 0.048*\"gas\" + 0.044*\"north\" + 0.033*\"texas\" + 0.032*\"per\" + 0.023*\"feet\" + 0.022*\"prices\"'),\n",
              " (26,\n",
              "  '0.145*\"credit\" + 0.055*\"closing\" + 0.050*\"chief\" + 0.046*\"officer\" + 0.044*\"hutton\" + 0.039*\"australia\" + 0.031*\"cover\" + 0.021*\"ef\" + 0.021*\"president\" + 0.021*\"line\"'),\n",
              " (27,\n",
              "  '0.138*\"resources\" + 0.092*\"gas\" + 0.070*\"natural\" + 0.049*\"operate\" + 0.036*\"algeria\" + 0.026*\"kilos\" + 0.026*\"ports\" + 0.025*\"went\" + 0.023*\"stage\" + 0.014*\"harvesting\"'),\n",
              " (28,\n",
              "  '0.078*\"said\" + 0.036*\"us\" + 0.035*\"would\" + 0.029*\"the\" + 0.025*\"trade\" + 0.017*\"market\" + 0.015*\"he\" + 0.014*\"could\" + 0.014*\"japan\" + 0.013*\"told\"'),\n",
              " (29,\n",
              "  '0.053*\"full\" + 0.045*\"approved\" + 0.044*\"name\" + 0.036*\"diluted\" + 0.035*\"receive\" + 0.032*\"head\" + 0.030*\"primary\" + 0.029*\"directors\" + 0.029*\"feed\" + 0.029*\"adjustment\"')]"
            ]
          },
          "execution_count": 83,
          "metadata": {},
          "output_type": "execute_result"
        }
      ],
      "source": [
        "lda_model.print_topics(30,10)"
      ]
    },
    {
      "cell_type": "markdown",
      "source": [
        "## Retrieve of the predicted topics"
      ],
      "metadata": {
        "id": "vTVaklPkigdX"
      }
    },
    {
      "cell_type": "code",
      "execution_count": null,
      "metadata": {
        "id": "K-9qiDSjacsR",
        "outputId": "0fa72487-eb9f-4fa2-af44-dd66b7874de4"
      },
      "outputs": [
        {
          "name": "stderr",
          "output_type": "stream",
          "text": [
            "C:\\Users\\eloid\\AppData\\Local\\Temp/ipykernel_9568/3404807775.py:6: SettingWithCopyWarning: \n",
            "A value is trying to be set on a copy of a slice from a DataFrame.\n",
            "Try using .loc[row_indexer,col_indexer] = value instead\n",
            "\n",
            "See the caveats in the documentation: https://pandas.pydata.org/pandas-docs/stable/user_guide/indexing.html#returning-a-view-versus-a-copy\n",
            "  reuters_train['predicted_topic']=topics_train\n"
          ]
        },
        {
          "data": {
            "text/html": [
              "<div>\n",
              "<style scoped>\n",
              "    .dataframe tbody tr th:only-of-type {\n",
              "        vertical-align: middle;\n",
              "    }\n",
              "\n",
              "    .dataframe tbody tr th {\n",
              "        vertical-align: top;\n",
              "    }\n",
              "\n",
              "    .dataframe thead th {\n",
              "        text-align: right;\n",
              "    }\n",
              "</style>\n",
              "<table border=\"1\" class=\"dataframe\">\n",
              "  <thead>\n",
              "    <tr style=\"text-align: right;\">\n",
              "      <th></th>\n",
              "      <th>purpose</th>\n",
              "      <th>doc.title</th>\n",
              "      <th>doc.text</th>\n",
              "      <th>doc.text.token</th>\n",
              "      <th>real_topic</th>\n",
              "      <th>predicted_topic</th>\n",
              "    </tr>\n",
              "  </thead>\n",
              "  <tbody>\n",
              "    <tr>\n",
              "      <th>0</th>\n",
              "      <td>train</td>\n",
              "      <td>BAHIA COCOA REVIEW</td>\n",
              "      <td>showers continued throughout week bahia cocoa ...</td>\n",
              "      <td>[showers, continued, throughout, week, bahia, ...</td>\n",
              "      <td>28.0</td>\n",
              "      <td>28</td>\n",
              "    </tr>\n",
              "    <tr>\n",
              "      <th>4</th>\n",
              "      <td>train</td>\n",
              "      <td>NATIONAL AVERAGE PRICES FOR FARMER-OWNED RESERVE</td>\n",
              "      <td>the us agriculture department reported farmero...</td>\n",
              "      <td>[the, us, agriculture, department, reported, f...</td>\n",
              "      <td>10.0</td>\n",
              "      <td>2</td>\n",
              "    </tr>\n",
              "    <tr>\n",
              "      <th>5</th>\n",
              "      <td>train</td>\n",
              "      <td>ARGENTINE 1986/87 GRAIN/OILSEED REGISTRATIONS</td>\n",
              "      <td>argentine grain board figures show crop regist...</td>\n",
              "      <td>[argentine, grain, board, figures, show, crop,...</td>\n",
              "      <td>21.0</td>\n",
              "      <td>8</td>\n",
              "    </tr>\n",
              "    <tr>\n",
              "      <th>8</th>\n",
              "      <td>train</td>\n",
              "      <td>CHAMPION PRODUCTS &amp;lt;CH&gt; APPROVES STOCK SPLIT</td>\n",
              "      <td>champion products inc said board directors app...</td>\n",
              "      <td>[champion, products, inc, said, board, directo...</td>\n",
              "      <td>1.0</td>\n",
              "      <td>21</td>\n",
              "    </tr>\n",
              "    <tr>\n",
              "      <th>9</th>\n",
              "      <td>train</td>\n",
              "      <td>COMPUTER TERMINAL SYSTEMS &amp;lt;CPML&gt; COMPLETES ...</td>\n",
              "      <td>computer terminal systems inc said completed s...</td>\n",
              "      <td>[computer, terminal, systems, inc, said, compl...</td>\n",
              "      <td>2.0</td>\n",
              "      <td>21</td>\n",
              "    </tr>\n",
              "    <tr>\n",
              "      <th>...</th>\n",
              "      <td>...</td>\n",
              "      <td>...</td>\n",
              "      <td>...</td>\n",
              "      <td>...</td>\n",
              "      <td>...</td>\n",
              "      <td>...</td>\n",
              "    </tr>\n",
              "    <tr>\n",
              "      <th>14770</th>\n",
              "      <td>train</td>\n",
              "      <td>N.Z. UNEMPLOYMENT RATE 3.9 PCT IN DECEMBER QUA...</td>\n",
              "      <td>new zealands unemployment rate 39 pct workforc...</td>\n",
              "      <td>[new, zealands, unemployment, rate, 39, pct, w...</td>\n",
              "      <td>27.0</td>\n",
              "      <td>13</td>\n",
              "    </tr>\n",
              "    <tr>\n",
              "      <th>14778</th>\n",
              "      <td>train</td>\n",
              "      <td>BANK OF JAPAN INTERVENES SOON AFTER TOKYO OPENING</td>\n",
              "      <td>the bank japan bought small amount dollars sho...</td>\n",
              "      <td>[the, bank, japan, bought, small, amount, doll...</td>\n",
              "      <td>13.0</td>\n",
              "      <td>28</td>\n",
              "    </tr>\n",
              "    <tr>\n",
              "      <th>14784</th>\n",
              "      <td>train</td>\n",
              "      <td>SOUTH KOREAN WON FIXED AT 25-MONTH HIGH</td>\n",
              "      <td>the bank of korea said it fixed the midrate of...</td>\n",
              "      <td>[the, bank, of, korea, said, it, fixed, the, m...</td>\n",
              "      <td>3.0</td>\n",
              "      <td>17</td>\n",
              "    </tr>\n",
              "    <tr>\n",
              "      <th>14804</th>\n",
              "      <td>train</td>\n",
              "      <td>NIPPON MINING LOWERS COPPER PRICE</td>\n",
              "      <td>nippon mining co ltd said lowered selling pric...</td>\n",
              "      <td>[nippon, mining, co, ltd, said, lowered, selli...</td>\n",
              "      <td>24.0</td>\n",
              "      <td>21</td>\n",
              "    </tr>\n",
              "    <tr>\n",
              "      <th>14817</th>\n",
              "      <td>train</td>\n",
              "      <td>AUSTRALIAN UNIONS LAUNCH NEW SOUTH WALES STRIKES</td>\n",
              "      <td>australian trade unions said launched weeklong...</td>\n",
              "      <td>[australian, trade, unions, said, launched, we...</td>\n",
              "      <td>8.0</td>\n",
              "      <td>28</td>\n",
              "    </tr>\n",
              "  </tbody>\n",
              "</table>\n",
              "<p>6747 rows × 6 columns</p>\n",
              "</div>"
            ],
            "text/plain": [
              "      purpose                                          doc.title  \\\n",
              "0       train                                 BAHIA COCOA REVIEW   \n",
              "4       train   NATIONAL AVERAGE PRICES FOR FARMER-OWNED RESERVE   \n",
              "5       train      ARGENTINE 1986/87 GRAIN/OILSEED REGISTRATIONS   \n",
              "8       train     CHAMPION PRODUCTS &lt;CH> APPROVES STOCK SPLIT   \n",
              "9       train  COMPUTER TERMINAL SYSTEMS &lt;CPML> COMPLETES ...   \n",
              "...       ...                                                ...   \n",
              "14770   train  N.Z. UNEMPLOYMENT RATE 3.9 PCT IN DECEMBER QUA...   \n",
              "14778   train  BANK OF JAPAN INTERVENES SOON AFTER TOKYO OPENING   \n",
              "14784   train            SOUTH KOREAN WON FIXED AT 25-MONTH HIGH   \n",
              "14804   train                  NIPPON MINING LOWERS COPPER PRICE   \n",
              "14817   train   AUSTRALIAN UNIONS LAUNCH NEW SOUTH WALES STRIKES   \n",
              "\n",
              "                                                doc.text  \\\n",
              "0      showers continued throughout week bahia cocoa ...   \n",
              "4      the us agriculture department reported farmero...   \n",
              "5      argentine grain board figures show crop regist...   \n",
              "8      champion products inc said board directors app...   \n",
              "9      computer terminal systems inc said completed s...   \n",
              "...                                                  ...   \n",
              "14770  new zealands unemployment rate 39 pct workforc...   \n",
              "14778  the bank japan bought small amount dollars sho...   \n",
              "14784  the bank of korea said it fixed the midrate of...   \n",
              "14804  nippon mining co ltd said lowered selling pric...   \n",
              "14817  australian trade unions said launched weeklong...   \n",
              "\n",
              "                                          doc.text.token  real_topic  \\\n",
              "0      [showers, continued, throughout, week, bahia, ...        28.0   \n",
              "4      [the, us, agriculture, department, reported, f...        10.0   \n",
              "5      [argentine, grain, board, figures, show, crop,...        21.0   \n",
              "8      [champion, products, inc, said, board, directo...         1.0   \n",
              "9      [computer, terminal, systems, inc, said, compl...         2.0   \n",
              "...                                                  ...         ...   \n",
              "14770  [new, zealands, unemployment, rate, 39, pct, w...        27.0   \n",
              "14778  [the, bank, japan, bought, small, amount, doll...        13.0   \n",
              "14784  [the, bank, of, korea, said, it, fixed, the, m...         3.0   \n",
              "14804  [nippon, mining, co, ltd, said, lowered, selli...        24.0   \n",
              "14817  [australian, trade, unions, said, launched, we...         8.0   \n",
              "\n",
              "       predicted_topic  \n",
              "0                   28  \n",
              "4                    2  \n",
              "5                    8  \n",
              "8                   21  \n",
              "9                   21  \n",
              "...                ...  \n",
              "14770               13  \n",
              "14778               28  \n",
              "14784               17  \n",
              "14804               21  \n",
              "14817               28  \n",
              "\n",
              "[6747 rows x 6 columns]"
            ]
          },
          "execution_count": 87,
          "metadata": {},
          "output_type": "execute_result"
        }
      ],
      "source": [
        "from operator import itemgetter\n",
        "reuters_train = reuters[reuters[\"purpose\"]==\"train\"]\n",
        "topics_train = []\n",
        "for text in reuters_train[\"doc.text.token\"]:\n",
        "    topics_train.append(max(lda_model[id2word.doc2bow(text)],key=itemgetter(1))[0])\n",
        "reuters_train['predicted_topic']=topics_train\n",
        "reuters_train"
      ]
    },
    {
      "cell_type": "markdown",
      "source": [
        "## Performance metrics"
      ],
      "metadata": {
        "id": "Y6GDDM3RiuJ4"
      }
    },
    {
      "cell_type": "code",
      "source": [
        "#Clustering Performance\n",
        "from sklearn.metrics.cluster import adjusted_rand_score\n",
        "from sklearn.metrics.cluster import normalized_mutual_info_score\n",
        "from sklearn.metrics.cluster import adjusted_mutual_info_score\n",
        "from sklearn.metrics.cluster import fowlkes_mallows_score\n",
        "print(adjusted_rand_score(reuters_train[\"real_topic\"],reuters_train[\"predicted_topic\"]))\n",
        "print(normalized_mutual_info_score(reuters_train[\"real_topic\"],reuters_train[\"predicted_topic\"]))\n",
        "print(adjusted_mutual_info_score(reuters_train[\"real_topic\"],reuters_train[\"predicted_topic\"]))\n",
        "print(fowlkes_mallows_score(reuters_train[\"real_topic\"],reuters_train[\"predicted_topic\"]))"
      ],
      "metadata": {
        "colab": {
          "base_uri": "https://localhost:8080/"
        },
        "id": "fc2PpaJ7jEEi",
        "outputId": "1273e7cc-49b1-4c27-c564-574a0b64d71a"
      },
      "execution_count": 2,
      "outputs": [
        {
          "output_type": "stream",
          "name": "stdout",
          "text": [
            "0.7272164259337847\n",
            "0.8048761522738317\n",
            "0.7935778389395145\n",
            "0.8574752671362691\n"
          ]
        }
      ]
    },
    {
      "cell_type": "markdown",
      "metadata": {
        "id": "SzdomrdaacsS"
      },
      "source": [
        "## Visualization of the generated model topics"
      ]
    },
    {
      "cell_type": "code",
      "execution_count": null,
      "metadata": {
        "id": "HY08RhmOacsS",
        "outputId": "11e9ad34-2428-4ea2-9959-bb5fdd5983c3"
      },
      "outputs": [
        {
          "name": "stderr",
          "output_type": "stream",
          "text": [
            "c:\\Users\\eloid\\AppData\\Local\\Programs\\Python\\Python39\\lib\\site-packages\\pyLDAvis\\_prepare.py:228: FutureWarning: In a future version of pandas all arguments of DataFrame.drop except for the argument 'labels' will be keyword-only\n",
            "  default_term_info  = pd.DataFrame({'saliency': saliency, 'Term': vocab, \\\n"
          ]
        },
        {
          "data": {
            "text/html": [
              "\n",
              "<link rel=\"stylesheet\" type=\"text/css\" href=\"https://cdn.rawgit.com/bmabey/pyLDAvis/files/ldavis.v1.0.0.css\">\n",
              "\n",
              "\n",
              "<div id=\"ldavis_el956820556558652483352731456\"></div>\n",
              "<script type=\"text/javascript\">\n",
              "\n",
              "var ldavis_el956820556558652483352731456_data = {\"mdsDat\": {\"x\": [0.1178651107931244, -0.022301044856228035, -0.23068690844484452, -0.4654737632152881, -0.4641647129961798, -0.31610832588589455, -0.4291639861231846, -0.06431541977931376, 0.318664656901787, 0.42931212677039926, 0.4209798203272429, -0.15627184182497136, 0.23555955378175264, -0.27777616581164144, 0.3537484974986493, 0.07831593273217771, -0.2947288190778897, -0.2820939832646686, 0.4039403625015412, -0.19194719156569248, 0.31783937662066103, -0.09673752986565884, 0.055256033193272755, -0.0651569486610907, 0.2189835256662317, 0.055437941226918336, 0.09609109878679625, 0.17962683997308457, -0.0035003033630864747, 0.07880606796199419], \"y\": [0.4747204278339725, 0.4908281592821238, 0.4290223988289798, 0.14755596686971026, -0.10375508226760857, 0.30692533170334907, 0.006898265477086834, 0.3715579050744061, 0.33542833727002014, 0.18833089655136767, -0.27283599774833256, 0.22052384574332665, 0.23141295862567504, 0.10436049508079896, 0.05361835222745029, 0.2136703610628311, -0.29972905691039514, -0.1728616705530474, -0.05740576893437411, -0.4071989702213203, -0.1534331369409887, -0.11722306229510503, 0.041042256305611466, -0.3734639788213803, -0.36947723655533243, -0.42736614964075786, -0.2986943399364852, -0.19115046606519126, -0.21681062696766512, -0.15449041407872557], \"topics\": [1, 2, 3, 4, 5, 6, 7, 8, 9, 10, 11, 12, 13, 14, 15, 16, 17, 18, 19, 20, 21, 22, 23, 24, 25, 26, 27, 28, 29, 30], \"cluster\": [1, 1, 1, 1, 1, 1, 1, 1, 1, 1, 1, 1, 1, 1, 1, 1, 1, 1, 1, 1, 1, 1, 1, 1, 1, 1, 1, 1, 1, 1], \"Freq\": [21.215958705663898, 15.915279568040905, 10.504656222561799, 6.340984989931803, 5.280830216781339, 4.026356498505989, 3.808259329486318, 3.7168719754070643, 3.27336068773917, 2.8940423993159428, 2.439157813394053, 2.2941479686622737, 1.9655578815833994, 1.7897948961192387, 1.6661918903221915, 1.6319622335466804, 1.5947433739583734, 1.3510482712903062, 1.2144924679876192, 1.1814760307742855, 0.832963604432475, 0.8172770009638317, 0.7908730988901743, 0.7523993421316998, 0.7437245120677927, 0.6933137892538683, 0.4390436923872951, 0.40417323921004444, 0.30676640266787747, 0.11429189692229756]}, \"tinfo\": {\"Term\": [\"mln\", \"pct\", \"vs\", \"dlrs\", \"said\", \"billion\", \"cts\", \"us\", \"the\", \"loss\", \"reuter\", \"bank\", \"oil\", \"tonnes\", \"shares\", \"net\", \"stock\", \"would\", \"profit\", \"year\", \"share\", \"shr\", \"dollar\", \"company\", \"april\", \"rate\", \"offer\", \"prices\", \"february\", \"market\", \"he\", \"could\", \"japan\", \"told\", \"officials\", \"policy\", \"analysts\", \"take\", \"committee\", \"asked\", \"mark\", \"reuters\", \"dollars\", \"open\", \"much\", \"following\", \"closed\", \"might\", \"range\", \"house\", \"issue\", \"need\", \"analyst\", \"if\", \"there\", \"near\", \"several\", \"back\", \"whether\", \"comment\", \"official\", \"trade\", \"us\", \"would\", \"noted\", \"world\", \"state\", \"market\", \"but\", \"time\", \"trading\", \"said\", \"meeting\", \"industry\", \"sources\", \"spokesman\", \"new\", \"president\", \"the\", \"week\", \"also\", \"one\", \"two\", \"reuter\", \"last\", \"today\", \"may\", \"corp\", \"co\", \"ltd\", \"acquisition\", \"subsidiary\", \"unit\", \"sold\", \"purchase\", \"previously\", \"completed\", \"additional\", \"owned\", \"acquire\", \"cents\", \"purchases\", \"transaction\", \"copper\", \"leading\", \"holding\", \"firms\", \"home\", \"mining\", \"recently\", \"delivery\", \"deal\", \"equity\", \"shareholder\", \"letter\", \"right\", \"equipment\", \"inc\", \"group\", \"business\", \"approval\", \"company\", \"industries\", \"sale\", \"terms\", \"announced\", \"cash\", \"said\", \"reuter\", \"it\", \"financial\", \"the\", \"sell\", \"shareholders\", \"dlrs\", \"new\", \"also\", \"agreement\", \"price\", \"board\", \"one\", \"april\", \"two\", \"agreed\", \"pct\", \"report\", \"canadian\", \"cut\", \"minister\", \"canada\", \"half\", \"cost\", \"continued\", \"agency\", \"capacity\", \"points\", \"supplies\", \"key\", \"areas\", \"growing\", \"expansion\", \"base\", \"longterm\", \"lead\", \"return\", \"reduction\", \"study\", \"to\", \"northern\", \"increasing\", \"quoted\", \"standard\", \"nearly\", \"raising\", \"falling\", \"month\", \"west\", \"years\", \"less\", \"lower\", \"contract\", \"high\", \"level\", \"current\", \"expected\", \"higher\", \"last\", \"interest\", \"due\", \"likely\", \"government\", \"decline\", \"year\", \"said\", \"the\", \"early\", \"increase\", \"in\", \"since\", \"pct\", \"it\", \"five\", \"shr\", \"revs\", \"avg\", \"oper\", \"shrs\", \"mths\", \"excludes\", \"th\", \"taxes\", \"periods\", \"writedowns\", \"loss\", \"yr\", \"formerly\", \"vs\", \"note\", \"yrago\", \"includes\", \"qtr\", \"net\", \"gain\", \"cts\", \"extraordinary\", \"nine\", \"include\", \"eight\", \"mln\", \"sales\", \"yearago\", \"losses\", \"dlrs\", \"year\", \"reuter\", \"dlr\", \"sale\", \"one\", \"quarter\", \"revenues\", \"earned\", \"fourth\", \"continuing\", \"seek\", \"steel\", \"totalled\", \"reach\", \"totaled\", \"orders\", \"versus\", \"quarters\", \"mill\", \"backlog\", \"totalling\", \"actual\", \"earnings\", \"los\", \"shortfall\", \"angeles\", \"care\", \"expenditures\", \"customs\", \"lambert\", \"reporting\", \"corresponding\", \"cars\", \"weight\", \"retired\", \"pressure\", \"ended\", \"operating\", \"reported\", \"fiscal\", \"expects\", \"dlrs\", \"first\", \"period\", \"sales\", \"profits\", \"ago\", \"operations\", \"second\", \"months\", \"year\", \"compared\", \"december\", \"data\", \"companys\", \"share\", \"march\", \"earlier\", \"company\", \"in\", \"previous\", \"said\", \"loss\", \"bank\", \"banks\", \"money\", \"dealers\", \"reserve\", \"loans\", \"funds\", \"fed\", \"discount\", \"units\", \"paper\", \"call\", \"monday\", \"deposits\", \"offset\", \"manager\", \"deposit\", \"na\", \"yearonyear\", \"institutions\", \"borrowings\", \"float\", \"excluding\", \"averaged\", \"because\", \"thomas\", \"statistical\", \"feds\", \"acceptances\", \"zealands\", \"banking\", \"rates\", \"federal\", \"supply\", \"days\", \"commercial\", \"fell\", \"reserves\", \"market\", \"march\", \"weekly\", \"today\", \"securities\", \"the\", \"around\", \"reuter\", \"system\", \"said\", \"week\", \"one\", \"pct\", \"billion\", \"currency\", \"surplus\", \"account\", \"revised\", \"february\", \"adjusted\", \"economists\", \"brazilian\", \"telephone\", \"countrys\", \"seasonally\", \"quality\", \"view\", \"monthly\", \"surpluses\", \"pesos\", \"seems\", \"hands\", \"crisis\", \"movement\", \"moving\", \"drought\", \"seemed\", \"philippine\", \"slide\", \"averaging\", \"january\", \"distance\", \"polled\", \"rose\", \"figures\", \"november\", \"fixed\", \"debt\", \"previous\", \"rising\", \"end\", \"december\", \"imports\", \"exports\", \"increased\", \"earlier\", \"total\", \"current\", \"the\", \"year\", \"reuter\", \"foreign\", \"trade\", \"last\", \"dollar\", \"countries\", \"economic\", \"monetary\", \"economy\", \"inflation\", \"target\", \"bags\", \"consumer\", \"present\", \"consumption\", \"stability\", \"situation\", \"bankers\", \"external\", \"slow\", \"policies\", \"unemployment\", \"consumers\", \"brazils\", \"producing\", \"oecd\", \"economist\", \"modest\", \"agree\", \"rises\", \"cooperation\", \"reflecting\", \"utility\", \"success\", \"exchange\", \"foreign\", \"particularly\", \"industrial\", \"growth\", \"markets\", \"rate\", \"rise\", \"exports\", \"demand\", \"domestic\", \"prices\", \"around\", \"but\", \"fall\", \"international\", \"tender\", \"assets\", \"general\", \"merger\", \"plan\", \"preferred\", \"savings\", \"offers\", \"offering\", \"payment\", \"institute\", \"properties\", \"restructuring\", \"related\", \"expenses\", \"freight\", \"forward\", \"granted\", \"amounts\", \"needs\", \"america\", \"carry\", \"middle\", \"customer\", \"primarily\", \"asset\", \"reorganization\", \"institutional\", \"wall\", \"bancorp\", \"offer\", \"action\", \"bid\", \"certain\", \"association\", \"loan\", \"offered\", \"companys\", \"proposal\", \"release\", \"share\", \"federal\", \"board\", \"would\", \"per\", \"dlr\", \"shares\", \"common\", \"stake\", \"outstanding\", \"disclosed\", \"distribution\", \"filing\", \"pacific\", \"convertible\", \"investments\", \"purposes\", \"hong\", \"kong\", \"zealand\", \"feb\", \"when\", \"mortgage\", \"throughout\", \"guaranteed\", \"obtained\", \"publicly\", \"fit\", \"acquired\", \"exchangeable\", \"raised\", \"principally\", \"stock\", \"securities\", \"holdings\", \"commission\", \"firm\", \"exchange\", \"investment\", \"pct\", \"total\", \"buy\", \"bought\", \"share\", \"held\", \"control\", \"in\", \"march\", \"currently\", \"estimates\", \"fair\", \"projected\", \"dividends\", \"profitability\", \"mln\", \"yearago\", \"estimated\", \"forecast\", \"stocks\", \"four\", \"stg\", \"foodservice\", \"laundry\", \"cafeterias\", \"bottling\", \"ltpep\", \"watchers\", \"seoulheinz\", \"coinoperated\", \"imaginable\", \"ketchup\", \"vending\", \"heinzufe\", \"heinzjapan\", \"geography\", \"mottek\", \"allsuite\", \"dslr\", \"outstripped\", \"slightly\", \"companyts\", \"lynn\", \"ltmanitoba\", \"inspiration\", \"pepsicola\", \"manitoba\", \"in\", \"undergo\", \"less\", \"locals\", \"st\", \"gross\", \"river\", \"afternoon\", \"port\", \"yesterdays\", \"gdp\", \"sectors\", \"mississippi\", \"workforce\", \"merchants\", \"firmed\", \"section\", \"louis\", \"comparison\", \"excellent\", \"barges\", \"pickup\", \"quotes\", \"pct\", \"forecast\", \"average\", \"rise\", \"rate\", \"activity\", \"product\", \"research\", \"real\", \"sector\", \"compared\", \"growth\", \"three\", \"increase\", \"this\", \"four\", \"year\", \"annual\", \"two\", \"five\", \"reuter\", \"last\", \"costs\", \"terms\", \"the\", \"dividend\", \"nil\", \"income\", \"gains\", \"split\", \"charge\", \"declared\", \"initial\", \"class\", \"holders\", \"quarterly\", \"rev\", \"dec\", \"threefortwo\", \"payout\", \"classes\", \"payable\", \"tax\", \"share\", \"paid\", \"per\", \"results\", \"record\", \"final\", \"shareholders\", \"cumulative\", \"july\", \"five\", \"stock\", \"making\", \"april\", \"cts\", \"may\", \"board\", \"net\", \"reuter\", \"operations\", \"march\", \"profit\", \"prior\", \"div\", \"qtly\", \"exclude\", \"carryforwards\", \"sept\", \"credits\", \"pay\", \"record\", \"seven\", \"six\", \"payable\", \"cts\", \"april\", \"four\", \"qtr\", \"may\", \"three\", \"vs\", \"note\", \"one\", \"nine\", \"reuter\", \"two\", \"cafeterias\", \"nacional\", \"palomino\", \"ltpep\", \"laundry\", \"march\", \"pepsicola\", \"vending\", \"seoulheinz\", \"ketchup\", \"foodservice\", \"coinoperated\", \"watchers\", \"ltmanitoba\", \"production\", \"petroleum\", \"bpd\", \"energy\", \"lbs\", \"barley\", \"output\", \"court\", \"winter\", \"smith\", \"opec\", \"differentials\", \"reflects\", \"gmt\", \"associates\", \"emergency\", \"appeared\", \"entered\", \"thought\", \"spot\", \"optimism\", \"never\", \"whollyowned\", \"uncertain\", \"covers\", \"reluctant\", \"mideast\", \"critical\", \"delivered\", \"easy\", \"june\", \"prices\", \"price\", \"supply\", \"demand\", \"world\", \"fixed\", \"average\", \"quota\", \"higher\", \"corn\", \"cocoa\", \"tonne\", \"commodity\", \"shipment\", \"crop\", \"season\", \"farmers\", \"weather\", \"soft\", \"fob\", \"guarantees\", \"dry\", \"shipped\", \"evidence\", \"beans\", \"department\", \"normal\", \"soybeans\", \"agriculture\", \"july\", \"export\", \"september\", \"weekly\", \"private\", \"member\", \"available\", \"exporters\", \"commission\", \"tonnes\", \"may\", \"per\", \"sources\", \"us\", \"sales\", \"prices\", \"the\", \"reuter\", \"oil\", \"crude\", \"barrels\", \"north\", \"texas\", \"feet\", \"barrel\", \"posted\", \"light\", \"regular\", \"tankers\", \"waiting\", \"cubic\", \"enter\", \"over\", \"intermediate\", \"diamond\", \"cenergy\", \"midday\", \"brings\", \"shamrock\", \"houston\", \"stocks\", \"gas\", \"zone\", \"reserves\", \"average\", \"per\", \"well\", \"daily\", \"prices\", \"fell\", \"total\", \"today\", \"deficit\", \"reduce\", \"certificates\", \"start\", \"francs\", \"respectively\", \"fire\", \"certificate\", \"accounting\", \"balances\", \"figure\", \"recorded\", \"swiss\", \"reflected\", \"stockholders\", \"negative\", \"franc\", \"ten\", \"accounted\", \"suggest\", \"machinery\", \"commenting\", \"steep\", \"job\", \"unchanged\", \"somewhat\", \"reasonable\", \"numbers\", \"slowed\", \"projections\", \"losses\", \"balance\", \"help\", \"fell\", \"budget\", \"payments\", \"latest\", \"reserves\", \"net\", \"excess\", \"coffee\", \"producers\", \"proposed\", \"among\", \"producer\", \"quotas\", \"santa\", \"organization\", \"delegates\", \"ico\", \"affect\", \"positions\", \"formal\", \"tonight\", \"enterprises\", \"importers\", \"pledge\", \"change\", \"quota\", \"exporters\", \"tomorrow\", \"session\", \"export\", \"talks\", \"proposal\", \"meeting\", \"international\", \"meet\", \"basic\", \"prices\", \"set\", \"agreement\", \"group\", \"grain\", \"union\", \"usda\", \"soviet\", \"plant\", \"maize\", \"shipments\", \"bonus\", \"eep\", \"white\", \"vegetable\", \"registrations\", \"visit\", \"subsidy\", \"argentine\", \"enhancement\", \"grains\", \"moscow\", \"soviets\", \"subsidized\", \"lyng\", \"oilseed\", \"showing\", \"aide\", \"wheat\", \"program\", \"comprised\", \"agriculture\", \"competitive\", \"initiative\", \"were\", \"an\", \"export\", \"include\", \"offer\", \"administration\", \"name\", \"diluted\", \"receive\", \"head\", \"primary\", \"directors\", \"feed\", \"adjustment\", \"power\", \"authorized\", \"life\", \"equal\", \"nearby\", \"terminal\", \"pork\", \"chinese\", \"twoforone\", \"ensure\", \"principal\", \"occur\", \"voted\", \"ill\", \"dot\", \"hog\", \"recommend\", \"bulletin\", \"obtaining\", \"minneapolis\", \"terminals\", \"chicago\", \"approved\", \"full\", \"service\", \"change\", \"board\", \"david\", \"meeting\", \"gulf\", \"brazil\", \"amount\", \"significant\", \"commodities\", \"india\", \"coast\", \"debentures\", \"taiwan\", \"grade\", \"raw\", \"subordinated\", \"rep\", \"sorghum\", \"la\", \"colombia\", \"thailand\", \"priced\", \"mexico\", \"uruguay\", \"portion\", \"kansas\", \"argentina\", \"philippines\", \"established\", \"ivory\", \"ecuador\", \"ends\", \"only\", \"redeem\", \"june\", \"china\", \"bushels\", \"crushing\", \"processors\", \"soybean\", \"meal\", \"tonnes\", \"soybeans\", \"wheat\", \"week\", \"exports\", \"figures\", \"previous\", \"total\", \"estimated\", \"area\", \"imports\", \"association\", \"compared\", \"traders\", \"watchers\", \"bottling\", \"cafeterias\", \"seoulheinz\", \"mottek\", \"ketchup\", \"imaginable\", \"heinzufe\", \"heinzjapan\", \"geography\", \"added\", \"frost\", \"enrique\", \"last\", \"reuter\", \"conades\", \"year\", \"pepsicola\", \"ltpep\", \"laundry\", \"foodservice\", \"coinoperated\", \"crisanti\", \"edging\", \"given\", \"fund\", \"trust\", \"reflect\", \"began\", \"brothers\", \"shearson\", \"lehman\", \"consideration\", \"internal\", \"brokerage\", \"profitable\", \"got\", \"created\", \"express\", \"contributed\", \"satisfactory\", \"sense\", \"services\", \"investing\", \"spinoff\", \"lewis\", \"american\", \"larry\", \"fully\", \"prudentialbache\", \"public\", \"november\", \"firm\", \"announcement\", \"states\", \"united\", \"south\", \"subject\", \"regulatory\", \"corps\", \"lines\", \"transport\", \"transfer\", \"various\", \"bankruptcy\", \"incs\", \"bodies\", \"appropriated\", \"outstripped\", \"narrower\", \"publiclyheld\", \"hay\", \"disasterstruck\", \"transshipment\", \"broadscale\", \"manitoba\", \"gibson\", \"cognizant\", \"nonnorth\", \"frost\", \"billlion\", \"sullivan\", \"rotational\", \"aeroperu\", \"approval\", \"mottek\", \"familiar\", \"dslr\", \"allsuite\", \"geography\", \"credit\", \"closing\", \"officer\", \"hutton\", \"australia\", \"cover\", \"ef\", \"ccc\", \"post\", \"pipeline\", \"registered\", \"applied\", \"subsidiaries\", \"premium\", \"alone\", \"aftertax\", \"adjustments\", \"components\", \"guarantee\", \"engaged\", \"coverage\", \"partially\", \"center\", \"exposure\", \"divisions\", \"technologies\", \"creates\", \"chief\", \"divestitures\", \"all\", \"corporation\", \"line\", \"president\", \"operating\", \"action\", \"products\", \"division\", \"ships\", \"undisclosed\", \"vice\", \"loading\", \"portland\", \"load\", \"hrs\", \"ontario\", \"enable\", \"advantage\", \"diversified\", \"swing\", \"product\", \"imaginable\", \"laundry\", \"ltmanitoba\", \"inspiration\", \"heinzjapan\", \"vending\", \"pepsicola\", \"ltpep\", \"foodservice\", \"heinzufe\", \"ketchup\", \"coinoperated\", \"cafeterias\", \"manitoba\", \"bottling\", \"sugar\", \"short\", \"tons\", \"appreciation\", \"drilling\", \"television\", \"cited\", \"tighten\", \"economics\", \"fundamental\", \"faces\", \"preserve\", \"former\", \"import\", \"received\", \"intervention\", \"imaginable\", \"broadscale\", \"cafeterias\", \"bottling\", \"watchers\", \"seoulheinz\", \"ketchup\", \"mottek\", \"heinzufe\", \"geography\", \"dslr\", \"allsuite\", \"coinoperated\", \"disasterstruck\", \"narrower\", \"hay\", \"resources\", \"natural\", \"operate\", \"algeria\", \"kilos\", \"ports\", \"went\", \"stage\", \"harvesting\", \"virginia\", \"destinations\", \"algerian\", \"frank\", \"profitably\", \"gas\", \"allotments\", \"appropriated\", \"cafeterias\", \"bottling\", \"watchers\", \"seoulheinz\", \"ketchup\", \"imaginable\", \"heinzufe\", \"fadhil\", \"heinzjapan\", \"geography\", \"mottek\", \"fullfledged\", \"allsuite\", \"commences\", \"companyts\", \"highcost\", \"systems\", \"vessels\", \"marine\", \"pulp\", \"geography\", \"cafeterias\", \"bottling\", \"watchers\", \"seoulheinz\", \"ketchup\", \"imaginable\", \"heinzufe\", \"heinzjapan\", \"scientists\", \"foodservice\", \"mottek\", \"allsuite\", \"dslr\", \"outstripped\", \"narrower\", \"hay\", \"disasterstruck\", \"broadscale\", \"appropriated\", \"gibson\", \"coinoperated\", \"ltpep\", \"laundry\", \"cognizant\", \"estremadoyro\", \"again\"], \"Freq\": [14888.0, 8264.0, 8377.0, 10170.0, 27272.0, 4729.0, 5155.0, 4786.0, 12282.0, 3980.0, 9586.0, 2940.0, 2175.0, 2029.0, 2493.0, 3395.0, 2432.0, 4717.0, 1804.0, 5164.0, 2751.0, 2388.0, 1940.0, 4165.0, 2368.0, 2181.0, 1782.0, 2006.0, 1765.0, 2876.0, 1740.8874598689006, 1722.4062535970847, 1622.6566973063057, 1585.087393868244, 1374.266199770443, 1118.6296236429284, 1048.1189923735656, 802.676609396878, 653.1501677902874, 541.7816702566264, 506.4469911078858, 501.8977092808884, 492.1012266794184, 473.30468717663604, 465.1470723027259, 455.19543458938216, 451.1675409117101, 447.1433865838566, 447.0280248513951, 442.67402638283164, 442.395556443733, 441.41673977033673, 429.27945208805636, 429.0556492108572, 416.54981232668536, 395.6522326210098, 379.5550013864913, 369.97852650121064, 354.9854917813922, 344.451436381013, 961.6867676887729, 2986.7459495840403, 4340.658700858597, 4207.301207867373, 484.6799009470171, 951.3554464408691, 670.2776178054092, 2032.4710197251438, 1020.7164787913919, 739.4676446657231, 772.6199946114108, 9332.514345244803, 955.860749049105, 686.8742475798724, 759.2739202418938, 682.2788657088435, 1521.6618817147616, 641.7681450545651, 3432.917133120672, 898.3965976742453, 1256.3355897947752, 1058.0995960952052, 925.9333371715471, 1316.8209683894413, 889.8606108287711, 745.5472135475644, 785.5993894539454, 2599.701207403417, 1607.1506127236676, 1163.8071391771539, 964.3226220497901, 724.5964510300133, 675.549056985354, 542.0108779935927, 520.8817237562919, 516.1701256680224, 483.37231695808316, 438.6695558502881, 430.7328511398804, 409.3210520951482, 373.30429122710456, 372.7307537930944, 366.1619729151865, 348.73397518639615, 307.69104775717005, 290.08482177401214, 289.79292433697884, 279.6523562965778, 275.35402837482525, 259.09267838436693, 248.59060884940712, 239.31828077590168, 238.33182904574397, 229.88955814186303, 219.13036179830598, 204.48424461346215, 203.47606385722577, 2987.871543703595, 1660.129913811004, 922.1675578493888, 370.9983768353257, 3792.13120971915, 371.535615491667, 828.1683771726265, 560.0216867195462, 618.1261072642825, 854.4014661135781, 11742.452106595823, 4828.056289820045, 1443.3313402736803, 687.7750463234237, 4264.631268223993, 512.2013337082448, 592.8937676689142, 2976.7647038763307, 1240.852822928714, 1004.250942548807, 722.351955677266, 704.7870315904985, 657.9609385239282, 794.8800953595827, 713.389465094117, 688.9503396183748, 562.832978902838, 583.848757027189, 969.6177903198715, 708.3518431207046, 690.111827471131, 619.8395379640618, 531.7631835012745, 418.408928848225, 415.7986685420067, 366.19985399305637, 306.7097725000553, 286.3312882656247, 284.31424256038235, 282.5468681608566, 268.8416129551903, 250.14721487286658, 243.2225183419417, 241.23719622927962, 236.9270985098301, 226.46640965923862, 224.27035225300767, 219.2771057583205, 218.58722815486564, 215.83347938656286, 210.06010332555746, 208.2735234409766, 204.74631866698988, 203.75600648293175, 190.6674546009707, 184.5840964844174, 183.89846066794954, 171.41526843830508, 1087.3588540974251, 982.8195578453877, 1113.8068242851032, 475.7174883092958, 862.9891583641684, 346.8581619798964, 571.0814262522797, 572.498431810059, 862.8485023657071, 945.028026804203, 686.112886243366, 1924.0471645795753, 1073.5572122271944, 670.8462665534055, 543.2477319587398, 932.1295677736006, 464.2512334217679, 1964.861390264313, 5197.709691343924, 2560.858603503744, 407.5703755333979, 551.5078590950945, 614.7212623799761, 476.3117806281382, 651.8023839106614, 480.5450011397843, 440.215333988056, 2387.3608254391543, 1533.024480366186, 601.1512439598187, 595.0073264651447, 570.7693414208062, 270.80808783732584, 175.04982153384034, 144.38466332053818, 103.99329825458864, 97.16803084531179, 65.72193034926902, 3717.452473599769, 17.320642026138856, 16.65884298331895, 7762.682321680654, 948.1625144303596, 10.767805532354503, 581.2832128950869, 269.39372775116965, 2832.8503239498077, 387.5805356463956, 3228.2685062385144, 156.58153822556233, 301.3313930234707, 91.83933455750926, 109.65432495867246, 3286.9668351600562, 368.4593347476903, 30.03913623372427, 63.53196998789184, 1624.1261508252162, 729.2898323772886, 1182.6501722061755, 159.95198216433317, 105.53821850579197, 86.29554010587862, 1766.8361080137086, 316.8276087391243, 235.44398186812015, 222.10835237518984, 207.86872307224374, 203.31639763131886, 177.71424337820872, 176.40432300931133, 166.07825688794938, 137.23232226728373, 125.25251189501483, 120.02840321020234, 78.15001535523169, 73.47359380368091, 60.816123924813674, 60.393276117437985, 56.994577043773376, 1027.07792411348, 52.93231524267283, 50.358755283177636, 49.13249872556924, 48.72135134908739, 46.05649746649739, 39.2420366249024, 32.03132744171263, 31.111334611730637, 29.14229344211538, 27.808296719056056, 26.711172076406044, 24.260640289721437, 273.5891508500419, 607.0043239797021, 609.563485011775, 583.0840728061387, 425.16808374210433, 540.946573716936, 5522.606271402674, 1207.6840666903029, 582.053295753811, 1076.9997625938677, 304.33414632494413, 271.63281379921847, 514.5333979666299, 361.7734612965811, 514.7718936598153, 1720.79343643483, 420.95798461767663, 316.12895861088083, 176.23207766333005, 243.25102058145472, 435.786143163505, 348.83893188224727, 266.5616129717506, 358.51234387024795, 271.3975965883019, 239.72434609134396, 288.91108216605807, 261.949371878175, 2939.5385829087404, 1335.674395857647, 776.8392092874572, 574.5411705232893, 486.01930297790193, 429.1078517993333, 422.2856140069031, 277.5201311251221, 210.33454472602375, 199.97010359306645, 170.02950985186754, 166.96415053872613, 166.60287392988346, 164.54224468324082, 153.80913384656935, 132.10816552331644, 110.71642557366468, 109.8043739887213, 67.79726967327727, 59.782281006881895, 57.94376765709157, 53.658547690151714, 52.71047330340605, 50.31516882008376, 42.66137467587597, 34.69713674598033, 31.550556659560367, 30.154538043934647, 29.75476014589724, 27.934957257554643, 295.69263370677106, 886.7992301660591, 560.8321271643075, 342.36060241059533, 483.10438996784774, 161.47557198361793, 387.97682393024945, 316.62341736873236, 817.2127097278732, 552.2393596602428, 106.73904645105927, 362.0290098273338, 266.8242929257756, 1106.0782545856937, 248.60330096257684, 492.9974524558745, 222.86537449286146, 603.3301785240733, 259.195699384681, 281.71218538648924, 259.6482669458124, 4728.304898507108, 1082.6081621685137, 595.5408853689258, 427.33378421725763, 400.3173863183141, 1759.7381764829245, 304.1450567202231, 249.90095926238692, 214.03203163555028, 147.29522944701753, 145.13626986381036, 126.12790633770899, 124.29445469756406, 123.63558462495185, 117.51322622154132, 108.88934949415454, 72.41334033685945, 71.9049570784387, 68.04902737245422, 65.6407775130203, 51.58985327543379, 44.217371859068265, 41.02337275372153, 34.887617652759, 27.845227457922736, 25.167588519148392, 23.647287501870945, 1014.4589889092928, 13.790938392674773, 11.197516569601294, 1105.1576918644355, 430.130355475466, 121.86852290043763, 185.20446233976386, 356.97658274547103, 302.6156742998192, 166.09723023400963, 337.23316153420706, 238.2510768648747, 264.523691317902, 265.20638442044776, 221.50963793190235, 266.61821451400533, 296.34350530363037, 238.47123452081263, 473.46827383694614, 354.32916088577036, 309.5462325000598, 196.3546020858014, 211.40366419255844, 149.1003499144744, 1939.0069992551976, 1066.2048470429554, 975.4121963969102, 657.1931516037772, 546.9798979791739, 389.1866090086606, 309.2925815462097, 256.0723056690709, 243.9820363767911, 240.86582812306423, 236.9844374582119, 219.76768654254877, 217.78465381534926, 196.77750341168388, 178.34554215606423, 159.7570009836084, 159.62790615146233, 156.65850990293683, 146.35654087727778, 118.97552991239624, 105.05736071173311, 99.87985910545663, 92.57419452934299, 88.72492357392032, 87.81755400464377, 85.02283617589335, 82.34834481507207, 75.11363204153876, 71.81620898272368, 70.42939041743985, 1237.7669998981528, 807.9961749227044, 146.1486769799367, 323.8611039745761, 619.2702662279805, 457.95595311034396, 847.2290360033869, 399.78683666946205, 355.7150753637967, 209.40918291721778, 252.4398745297888, 358.0622292414257, 254.36023226842082, 253.0060027416542, 200.72921521815513, 224.63859892237875, 919.2673973744904, 752.3760295793688, 637.9365415627395, 636.0488084602455, 500.6546081305385, 385.4808103300886, 318.6604455298099, 265.68937542689247, 263.7638745736615, 259.60224043672036, 235.9800192720087, 210.55744921239014, 195.60968645973952, 185.91890872518198, 174.24698599574694, 145.3324059141672, 118.7959283152029, 117.81831534007584, 112.90337560122805, 112.48530399474706, 101.82486121801504, 98.2218987409137, 97.68079347676549, 93.1100689836896, 90.192953704648, 77.29588681844388, 76.57106633268803, 73.77407420065494, 61.189753740097785, 60.88273361500712, 1731.7093403911651, 508.2622696654247, 556.1735117089521, 336.2566007623126, 278.80020984890206, 403.3498302423336, 264.74194393063743, 324.90839915034263, 200.54873693777182, 143.04631173447544, 562.3471009210572, 264.3028012603048, 317.380509718244, 441.2783307217357, 272.39495087714704, 226.7151405231888, 2492.047497390508, 1095.847294782836, 611.9396964904778, 494.20628165141704, 223.5737274929305, 190.34543924131515, 179.5127249269113, 174.29783415654953, 150.1596288844578, 127.6725679060696, 113.22055407019886, 101.97012988742189, 100.45826028218347, 96.86399274801697, 91.26877260126653, 75.65329666223019, 67.330130432309, 44.753991969915866, 33.0729041698632, 20.965587403569653, 17.21040294191785, 13.915315428412102, 373.6924586171152, 7.146480111566774, 295.8557072743069, 6.079294663023802, 1959.560851218454, 601.2837439404112, 293.2744282335151, 462.14791905443263, 213.42056159289206, 500.6250678839932, 287.88524235449904, 1236.3399630096374, 322.62071813343624, 221.10448334420462, 188.5206774079566, 347.3703190369514, 157.78776158378213, 129.51976564775364, 167.3146557869516, 139.590359487494, 104.10264508289454, 195.93957872881631, 112.49656400485776, 109.65545112401236, 103.91828083070402, 70.95065713298443, 11553.116479490065, 106.59701763808059, 116.69694928764878, 111.53809216614444, 58.888487697769555, 61.91865647953511, 0.04786273727666463, 0.04786273101054655, 0.04786273101054655, 0.04786273101054655, 0.04786273101054655, 0.04786273101054655, 0.04786273101054655, 0.04786273101054655, 0.04786273101054655, 0.04786273101054655, 0.04786273101054655, 0.04786273101054655, 0.04786273101054655, 0.04786273101054655, 0.04786273101054655, 0.04786273101054655, 0.04786273101054655, 0.04786273101054655, 0.04786273101054655, 6.111296643531115, 0.04786273101054655, 0.04786273101054655, 0.04786273101054655, 0.04786273101054655, 0.04786273101054655, 0.04786273101054655, 1.0284519457391466, 0.04786273101054655, 0.04971207237224466, 0.04786273101054655, 160.194090582892, 153.9346450355237, 129.35202546250287, 121.5948160882198, 97.03311395922739, 95.59151220217082, 79.35576752671216, 55.83949100627949, 49.64530836708297, 48.71325095992946, 47.779727038379264, 45.12827202669358, 36.046377699497825, 31.19519032053721, 29.07397380635224, 22.740647315592142, 15.69788090659906, 7.080265876145744, 6.291548181190773, 5531.889481076178, 266.5847975408531, 278.80118835732054, 444.10232178356586, 976.5530713392727, 59.503091405782044, 135.6979651840822, 53.08815308709454, 127.88146758991012, 108.19626982709681, 270.63730186725576, 351.24118177624223, 335.73499482042126, 180.90881766240963, 146.713359165168, 125.30704079428237, 264.70809363588154, 100.18499739490588, 158.4076105060292, 115.92512658971064, 129.1296825678418, 101.05403692827265, 70.34167082392936, 63.44592700948288, 67.28914222986657, 691.1491255862156, 484.66838977766133, 462.9170707927858, 330.4355435177817, 320.8943853583246, 211.10186265214816, 190.07300644895278, 186.9970122105228, 170.9596249129511, 165.34132941992996, 152.38006045619608, 95.7591831731202, 51.983866227282824, 37.68036582079034, 17.418470944257635, 12.826864588456196, 180.28855924249152, 394.2721654547169, 1132.9051165187886, 86.41423019468881, 703.143525862595, 138.89868695577815, 293.82410968662464, 58.70909275793593, 175.91897379052097, 16.876391179107888, 50.39971078700589, 232.553222353788, 471.89586992920084, 52.13547979177014, 407.7875204143058, 587.0277836993538, 295.99261489033535, 172.07422918329908, 283.74065459505414, 161.95447618494526, 79.92854916623776, 83.82873856753909, 1802.8510922005626, 671.111458135294, 415.2661607097606, 300.3131922344122, 82.63176612364248, 15.659874865319257, 9.167508567711709, 81.89593794537824, 373.45945872680005, 493.4572129116334, 208.3033881668324, 371.13180015997574, 86.00057513911109, 1338.8954835830261, 576.2743532708638, 119.23003214616395, 49.18028566201828, 268.6421462741485, 106.48150904056608, 613.2756006208253, 75.06405552424734, 167.8884336831821, 46.73225060730219, 609.1524693196712, 127.41207386628638, 0.042339676083820825, 0.042339676083820825, 0.042339676083820825, 0.042339676083820825, 0.042339676083820825, 66.60219626386215, 0.042339676083820825, 0.042339676083820825, 0.042339676083820825, 0.042339676083820825, 0.042339676083820825, 0.042339676083820825, 0.042339676083820825, 0.042339676083820825, 1147.2995999401135, 530.9364076058499, 441.28047032226755, 317.2118286854659, 261.6998577240868, 251.51844180827666, 243.41601121213318, 224.5945659107064, 203.078569510061, 142.66756455503068, 112.58011710960363, 111.5522747904286, 95.31941420908024, 94.34444111828, 84.27838023085387, 82.626810757294, 78.27490446229241, 75.34560206699543, 74.9284690272033, 66.52973494014915, 62.54495463581615, 47.19140110493407, 43.10384971805225, 37.5062379803166, 35.428780178979316, 30.536099521966225, 29.267496645222042, 27.056945317139554, 22.271212858795423, 20.59912379539666, 645.3649840695138, 1124.2380618087689, 458.7724969167644, 142.68955029947836, 112.67795717889415, 142.25537567786554, 67.38519341893682, 69.72884923157176, 59.758651625009925, 68.57564521444054, 404.91332253278375, 342.4848653281235, 332.571702738862, 270.3330339074175, 263.8070580039771, 247.6646913775361, 215.1172904666095, 173.57754058826154, 138.31028614130926, 115.49120507178905, 81.32309010278071, 71.12615508614037, 59.77983870475407, 55.701178893961306, 42.033084594230125, 23.539264150741438, 556.5811589147187, 90.96596911438839, 55.26493352360536, 335.4904803171725, 148.75161747785614, 430.9374779376045, 114.98511132936875, 55.076141144385815, 91.03069155183412, 75.83389243250203, 88.29768402613387, 57.84210233351361, 201.10174881298084, 446.88389133143914, 490.9247195128442, 291.6422224232486, 180.3938315692975, 444.3366538583491, 233.90139378961197, 185.70515844969478, 346.4982746529294, 174.70926452496198, 2173.9441126334523, 551.8124313417496, 470.06876223430083, 398.54042978479697, 294.0444809598347, 208.25292706005615, 180.8589448000558, 162.9520850208783, 144.03974396971753, 126.29248519152188, 114.80840364011287, 108.44720209966461, 106.22528968887632, 79.08611359010075, 73.64783240008897, 60.16244138807124, 53.41697077791587, 53.36054995302351, 51.48409291041029, 42.34842069394598, 40.92645145604234, 32.61469150927452, 457.80061202866233, 431.2086453549228, 32.80502841430679, 185.9887804008501, 90.45821769649325, 285.97831248607133, 83.32157276882256, 49.65689973475454, 196.04285477097721, 87.0470924019301, 60.291686147777085, 49.71920218627335, 553.3239957307557, 397.4786111165044, 248.26227473398473, 223.20184067895391, 215.71978030043073, 214.93415386704518, 212.93325310353168, 179.0657479850435, 147.95295377092208, 129.31197563269748, 129.12019646099955, 120.25664365928006, 118.50695370773752, 118.42888437331356, 106.26359510324072, 97.20584634263362, 85.0067718092887, 76.68094704907317, 61.92516045597397, 59.48988129020419, 57.33074493954586, 53.636678611937654, 52.3682918292179, 50.85341763184347, 344.6260342295635, 42.54533137878036, 38.283668363282914, 35.17027425307981, 32.99898643859578, 29.840490814514865, 280.8293066657115, 247.47991807150285, 270.88687162973287, 343.7274158868633, 159.07270536175562, 149.94754245495196, 90.2227743286035, 130.97989998705538, 187.85470736097358, 61.24184231088525, 630.9174353156718, 458.36066295925406, 438.58752374635503, 343.01328700688185, 251.02131961735756, 233.11444568835142, 202.20798281636317, 198.13657856994354, 194.6658997076754, 179.57609773616937, 104.61837611880843, 95.64280508139387, 72.32453371016305, 48.69621279508573, 45.23518564099682, 23.850457167309276, 11.163374624707846, 360.5510382095742, 172.53724529902243, 152.03049958757603, 184.09584475392495, 93.0412911347682, 231.42167473115973, 108.64158252689916, 55.34894578711274, 240.14007135560036, 185.1773089110467, 29.735989582171047, 11.205282558873296, 141.77194464954013, 45.152349000920445, 59.15095204045463, 33.657212482552815, 916.1146569290556, 505.2928391723874, 445.5789090849223, 303.77431277257284, 197.3156156115699, 171.67064920116204, 165.7631396407442, 142.9579942810843, 122.93707374344743, 112.04120747917423, 102.12933354617613, 98.25896826825407, 92.96297992759239, 84.88331999213894, 74.69408651914694, 68.64796556513151, 60.38280045818461, 45.33876803741769, 41.75291074124194, 37.971587075391646, 33.61075788478157, 32.39481105071306, 25.0286945849045, 19.489522471861797, 802.3092761857472, 247.75402605083738, 27.105104014739055, 205.27114751801983, 29.240278297805734, 14.043991837757646, 20.267170369926053, 39.623386835177826, 118.26099827155562, 42.983838222809005, 49.70820022227589, 35.79264568069124, 206.29109336950194, 171.11167204608438, 164.66471930612465, 149.97023249577117, 140.98656469645906, 138.48986119213913, 136.27521942987838, 134.50042429767123, 116.8790988103322, 114.28341381839307, 112.32608185264674, 107.43329535918168, 105.00650032428983, 96.41689156171483, 76.45847054752389, 75.55340303729206, 68.94718414914063, 64.28737183717408, 58.25229708058477, 39.44066946408251, 38.64504429380972, 37.29432782068059, 35.5895397625004, 34.061874049771475, 33.69992724408587, 32.4479468426853, 23.603776065086063, 7.456805714064471, 7.234623258115524, 123.70087173417117, 212.94445840322174, 247.87991880160666, 80.08102821514639, 101.2217139880811, 132.42314531535985, 58.00459356321943, 82.47491999098197, 544.1426986802495, 413.64454987830743, 401.53036818729544, 180.04937097568106, 160.21572442584582, 112.76117431433423, 111.40638042848622, 110.96343958954903, 108.38076753448865, 97.78787168447208, 94.47965245627744, 79.33163647100334, 77.5748539513014, 72.04111199125265, 61.346854703769885, 58.20906613503352, 58.18647878378379, 50.962778980555484, 49.96029273554039, 47.22214075779984, 47.079672319011095, 43.246281049652005, 42.98716074487166, 38.52386057888631, 38.15821896199677, 32.99626961940156, 25.078220535099234, 24.757800919560058, 22.783123343527578, 21.861167692055325, 67.1126835253652, 222.64024049774133, 92.02282698552794, 19.156238186047492, 14.835039537866274, 198.56879907305088, 6.161908216970385, 1581.2811305458702, 30.6424767736623, 259.6209167685131, 296.70869661572635, 169.0687458846747, 95.89683075326288, 102.7167654100743, 183.92888028149665, 49.38897096270414, 33.36861439674881, 65.08055616559136, 28.853792954373613, 41.62359550462095, 0.033822293137582164, 0.03382228907412699, 0.03382228907412699, 0.03382228907412699, 0.03382228907412699, 0.03382228907412699, 0.03382228907412699, 0.03382228907412699, 0.03382228907412699, 0.03382228907412699, 0.03382228907412699, 16.674392627792976, 0.03382228907412699, 0.03382228907412699, 42.26005871567356, 76.6504678619343, 0.03382228907412699, 13.879986877170262, 0.03382228907412699, 0.03382228907412699, 0.03382228907412699, 0.03382228907412699, 0.03382228907412699, 0.03382228907412699, 0.03382228907412699, 286.4155247618717, 263.6159079687056, 263.062279853333, 209.7096716718395, 169.10176828343074, 131.97479137817567, 85.71903883178217, 82.62187081459832, 78.5259823153486, 76.67960784917794, 73.73906414566554, 71.84814006553192, 55.807036979704286, 50.5065592207312, 48.10410233310507, 48.100456501004494, 44.5228105653933, 28.44957388339148, 291.8366910431927, 10.788020154522487, 10.478825090774631, 7.617548546263253, 522.3821704545188, 1.7711670560117991, 79.19237391955613, 0.6625256391596479, 93.67564580484077, 28.426042234182063, 26.085045921141756, 7.20029523491881, 921.9588077255036, 741.1152048964761, 365.24085498035885, 326.1056982288581, 173.67116192919602, 117.80717039393188, 107.37360990512741, 105.8806126481607, 98.0448774035478, 81.12422356430892, 80.53205823895613, 63.6660404706977, 1.4384167005072457, 0.04141935050816015, 0.04141935050816015, 0.04141935050816015, 0.04141935050816015, 0.04141935050816015, 0.04141935050816015, 0.04141935050816015, 0.04141935050816015, 0.04141935050816015, 0.04141935050816015, 0.04141935050816015, 0.04141935050816015, 0.04141935050816015, 0.04141935050816015, 0.04141935050816015, 0.04141935050816015, 0.04141935050816015, 4.6360196070378015, 0.04141935050816015, 0.04141935050816015, 0.04141935050816015, 0.04141935050816015, 0.04141935050816015, 568.2340060033289, 215.62432986409095, 181.77851015757776, 174.12506334748804, 151.2133102087078, 122.97049524833896, 82.55383529446728, 74.39147673067123, 62.503545331874456, 62.079872904557995, 59.46441389693699, 57.446706243939175, 56.27225437997676, 54.922512554114924, 51.96209472000624, 49.58116058618318, 48.175010811703885, 46.81570473071563, 43.060800783788295, 39.630217007549504, 37.65915242484215, 33.05953725875149, 28.974241553546765, 23.00618100775723, 20.594659131232945, 19.21003440232993, 10.736612301786296, 196.69960901071258, 2.2519220167966623, 44.4660167484612, 46.02996214174825, 80.83719375936208, 81.72539279302472, 75.1944948010569, 31.25646724883109, 504.3461992184892, 207.92776730678452, 182.05085778345062, 136.49646781563257, 120.45252372211817, 89.15525543591626, 64.55097618733862, 64.47646750558529, 61.646070805414624, 54.82199859963132, 29.086948007117023, 15.232531475090704, 13.053358116416334, 0.749164542832608, 48.05660290469555, 0.036320750938859024, 0.036320750938859024, 0.036320750938859024, 0.036320750938859024, 0.036320750938859024, 0.036320750938859024, 0.036320750938859024, 0.036320750938859024, 0.036320750938859024, 0.036320750938859024, 0.036320750938859024, 0.036320750938859024, 0.036320750938859024, 0.036320750938859024, 0.036320750938859024, 582.8392489288464, 202.98851254644728, 181.48326557105926, 78.60180366623322, 65.9648731782061, 57.16415669303517, 53.87048640074046, 38.459459364838054, 32.15094592989178, 21.891183659800237, 18.420164899979717, 5.326609581179919, 33.91993527943023, 13.458928652435741, 12.370033813762607, 0.03616547038854809, 0.0361654662353158, 0.0361654662353158, 0.0361654662353158, 0.0361654662353158, 0.0361654662353158, 0.0361654662353158, 0.0361654662353158, 0.0361654662353158, 0.0361654662353158, 0.0361654662353158, 0.0361654662353158, 0.0361654662353158, 0.0361654662353158, 0.0361654662353158, 0.0361654662353158, 0.0361654662353158, 239.22507465997853, 121.10356485661245, 84.86195601828301, 62.42394658740162, 45.53524314170591, 45.001234159882856, 42.61724992771327, 40.20404954583666, 23.412384647538175, 21.041709241491887, 13.960960217319007, 6.917323708582983, 4.443939865960335, 0.682582411675839, 158.86369041954373, 0.03364397273544597, 0.03364397273544597, 0.03364397273544597, 0.03364397273544597, 0.03364397273544597, 0.03364397273544597, 0.03364397273544597, 0.03364397273544597, 0.03364397273544597, 0.03364397273544597, 0.03364397273544597, 0.03364397273544597, 0.03364397273544597, 0.03364397273544597, 0.03364397273544597, 0.03364397273544597, 0.03364397273544597, 0.03364397273544597, 138.40261707743664, 50.15197879731752, 17.910573312733277, 8.794592288456828, 0.017593213237128015, 0.017593213237128015, 0.017593213237128015, 0.017593213237128015, 0.017593213237128015, 0.017593213237128015, 0.017593213237128015, 0.017593213237128015, 0.017593213237128015, 0.017593213237128015, 0.017593213237128015, 0.017593213237128015, 0.017593213237128015, 0.017593213237128015, 0.017593213237128015, 0.017593213237128015, 0.017593213237128015, 0.017593213237128015, 0.017593213237128015, 0.017593213237128015, 0.017593213237128015, 0.017593213237128015, 0.017593213237128015, 0.017593213237128015, 0.017593213237128015, 0.017593213237128015, 0.017593213237128015], \"Total\": [14888.0, 8264.0, 8377.0, 10170.0, 27272.0, 4729.0, 5155.0, 4786.0, 12282.0, 3980.0, 9586.0, 2940.0, 2175.0, 2029.0, 2493.0, 3395.0, 2432.0, 4717.0, 1804.0, 5164.0, 2751.0, 2388.0, 1940.0, 4165.0, 2368.0, 2181.0, 1782.0, 2006.0, 1765.0, 2876.0, 1742.1434034294518, 1723.662197157636, 1623.912640866857, 1586.3433374287952, 1375.5221433309944, 1119.8855672034797, 1049.3749359341168, 803.9325529574294, 654.4061113508387, 543.0376138171778, 507.70293466843725, 503.15365284143985, 493.35717023996983, 474.56063073718747, 466.40301586327735, 456.4513781499336, 452.4234844722615, 448.39933014440805, 448.28396841194655, 443.92996994338307, 443.65150000428446, 442.67268333088816, 430.5353956486078, 430.31159277140864, 417.8057558872368, 396.9081761815612, 380.81094494704274, 371.23447006176207, 356.24143534194366, 345.70737994156445, 980.9579483227727, 3199.353710002279, 4786.21377659926, 4717.561008752049, 497.97136103127923, 1094.8166998047152, 731.0441935787082, 2876.0271835540498, 1274.9313869219052, 859.9122620724102, 918.0491905699001, 27272.537886110822, 1279.6403498441648, 811.1052105488633, 940.886174735844, 848.5234920498953, 3004.400605871094, 775.5404960005757, 12282.013320199429, 1455.4803932614495, 2735.5329289398765, 2489.437484425547, 2109.788255678556, 9586.376936757459, 3298.0273811143206, 1370.749252428019, 2254.7579538793284, 2600.9601755365056, 1608.4095808567572, 1165.0661073102435, 965.5815901828796, 725.8554191631029, 676.8080251184435, 543.2698461266822, 522.1406918893814, 517.4290938011119, 484.63128509117274, 439.92852398337766, 431.99181927296996, 410.5800202282378, 374.56325936019414, 373.98972192618396, 367.42094104827606, 349.99294331948573, 308.95001589025964, 291.3437899071017, 291.0518924700684, 280.9113244296674, 276.61299650791483, 260.3516465174565, 249.84957698249667, 240.57724890899124, 239.59079717883353, 231.1485262749526, 220.38932993139554, 205.7432127465517, 204.73503199031532, 3019.032036748222, 1694.9972680253402, 948.2701263933201, 376.8519452249449, 4165.575919561878, 383.91068446594346, 934.9241552345832, 624.6821810247274, 724.6144735972177, 1085.9724673906387, 27272.537886110822, 9586.376936757459, 2161.7324820159106, 897.4891756375482, 12282.013320199429, 603.4044199941221, 770.0295885405416, 10170.187916968296, 3004.400605871094, 2735.5329289398765, 1460.977390420683, 1444.054727652777, 1280.9608604292212, 2489.437484425547, 2368.786356533924, 2109.788255678556, 858.9977260264599, 8264.599851298626, 970.8747408129642, 709.6087936137974, 691.3687779642238, 621.0964884571546, 533.0201339943673, 419.6658793413178, 417.0556190350995, 367.45680448614917, 307.96673046988934, 287.5882387587175, 285.57119305347516, 283.8038186539494, 270.09856344828313, 251.40416536595941, 244.47946883503454, 242.49414672237245, 238.18404900292293, 227.72336015233145, 225.5273027461005, 220.53405625141332, 219.84417864795847, 217.0904298796557, 211.3170538186503, 209.53047393406942, 206.0032691600827, 205.01295697602458, 191.92440509406353, 185.84491718931153, 185.15541116104237, 172.6722189313979, 1106.2349100143786, 1006.848265229096, 1150.963235889416, 486.3438202971074, 919.750880602186, 364.2991370994938, 630.5672063886129, 655.2453159229163, 1168.305363333335, 1328.5554798184207, 905.4083336681439, 3298.0273811143206, 1594.1282939410173, 893.7587946298612, 687.7450002072552, 1435.688953167145, 575.0522021288831, 5164.429202354532, 27272.537886110822, 12282.013320199429, 557.1848451852725, 1057.3251017914179, 1750.4322646601543, 935.7283591298584, 8264.599851298626, 2161.7324820159106, 1180.5564431757996, 2388.6287974787842, 1534.2924524058171, 602.4192159994495, 596.2752985047756, 572.0373134604371, 272.0760598769567, 176.3177935734712, 145.65263536016903, 105.26127029421951, 98.43600288494267, 66.98990238889989, 3980.621352421838, 18.588614065769733, 17.926815022949828, 8377.183554665025, 1050.5012396247096, 12.035777571985376, 665.3778974093068, 319.799645776735, 3395.8849898029493, 606.1791165878683, 5155.375284832458, 253.48239642865107, 694.2386183880527, 405.75285641123037, 489.6980952284996, 14888.416973143667, 1680.5424763968272, 153.9575198308853, 345.58237414219656, 10170.187916968296, 5164.429202354532, 9586.376936757459, 1076.425498163436, 934.9241552345832, 2489.437484425547, 1768.0970235345283, 318.088524259944, 236.70489738893977, 223.36926789600946, 209.12963859306336, 204.5773131521385, 178.97515889902834, 177.66523853013095, 167.339172408769, 138.49323778810336, 126.51342741583451, 121.28931873102202, 79.41093087605137, 74.73450932450059, 62.07703944563334, 61.65419163825765, 58.25549256459304, 1051.0993092291021, 54.193230763492494, 51.6196708039973, 50.39341424638891, 49.98226686990706, 47.317412987317056, 40.50295214572206, 33.29224296253229, 32.3722501325503, 30.40320896293505, 29.069212239875725, 27.972087597225713, 25.521555810541106, 292.9650292100813, 668.1962640851525, 685.9802273633071, 696.812040628283, 520.9680031982124, 693.5861570911003, 10170.187916968296, 1871.8108797600216, 820.4471006873059, 1680.5424763968272, 452.34940093433704, 402.11179212742013, 924.2704607058414, 591.9628917415911, 1005.2304325619785, 5164.429202354532, 782.8288011387798, 578.5836219991157, 248.55299071224863, 588.5978954631638, 2751.4686741168443, 2063.471340159979, 964.9741671853429, 4165.575919561878, 1750.4322646601543, 703.1451032790411, 27272.537886110822, 3980.621352421838, 2940.8052418406155, 1336.941054789522, 778.1058682193323, 575.8078294551644, 487.2859619097771, 430.37451073120843, 423.55227293877823, 278.78679005699723, 211.6012036578989, 201.2367625249416, 171.2961687837427, 168.2308094706013, 167.86953286175861, 165.80890361511598, 155.0757927784445, 133.3748244551916, 111.98308450553986, 111.07103292059648, 69.06392860515246, 61.04893993875707, 59.21042658896675, 54.92520662202689, 53.977132235281225, 51.58182775195894, 43.928033607751146, 35.96379567785551, 32.81721559143554, 31.421196975809824, 31.021419077772418, 29.20161618942982, 314.83273812585384, 1298.979447166989, 826.3492856745386, 486.2667457673781, 819.1267639706704, 236.29125962513373, 819.9236577575485, 634.7644232951435, 2876.0271835540498, 2063.471340159979, 163.04432484908244, 1370.749252428019, 869.3262796396551, 12282.013320199429, 831.9807931715424, 9586.376936757459, 731.5324073804255, 27272.537886110822, 1455.4803932614495, 2489.437484425547, 8264.599851298626, 4729.562431788794, 1083.865695450199, 596.798418650611, 428.5913174989429, 401.57491959999936, 1765.7559141661372, 305.4025900019084, 251.15849254407206, 215.28956491723542, 148.55276272870267, 146.3938031454955, 127.38543961939422, 125.55198797924929, 124.89311790663707, 118.77075950322654, 110.14688277583977, 73.67087361854468, 73.16249036012393, 69.30656065413945, 66.89831079470552, 52.847386557119, 45.47490514075348, 42.280906035406744, 36.14515093444421, 29.102760739607955, 26.42512180083361, 24.904820783556165, 1076.4542718152893, 15.048471674359991, 12.45504985128651, 1282.4628640508013, 527.2508972213399, 151.5070108984547, 253.7971231658151, 729.5168497287747, 703.1451032790411, 325.33510981780944, 947.2735531140603, 578.5836219991157, 686.4541648935534, 832.1421872282355, 646.2112823884355, 964.9741671853429, 1298.0116863678315, 1168.305363333335, 12282.013320199429, 5164.429202354532, 9586.376936757459, 1147.587662927164, 3199.353710002279, 3298.0273811143206, 1940.269341700061, 1067.4671894878188, 976.6745518828182, 658.4554940486405, 548.2422404240372, 390.44895145352405, 310.55492399107317, 257.33464811393435, 245.24437882165446, 242.1281705679276, 238.24677990307526, 221.03002898741215, 219.04699626021264, 198.03984585654726, 179.6078846009276, 161.01934342847179, 160.8902485963257, 157.9208523478002, 147.61888332214116, 120.23787235725969, 106.31970315659656, 101.14220155032008, 93.83653697420644, 89.98726601878377, 89.07989644950722, 86.2851786207568, 83.61068725993552, 76.37597448640221, 73.07855142758713, 71.6917328623033, 1739.606331357728, 1147.587662927164, 167.15718633708752, 454.83777286715343, 1047.698953965251, 855.5638693767623, 2181.424357496624, 946.0680152715671, 832.1421872282355, 444.143552965739, 656.491613319571, 2006.8987185688236, 831.9807931715424, 1274.9313869219052, 530.8209243153439, 1372.1559447736154, 920.5244763090972, 753.6331085139756, 639.1936204973463, 637.3058873948522, 501.9116872389102, 386.73788926469547, 319.9175244644168, 266.9464543614993, 265.02095350826835, 260.8593193713272, 237.23709820661549, 211.81452814699693, 196.86676539434632, 187.17598765978877, 175.50406493035374, 146.589484848774, 120.05300724980974, 119.07539427468268, 114.16045453583489, 113.7423829293539, 103.08194015262188, 99.47897767552054, 98.93787241137233, 94.36714791829644, 91.45003263925484, 78.55296575305071, 77.82814526729487, 75.03115313526177, 62.446832674704595, 62.13981254961393, 1782.6325838534854, 540.7371478785183, 622.0834663291064, 372.58532634884733, 334.2841985348005, 537.5692053295446, 331.03205994564655, 588.5978954631638, 293.3292597958297, 184.99685209862346, 2751.4686741168443, 826.3492856745386, 1280.9608604292212, 4717.561008752049, 1845.6748474294184, 1076.425498163436, 2493.308461848656, 1097.1082592409848, 613.2006609486267, 495.46724610956596, 224.83469195107938, 191.60640369946404, 180.77368938506018, 175.55879861469842, 151.42059334260668, 128.93353236421848, 114.48151852834779, 103.23109434557082, 101.71922474033241, 98.1249572061659, 92.52973705941547, 76.91426112037912, 68.59109489045794, 46.014956428064785, 34.33386862801212, 22.22655186171858, 18.471367400066775, 15.176279886561021, 410.85501985292905, 8.407444569715695, 356.22957703814785, 7.340259121172724, 2432.67556455382, 869.3262796396551, 436.9627380113904, 791.0523761431095, 446.19472678421374, 1739.606331357728, 875.6164210207731, 8264.599851298626, 1298.0116863678315, 802.8679080598403, 661.8711052066454, 2751.4686741168443, 527.2144173289784, 374.1195251541059, 1750.4322646601543, 2063.471340159979, 356.3016389869236, 197.2010966143615, 113.75808189040298, 110.91696900955758, 105.17979871624924, 72.21217501852965, 14888.416973143667, 153.9575198308853, 462.15117708476913, 469.9067017872265, 534.5998081708724, 723.3132505547832, 1.3093806309404468, 1.3093806165557418, 1.3093806165557418, 1.3093806165557418, 1.3093806165557418, 1.3093806165557418, 1.3093806165557418, 1.3093806165557418, 1.3093806165557418, 1.3093806165557418, 1.3093806165557418, 1.3093806165557418, 1.3093806165557418, 1.3093806165557418, 1.3093806165557418, 1.3093806165557418, 1.3093806165557418, 1.3093806165557418, 1.3093806165557418, 297.2771493938135, 1.3093806165557418, 1.3093806165557418, 1.3093806165557418, 1.3093806165557418, 1.3093806165557418, 1.3093806165557418, 1750.4322646601543, 1.3093806165557418, 486.3438202971074, 1.3093806165557418, 161.45907036205648, 155.19962481468818, 130.61700524166736, 122.85979586738432, 98.29809373839191, 96.85649198133534, 80.62074730587668, 57.104470785444, 50.91028814624748, 49.97823073909397, 49.044706817543776, 46.39325180585809, 37.31135747866234, 32.46017009970172, 30.33895358551676, 24.00562709475666, 16.962860685763584, 8.34524565531026, 7.556527960355289, 8264.599851298626, 469.9067017872265, 509.2147340895792, 946.0680152715671, 2181.424357496624, 135.66194217288273, 309.85884470971797, 128.68695847601055, 329.4806545042026, 298.1152420737883, 782.8288011387798, 1047.698953965251, 1285.8848798235135, 1057.3251017914179, 774.0212125257432, 723.3132505547832, 5164.429202354532, 592.0659885288808, 2109.788255678556, 1180.5564431757996, 9586.376936757459, 3298.0273811143206, 475.507257359573, 624.6821810247274, 12282.013320199429, 692.4163851507883, 485.935649342234, 464.1843303573585, 331.70280308235436, 322.16164492289727, 212.369122254562, 191.3402660135254, 188.2642717750954, 172.22688447752373, 166.60858898450257, 153.6473200207687, 97.02644273769289, 53.25112579185549, 38.94762538536301, 18.685730508830304, 14.094124153028861, 267.51405427009144, 758.2670566622477, 2751.4686741168443, 213.85225793818844, 1845.6748474294184, 478.1232734814629, 1018.1465296910311, 229.68423490360072, 770.0295885405416, 79.67394567274044, 247.50837977141506, 1180.5564431757996, 2432.67556455382, 271.4549408539288, 2368.786356533924, 5155.375284832458, 2254.7579538793284, 1280.9608604292212, 3395.8849898029493, 9586.376936757459, 924.2704607058414, 2063.471340159979, 1804.1181331410344, 672.378499075766, 416.53320165023246, 301.5802331748841, 83.89880706411441, 16.926915805791182, 10.434549508183629, 106.51367329513913, 700.6373553198774, 1018.1465296910311, 575.9752517842505, 1038.6653073797515, 267.51405427009144, 5155.375284832458, 2368.786356533924, 723.3132505547832, 319.799645776735, 2254.7579538793284, 1285.8848798235135, 8377.183554665025, 1050.5012396247096, 2489.437484425547, 694.2386183880527, 9586.376936757459, 2109.788255678556, 1.3093806165557418, 1.3093806165557418, 1.3093806165557418, 1.3093806165557418, 1.3093806165557418, 2063.471340159979, 1.3093806165557418, 1.3093806165557418, 1.3093806165557418, 1.3093806165557418, 1.3093806165557418, 1.3093806165557418, 1.3093806165557418, 1.3093806165557418, 1148.5589146820985, 532.1957223478348, 442.53978506425256, 318.4711434274509, 262.95917246607183, 252.77775655026159, 244.6753259541181, 225.85388065269132, 204.3378842520459, 143.9268792970156, 113.83943185158863, 112.81158953241359, 96.57872895106523, 95.603755860265, 85.53769497283886, 83.88612549927899, 79.5342192042774, 76.60491680898042, 76.1877837691883, 67.78904968213415, 63.80426937780112, 48.450715846919046, 44.363164460037225, 38.76555272230157, 36.68809492096429, 31.795414263951212, 30.52681138720703, 28.31626005912454, 23.53052760078041, 21.858438537381648, 1006.6227481654802, 2006.8987185688236, 1444.054727652777, 486.2667457673781, 444.143552965739, 1094.8166998047152, 253.7971231658151, 509.2147340895792, 233.50638526471099, 905.4083336681439, 406.18518147110177, 343.7567242664415, 333.84356167718, 271.6048928457355, 265.0789169422951, 248.93655031585402, 216.38914940492742, 174.84939952657948, 139.5821450796272, 116.76306401010704, 82.5949490410987, 72.39801402445836, 61.05169764307205, 56.97303783227929, 43.30494353254811, 24.81112308905942, 662.4252257759712, 140.44999872117518, 87.14544694651153, 541.9914510738371, 247.50837977141506, 881.5764270097501, 287.61166554235575, 163.04432484908244, 302.96070664303994, 267.21688968101546, 322.23629285689265, 211.09563445810127, 791.0523761431095, 2029.4030585265532, 2254.7579538793284, 1845.6748474294184, 940.886174735844, 4786.21377659926, 1680.5424763968272, 2006.8987185688236, 12282.013320199429, 9586.376936757459, 2175.206034407676, 553.0743531159735, 471.33068400852477, 399.8023515590209, 295.3064027340586, 209.51484883428003, 182.1208665742797, 164.21400679510216, 145.3016657439414, 127.55440696574578, 116.07032541433678, 109.70912387388852, 107.48721146310022, 80.34803536432466, 74.90975417431288, 61.42436316229512, 54.67889255213976, 54.622471727247394, 52.746014684634176, 43.61034246816987, 42.18837323026622, 33.87661328349841, 534.5998081708724, 591.300613575955, 49.89362054310932, 634.7644232951435, 509.2147340895792, 1845.6748474294184, 552.7995065866342, 334.5435175327192, 2006.8987185688236, 819.9236577575485, 1298.0116863678315, 1370.749252428019, 554.5865017962738, 398.7411171820225, 249.52478079950282, 224.464346744472, 216.98228636594882, 216.19665993256328, 214.19575916904978, 180.32825405056158, 149.21545983644017, 130.57448169821558, 130.38270252651765, 121.5191497247982, 119.76945977325566, 119.6913904388317, 107.52610116875886, 98.46835240815176, 86.26927787480683, 77.9434531145913, 63.18766652149208, 60.7523873557223, 58.59325100506397, 54.899184677455764, 53.63079789473601, 52.11592369736158, 353.80494257035537, 43.80783744429847, 39.546174428801024, 36.43278031859792, 34.26149250411389, 31.10299688003299, 345.58237414219656, 322.9249359965118, 385.9096728170046, 819.9236577575485, 374.48785662803095, 367.7142655870489, 177.82853065920048, 634.7644232951435, 3395.8849898029493, 97.23699466796236, 632.1779895309211, 459.6212171745035, 439.8480779616045, 344.2738412221313, 252.28187383260695, 234.3749999036008, 203.46853703161256, 199.39713278519292, 195.9264539229248, 180.83665195141876, 105.87893033405784, 96.90335929664329, 73.58508792541247, 49.95676701033512, 46.49573985624621, 25.111011382558683, 12.423928839957247, 462.990798702137, 233.50638526471099, 211.09563445810127, 277.1273977229457, 177.39736706404275, 881.5764270097501, 525.9857603474115, 293.3292597958297, 1279.6403498441648, 1372.1559447736154, 260.68566207138997, 120.11139513917827, 2006.8987185688236, 753.599309538016, 1460.977390420683, 1694.9972680253402, 917.3820018459381, 506.56018408926985, 446.84625400180477, 305.0416576894553, 198.58296052845233, 172.93799411804446, 167.03048455762664, 144.22533919796672, 124.20441866032989, 113.3085523960567, 103.39667846305859, 99.52631318513653, 94.23032484447485, 86.1506649090214, 75.9614314360294, 69.91531048201398, 61.650145375067055, 46.60611295430013, 43.020255658124384, 39.23893199227409, 34.878102801664014, 33.6621559675955, 26.296039501786954, 20.75686738874425, 1063.1637155820688, 341.2256109249666, 50.16314066560659, 541.9914510738371, 78.89337801623697, 52.27885818196391, 78.09764630298454, 176.5746404815716, 881.5764270097501, 405.75285641123037, 1782.6325838534854, 283.27131442237913, 207.55796627528994, 172.37854495187239, 165.93159221191266, 151.23710540155918, 142.25343760224706, 139.75673409792714, 137.54209233566638, 135.76729720345924, 118.14597171612024, 115.55028672418112, 113.59295475843479, 108.70016826496973, 106.27337323007788, 97.68376446750288, 77.72534345331194, 76.8202759430801, 70.21405705492867, 65.55424474296213, 59.51916998637281, 40.70754236987055, 39.91191719959776, 38.561200726468634, 36.85641266828844, 35.32874695555952, 34.96680014987391, 33.71481974847334, 24.870648970874104, 8.723678619852508, 8.50149616390356, 188.24291529123886, 347.6418941628078, 520.0924703066624, 209.83513263461057, 462.990798702137, 1280.9608604292212, 149.9221490015733, 1279.6403498441648, 545.4059126327605, 414.90776383081845, 402.79358213980646, 181.31258492819208, 161.47893837835684, 114.02438826684528, 112.66959438099727, 112.22665354206008, 109.6439814869997, 99.05108563698313, 95.74286640878849, 80.59485042351439, 78.83806790381246, 73.3043259437637, 62.61006865628094, 59.47228008754457, 59.44969273629484, 52.225992933066536, 51.223506688051444, 48.485354710310894, 48.34288627152215, 44.50949500216306, 44.25037469738271, 39.78707453139736, 39.421432914507825, 34.25948357191261, 26.341434487610282, 26.021014872071106, 24.046337296038626, 23.124381644566373, 1006.6227481654802, 223.91579882522288, 93.29838531300958, 20.43179651352911, 16.11059786534789, 239.0699622721793, 7.437466544452001, 2029.4030585265532, 87.14544694651153, 1063.1637155820688, 1455.4803932614495, 832.1421872282355, 527.2508972213399, 703.1451032790411, 1298.0116863678315, 462.15117708476913, 313.5814233239182, 686.4541648935534, 334.2841985348005, 782.8288011387798, 1.3093806248116555, 1.3093806165557418, 1.3093806165557418, 1.3093806165557418, 1.3093806165557418, 1.3093806165557418, 1.3093806165557418, 1.3093806165557418, 1.3093806165557418, 1.3093806165557418, 1.3093806165557418, 1024.4056212572532, 1.3093806165557418, 1.3093806165557418, 3298.0273811143206, 9586.376936757459, 1.3093806165557418, 5164.429202354532, 1.3093806165557418, 1.3093806165557418, 1.3093806165557418, 1.3093806165557418, 1.3093806165557418, 1.3093806165557418, 1.3093806165557418, 287.6798178605774, 264.88020106741124, 264.32657295203865, 210.97396477054502, 170.36606138213628, 133.2390844768812, 86.98333193048778, 83.88616391330393, 79.79027541405421, 77.94390094788355, 75.00335724437114, 73.11243316423753, 57.07133007840987, 51.770852319436784, 49.368395431810654, 49.36474959971008, 45.787103664098886, 29.71386698209707, 318.8593214414067, 12.052313253228075, 11.743118189480217, 8.88184164496884, 821.768083387701, 3.035460154717387, 169.0388037400344, 1.9268187378652353, 432.8063653092273, 151.5070108984547, 446.19472678421374, 150.07502532547372, 923.2267689915511, 742.3831661625237, 366.50885829232163, 327.3736594949057, 174.93912319524355, 119.07513165997948, 108.641571171175, 107.1485739142083, 99.3128386695954, 82.39218483035651, 81.80001950500372, 64.93400173674529, 2.7063779665548275, 1.3093806165557418, 1.3093806165557418, 1.3093806165557418, 1.3093806165557418, 1.3093806165557418, 1.3093806165557418, 1.3093806165557418, 1.3093806165557418, 1.3093806165557418, 1.3093806165557418, 1.3093806165557418, 1.3093806165557418, 1.3093806165557418, 1.3093806165557418, 1.3093806165557418, 1.3093806165557418, 1.3093806165557418, 376.8519452249449, 1.3093806165557418, 1.3093806165557418, 1.3093806165557418, 1.3093806165557418, 1.3093806165557418, 569.5047186495403, 216.89504251030232, 183.04922280378912, 175.3957759936994, 152.48402285491917, 124.24120789455037, 83.82454794067868, 75.66218937688262, 63.77425797808585, 63.35058555076939, 60.73512654314838, 58.71741889015057, 57.54296702618815, 56.19322520032632, 53.232807366217635, 50.851873232394574, 49.44572345791528, 48.086417376927024, 44.33151342999969, 40.9009296537609, 38.92986507105354, 34.33024990496288, 30.244954199758162, 24.276893653968628, 21.86537177744434, 20.48074704854133, 12.00732494799769, 287.3768733913021, 3.5226346630080565, 135.46922334520147, 153.1441809547018, 312.9494963589238, 775.5404960005757, 685.9802273633071, 540.7371478785183, 505.6192668779358, 209.20082717240138, 183.32391764906748, 137.76952768124943, 121.72558358773506, 90.42831530153315, 65.8240360529555, 65.74952737120218, 62.91913067103151, 56.09505846524821, 30.36000787273391, 16.50559134070759, 14.326417982033215, 2.022224408449491, 309.85884470971797, 1.3093806165557418, 1.3093806165557418, 1.3093806165557418, 1.3093806165557418, 1.3093806165557418, 1.3093806165557418, 1.3093806165557418, 1.3093806165557418, 1.3093806165557418, 1.3093806165557418, 1.3093806165557418, 1.3093806165557418, 1.3093806165557418, 1.3093806165557418, 1.3093806165557418, 584.1124640791668, 204.26172769676768, 182.75648072137966, 79.87501881655366, 67.23808832852654, 58.43737184335559, 55.143701551060886, 39.73267451515848, 33.42416108021221, 23.164398810120666, 19.693380050300142, 6.599824731500345, 100.70831248638362, 320.7830351136835, 304.5322495461843, 1.3093806207089742, 1.3093806165557418, 1.3093806165557418, 1.3093806165557418, 1.3093806165557418, 1.3093806165557418, 1.3093806165557418, 1.3093806165557418, 1.3093806165557418, 1.3093806165557418, 1.3093806165557418, 1.3093806165557418, 1.3093806165557418, 1.3093806165557418, 1.3093806165557418, 1.3093806165557418, 1.3093806165557418, 240.50081130379883, 122.37930150043276, 86.1376926621033, 63.69968323122192, 46.81097978552621, 46.27697080370315, 43.89298657153356, 41.479786189656956, 24.68812129135847, 22.317445885312182, 15.236696861139302, 8.193060352403279, 5.719676509780631, 1.9583190554961347, 591.300613575955, 1.3093806165557418, 1.3093806165557418, 1.3093806165557418, 1.3093806165557418, 1.3093806165557418, 1.3093806165557418, 1.3093806165557418, 1.3093806165557418, 1.3093806165557418, 1.3093806165557418, 1.3093806165557418, 1.3093806165557418, 1.3093806165557418, 1.3093806165557418, 1.3093806165557418, 1.3093806165557418, 1.3093806165557418, 1.3093806165557418, 139.69440448075525, 51.443766200636134, 19.202360716051892, 10.086379691775441, 1.3093806165557418, 1.3093806165557418, 1.3093806165557418, 1.3093806165557418, 1.3093806165557418, 1.3093806165557418, 1.3093806165557418, 1.3093806165557418, 1.3093806165557418, 1.3093806165557418, 1.3093806165557418, 1.3093806165557418, 1.3093806165557418, 1.3093806165557418, 1.3093806165557418, 1.3093806165557418, 1.3093806165557418, 1.3093806165557418, 1.3093806165557418, 1.3093806165557418, 1.3093806165557418, 1.3093806165557418, 1.3093806165557418, 1.3093806165557418, 1.3093806165557418, 1.3093806165557418, 14.74982427773474], \"Category\": [\"Default\", \"Default\", \"Default\", \"Default\", \"Default\", \"Default\", \"Default\", \"Default\", \"Default\", \"Default\", \"Default\", \"Default\", \"Default\", \"Default\", \"Default\", \"Default\", \"Default\", \"Default\", \"Default\", \"Default\", \"Default\", \"Default\", \"Default\", \"Default\", \"Default\", \"Default\", \"Default\", \"Default\", \"Default\", \"Default\", \"Topic1\", \"Topic1\", \"Topic1\", \"Topic1\", \"Topic1\", \"Topic1\", \"Topic1\", \"Topic1\", \"Topic1\", \"Topic1\", \"Topic1\", \"Topic1\", \"Topic1\", \"Topic1\", \"Topic1\", \"Topic1\", \"Topic1\", \"Topic1\", \"Topic1\", \"Topic1\", \"Topic1\", \"Topic1\", \"Topic1\", \"Topic1\", \"Topic1\", \"Topic1\", \"Topic1\", \"Topic1\", \"Topic1\", \"Topic1\", \"Topic1\", \"Topic1\", \"Topic1\", \"Topic1\", \"Topic1\", \"Topic1\", \"Topic1\", \"Topic1\", \"Topic1\", \"Topic1\", \"Topic1\", \"Topic1\", \"Topic1\", \"Topic1\", \"Topic1\", \"Topic1\", \"Topic1\", \"Topic1\", \"Topic1\", \"Topic1\", \"Topic1\", \"Topic1\", \"Topic1\", \"Topic1\", \"Topic1\", \"Topic1\", \"Topic1\", \"Topic2\", \"Topic2\", \"Topic2\", \"Topic2\", \"Topic2\", \"Topic2\", \"Topic2\", \"Topic2\", \"Topic2\", \"Topic2\", \"Topic2\", \"Topic2\", \"Topic2\", \"Topic2\", \"Topic2\", \"Topic2\", \"Topic2\", \"Topic2\", \"Topic2\", \"Topic2\", \"Topic2\", \"Topic2\", \"Topic2\", \"Topic2\", \"Topic2\", \"Topic2\", \"Topic2\", \"Topic2\", \"Topic2\", \"Topic2\", \"Topic2\", \"Topic2\", \"Topic2\", \"Topic2\", \"Topic2\", \"Topic2\", \"Topic2\", \"Topic2\", \"Topic2\", \"Topic2\", \"Topic2\", \"Topic2\", \"Topic2\", \"Topic2\", \"Topic2\", \"Topic2\", \"Topic2\", \"Topic2\", \"Topic2\", \"Topic2\", \"Topic2\", \"Topic2\", \"Topic2\", \"Topic2\", \"Topic2\", \"Topic2\", \"Topic2\", \"Topic2\", \"Topic3\", \"Topic3\", \"Topic3\", \"Topic3\", \"Topic3\", \"Topic3\", \"Topic3\", \"Topic3\", \"Topic3\", \"Topic3\", \"Topic3\", \"Topic3\", \"Topic3\", \"Topic3\", \"Topic3\", \"Topic3\", \"Topic3\", \"Topic3\", \"Topic3\", \"Topic3\", \"Topic3\", \"Topic3\", \"Topic3\", \"Topic3\", \"Topic3\", \"Topic3\", \"Topic3\", \"Topic3\", \"Topic3\", \"Topic3\", \"Topic3\", \"Topic3\", \"Topic3\", \"Topic3\", \"Topic3\", \"Topic3\", \"Topic3\", \"Topic3\", \"Topic3\", \"Topic3\", \"Topic3\", \"Topic3\", \"Topic3\", \"Topic3\", \"Topic3\", \"Topic3\", \"Topic3\", \"Topic3\", \"Topic3\", \"Topic3\", \"Topic3\", \"Topic3\", \"Topic3\", \"Topic3\", \"Topic3\", \"Topic3\", \"Topic3\", \"Topic4\", \"Topic4\", \"Topic4\", \"Topic4\", \"Topic4\", \"Topic4\", \"Topic4\", \"Topic4\", \"Topic4\", \"Topic4\", \"Topic4\", \"Topic4\", \"Topic4\", \"Topic4\", \"Topic4\", \"Topic4\", \"Topic4\", \"Topic4\", \"Topic4\", \"Topic4\", \"Topic4\", \"Topic4\", \"Topic4\", \"Topic4\", \"Topic4\", \"Topic4\", \"Topic4\", \"Topic4\", \"Topic4\", \"Topic4\", \"Topic4\", \"Topic4\", \"Topic4\", \"Topic4\", \"Topic4\", \"Topic4\", \"Topic5\", \"Topic5\", \"Topic5\", \"Topic5\", \"Topic5\", \"Topic5\", \"Topic5\", \"Topic5\", \"Topic5\", \"Topic5\", \"Topic5\", \"Topic5\", \"Topic5\", \"Topic5\", \"Topic5\", \"Topic5\", \"Topic5\", \"Topic5\", \"Topic5\", \"Topic5\", \"Topic5\", \"Topic5\", \"Topic5\", \"Topic5\", \"Topic5\", \"Topic5\", \"Topic5\", \"Topic5\", \"Topic5\", \"Topic5\", \"Topic5\", \"Topic5\", \"Topic5\", \"Topic5\", \"Topic5\", \"Topic5\", \"Topic5\", \"Topic5\", \"Topic5\", \"Topic5\", \"Topic5\", \"Topic5\", \"Topic5\", \"Topic5\", \"Topic5\", \"Topic5\", \"Topic5\", \"Topic5\", \"Topic5\", \"Topic5\", \"Topic5\", \"Topic5\", \"Topic5\", \"Topic5\", \"Topic5\", \"Topic5\", \"Topic5\", \"Topic5\", \"Topic6\", \"Topic6\", \"Topic6\", \"Topic6\", \"Topic6\", \"Topic6\", \"Topic6\", \"Topic6\", \"Topic6\", \"Topic6\", \"Topic6\", \"Topic6\", \"Topic6\", \"Topic6\", \"Topic6\", \"Topic6\", \"Topic6\", \"Topic6\", \"Topic6\", \"Topic6\", \"Topic6\", \"Topic6\", \"Topic6\", \"Topic6\", \"Topic6\", \"Topic6\", \"Topic6\", \"Topic6\", \"Topic6\", \"Topic6\", \"Topic6\", \"Topic6\", \"Topic6\", \"Topic6\", \"Topic6\", \"Topic6\", \"Topic6\", \"Topic6\", \"Topic6\", \"Topic6\", \"Topic6\", \"Topic6\", \"Topic6\", \"Topic6\", \"Topic6\", \"Topic6\", \"Topic6\", \"Topic6\", \"Topic6\", \"Topic6\", \"Topic6\", \"Topic7\", \"Topic7\", \"Topic7\", \"Topic7\", \"Topic7\", \"Topic7\", \"Topic7\", \"Topic7\", \"Topic7\", \"Topic7\", \"Topic7\", \"Topic7\", \"Topic7\", \"Topic7\", \"Topic7\", \"Topic7\", \"Topic7\", \"Topic7\", \"Topic7\", \"Topic7\", \"Topic7\", \"Topic7\", \"Topic7\", \"Topic7\", \"Topic7\", \"Topic7\", \"Topic7\", \"Topic7\", \"Topic7\", \"Topic7\", \"Topic7\", \"Topic7\", \"Topic7\", \"Topic7\", \"Topic7\", \"Topic7\", \"Topic7\", \"Topic7\", \"Topic7\", \"Topic7\", \"Topic7\", \"Topic7\", \"Topic7\", \"Topic7\", \"Topic7\", \"Topic7\", \"Topic7\", \"Topic7\", \"Topic7\", \"Topic7\", \"Topic7\", \"Topic8\", \"Topic8\", \"Topic8\", \"Topic8\", \"Topic8\", \"Topic8\", \"Topic8\", \"Topic8\", \"Topic8\", \"Topic8\", \"Topic8\", \"Topic8\", \"Topic8\", \"Topic8\", \"Topic8\", \"Topic8\", \"Topic8\", \"Topic8\", \"Topic8\", \"Topic8\", \"Topic8\", \"Topic8\", \"Topic8\", \"Topic8\", \"Topic8\", \"Topic8\", \"Topic8\", \"Topic8\", \"Topic8\", \"Topic8\", \"Topic8\", \"Topic8\", \"Topic8\", \"Topic8\", \"Topic8\", \"Topic8\", \"Topic8\", \"Topic8\", \"Topic8\", \"Topic8\", \"Topic8\", \"Topic8\", \"Topic8\", \"Topic8\", \"Topic8\", \"Topic8\", \"Topic9\", \"Topic9\", \"Topic9\", \"Topic9\", \"Topic9\", \"Topic9\", \"Topic9\", \"Topic9\", \"Topic9\", \"Topic9\", \"Topic9\", \"Topic9\", \"Topic9\", \"Topic9\", \"Topic9\", \"Topic9\", \"Topic9\", \"Topic9\", \"Topic9\", \"Topic9\", \"Topic9\", \"Topic9\", \"Topic9\", \"Topic9\", \"Topic9\", \"Topic9\", \"Topic9\", \"Topic9\", \"Topic9\", \"Topic9\", \"Topic9\", \"Topic9\", \"Topic9\", \"Topic9\", \"Topic9\", \"Topic9\", \"Topic9\", \"Topic9\", \"Topic9\", \"Topic9\", \"Topic9\", \"Topic9\", \"Topic9\", \"Topic9\", \"Topic9\", \"Topic9\", \"Topic10\", \"Topic10\", \"Topic10\", \"Topic10\", \"Topic10\", \"Topic10\", \"Topic10\", \"Topic10\", \"Topic10\", \"Topic10\", \"Topic10\", \"Topic10\", \"Topic10\", \"Topic10\", \"Topic10\", \"Topic10\", \"Topic10\", \"Topic10\", \"Topic10\", \"Topic10\", \"Topic10\", \"Topic10\", \"Topic10\", \"Topic10\", \"Topic10\", \"Topic10\", \"Topic10\", \"Topic10\", \"Topic10\", \"Topic10\", \"Topic10\", \"Topic10\", \"Topic10\", \"Topic10\", \"Topic10\", \"Topic10\", \"Topic10\", \"Topic10\", \"Topic10\", \"Topic10\", \"Topic10\", \"Topic10\", \"Topic10\", \"Topic11\", \"Topic11\", \"Topic11\", \"Topic11\", \"Topic11\", \"Topic11\", \"Topic11\", \"Topic11\", \"Topic11\", \"Topic11\", \"Topic11\", \"Topic11\", \"Topic11\", \"Topic11\", \"Topic11\", \"Topic11\", \"Topic11\", \"Topic11\", \"Topic11\", \"Topic11\", \"Topic11\", \"Topic11\", \"Topic11\", \"Topic11\", \"Topic11\", \"Topic11\", \"Topic11\", \"Topic11\", \"Topic11\", \"Topic11\", \"Topic11\", \"Topic11\", \"Topic11\", \"Topic11\", \"Topic11\", \"Topic11\", \"Topic11\", \"Topic11\", \"Topic11\", \"Topic11\", \"Topic11\", \"Topic12\", \"Topic12\", \"Topic12\", \"Topic12\", \"Topic12\", \"Topic12\", \"Topic12\", \"Topic12\", \"Topic12\", \"Topic12\", \"Topic12\", \"Topic12\", \"Topic12\", \"Topic12\", \"Topic12\", \"Topic12\", \"Topic12\", \"Topic12\", \"Topic12\", \"Topic12\", \"Topic12\", \"Topic12\", \"Topic12\", \"Topic12\", \"Topic12\", \"Topic12\", \"Topic12\", \"Topic12\", \"Topic12\", \"Topic12\", \"Topic12\", \"Topic12\", \"Topic12\", \"Topic12\", \"Topic12\", \"Topic12\", \"Topic12\", \"Topic12\", \"Topic12\", \"Topic12\", \"Topic12\", \"Topic12\", \"Topic12\", \"Topic12\", \"Topic13\", \"Topic13\", \"Topic13\", \"Topic13\", \"Topic13\", \"Topic13\", \"Topic13\", \"Topic13\", \"Topic13\", \"Topic13\", \"Topic13\", \"Topic13\", \"Topic13\", \"Topic13\", \"Topic13\", \"Topic13\", \"Topic13\", \"Topic13\", \"Topic13\", \"Topic13\", \"Topic13\", \"Topic13\", \"Topic13\", \"Topic13\", \"Topic13\", \"Topic13\", \"Topic13\", \"Topic13\", \"Topic13\", \"Topic13\", \"Topic13\", \"Topic13\", \"Topic13\", \"Topic13\", \"Topic13\", \"Topic13\", \"Topic13\", \"Topic13\", \"Topic14\", \"Topic14\", \"Topic14\", \"Topic14\", \"Topic14\", \"Topic14\", \"Topic14\", \"Topic14\", \"Topic14\", \"Topic14\", \"Topic14\", \"Topic14\", \"Topic14\", \"Topic14\", \"Topic14\", \"Topic14\", \"Topic14\", \"Topic14\", \"Topic14\", \"Topic14\", \"Topic14\", \"Topic14\", \"Topic14\", \"Topic14\", \"Topic14\", \"Topic14\", \"Topic14\", \"Topic14\", \"Topic14\", \"Topic14\", \"Topic14\", \"Topic14\", \"Topic14\", \"Topic14\", \"Topic14\", \"Topic14\", \"Topic14\", \"Topic14\", \"Topic14\", \"Topic15\", \"Topic15\", \"Topic15\", \"Topic15\", \"Topic15\", \"Topic15\", \"Topic15\", \"Topic15\", \"Topic15\", \"Topic15\", \"Topic15\", \"Topic15\", \"Topic15\", \"Topic15\", \"Topic15\", \"Topic15\", \"Topic15\", \"Topic15\", \"Topic15\", \"Topic15\", \"Topic15\", \"Topic15\", \"Topic15\", \"Topic15\", \"Topic15\", \"Topic15\", \"Topic15\", \"Topic15\", \"Topic15\", \"Topic15\", \"Topic15\", \"Topic15\", \"Topic15\", \"Topic15\", \"Topic15\", \"Topic15\", \"Topic15\", \"Topic15\", \"Topic15\", \"Topic15\", \"Topic16\", \"Topic16\", \"Topic16\", \"Topic16\", \"Topic16\", \"Topic16\", \"Topic16\", \"Topic16\", \"Topic16\", \"Topic16\", \"Topic16\", \"Topic16\", \"Topic16\", \"Topic16\", \"Topic16\", \"Topic16\", \"Topic16\", \"Topic16\", \"Topic16\", \"Topic16\", \"Topic16\", \"Topic16\", \"Topic16\", \"Topic16\", \"Topic16\", \"Topic16\", \"Topic16\", \"Topic16\", \"Topic16\", \"Topic16\", \"Topic16\", \"Topic16\", \"Topic16\", \"Topic16\", \"Topic16\", \"Topic16\", \"Topic16\", \"Topic16\", \"Topic17\", \"Topic17\", \"Topic17\", \"Topic17\", \"Topic17\", \"Topic17\", \"Topic17\", \"Topic17\", \"Topic17\", \"Topic17\", \"Topic17\", \"Topic17\", \"Topic17\", \"Topic17\", \"Topic17\", \"Topic17\", \"Topic17\", \"Topic17\", \"Topic17\", \"Topic17\", \"Topic17\", \"Topic17\", \"Topic17\", \"Topic17\", \"Topic17\", \"Topic17\", \"Topic17\", \"Topic17\", \"Topic17\", \"Topic17\", \"Topic17\", \"Topic17\", \"Topic17\", \"Topic17\", \"Topic18\", \"Topic18\", \"Topic18\", \"Topic18\", \"Topic18\", \"Topic18\", \"Topic18\", \"Topic18\", \"Topic18\", \"Topic18\", \"Topic18\", \"Topic18\", \"Topic18\", \"Topic18\", \"Topic18\", \"Topic18\", \"Topic18\", \"Topic18\", \"Topic18\", \"Topic18\", \"Topic18\", \"Topic18\", \"Topic18\", \"Topic18\", \"Topic18\", \"Topic18\", \"Topic18\", \"Topic18\", \"Topic18\", \"Topic18\", \"Topic18\", \"Topic18\", \"Topic18\", \"Topic18\", \"Topic18\", \"Topic18\", \"Topic18\", \"Topic18\", \"Topic18\", \"Topic18\", \"Topic19\", \"Topic19\", \"Topic19\", \"Topic19\", \"Topic19\", \"Topic19\", \"Topic19\", \"Topic19\", \"Topic19\", \"Topic19\", \"Topic19\", \"Topic19\", \"Topic19\", \"Topic19\", \"Topic19\", \"Topic19\", \"Topic19\", \"Topic19\", \"Topic19\", \"Topic19\", \"Topic19\", \"Topic19\", \"Topic19\", \"Topic19\", \"Topic19\", \"Topic19\", \"Topic19\", \"Topic19\", \"Topic19\", \"Topic19\", \"Topic19\", \"Topic19\", \"Topic19\", \"Topic20\", \"Topic20\", \"Topic20\", \"Topic20\", \"Topic20\", \"Topic20\", \"Topic20\", \"Topic20\", \"Topic20\", \"Topic20\", \"Topic20\", \"Topic20\", \"Topic20\", \"Topic20\", \"Topic20\", \"Topic20\", \"Topic20\", \"Topic20\", \"Topic20\", \"Topic20\", \"Topic20\", \"Topic20\", \"Topic20\", \"Topic20\", \"Topic20\", \"Topic20\", \"Topic20\", \"Topic20\", \"Topic20\", \"Topic20\", \"Topic20\", \"Topic20\", \"Topic20\", \"Topic20\", \"Topic20\", \"Topic20\", \"Topic21\", \"Topic21\", \"Topic21\", \"Topic21\", \"Topic21\", \"Topic21\", \"Topic21\", \"Topic21\", \"Topic21\", \"Topic21\", \"Topic21\", \"Topic21\", \"Topic21\", \"Topic21\", \"Topic21\", \"Topic21\", \"Topic21\", \"Topic21\", \"Topic21\", \"Topic21\", \"Topic21\", \"Topic21\", \"Topic21\", \"Topic21\", \"Topic21\", \"Topic21\", \"Topic21\", \"Topic21\", \"Topic21\", \"Topic21\", \"Topic21\", \"Topic21\", \"Topic21\", \"Topic21\", \"Topic21\", \"Topic21\", \"Topic21\", \"Topic22\", \"Topic22\", \"Topic22\", \"Topic22\", \"Topic22\", \"Topic22\", \"Topic22\", \"Topic22\", \"Topic22\", \"Topic22\", \"Topic22\", \"Topic22\", \"Topic22\", \"Topic22\", \"Topic22\", \"Topic22\", \"Topic22\", \"Topic22\", \"Topic22\", \"Topic22\", \"Topic22\", \"Topic22\", \"Topic22\", \"Topic22\", \"Topic22\", \"Topic22\", \"Topic22\", \"Topic22\", \"Topic22\", \"Topic22\", \"Topic22\", \"Topic23\", \"Topic23\", \"Topic23\", \"Topic23\", \"Topic23\", \"Topic23\", \"Topic23\", \"Topic23\", \"Topic23\", \"Topic23\", \"Topic23\", \"Topic23\", \"Topic23\", \"Topic23\", \"Topic23\", \"Topic23\", \"Topic23\", \"Topic23\", \"Topic23\", \"Topic23\", \"Topic23\", \"Topic23\", \"Topic23\", \"Topic23\", \"Topic23\", \"Topic23\", \"Topic23\", \"Topic23\", \"Topic23\", \"Topic23\", \"Topic23\", \"Topic23\", \"Topic23\", \"Topic23\", \"Topic23\", \"Topic23\", \"Topic23\", \"Topic23\", \"Topic23\", \"Topic23\", \"Topic23\", \"Topic23\", \"Topic23\", \"Topic23\", \"Topic24\", \"Topic24\", \"Topic24\", \"Topic24\", \"Topic24\", \"Topic24\", \"Topic24\", \"Topic24\", \"Topic24\", \"Topic24\", \"Topic24\", \"Topic24\", \"Topic24\", \"Topic24\", \"Topic24\", \"Topic24\", \"Topic24\", \"Topic24\", \"Topic24\", \"Topic24\", \"Topic24\", \"Topic24\", \"Topic24\", \"Topic24\", \"Topic24\", \"Topic24\", \"Topic24\", \"Topic24\", \"Topic24\", \"Topic24\", \"Topic25\", \"Topic25\", \"Topic25\", \"Topic25\", \"Topic25\", \"Topic25\", \"Topic25\", \"Topic25\", \"Topic25\", \"Topic25\", \"Topic25\", \"Topic25\", \"Topic25\", \"Topic25\", \"Topic25\", \"Topic25\", \"Topic25\", \"Topic25\", \"Topic25\", \"Topic25\", \"Topic25\", \"Topic25\", \"Topic25\", \"Topic25\", \"Topic25\", \"Topic25\", \"Topic25\", \"Topic25\", \"Topic25\", \"Topic25\", \"Topic25\", \"Topic25\", \"Topic25\", \"Topic25\", \"Topic25\", \"Topic25\", \"Topic26\", \"Topic26\", \"Topic26\", \"Topic26\", \"Topic26\", \"Topic26\", \"Topic26\", \"Topic26\", \"Topic26\", \"Topic26\", \"Topic26\", \"Topic26\", \"Topic26\", \"Topic26\", \"Topic26\", \"Topic26\", \"Topic26\", \"Topic26\", \"Topic26\", \"Topic26\", \"Topic26\", \"Topic26\", \"Topic26\", \"Topic26\", \"Topic26\", \"Topic26\", \"Topic26\", \"Topic26\", \"Topic26\", \"Topic26\", \"Topic26\", \"Topic26\", \"Topic26\", \"Topic26\", \"Topic26\", \"Topic27\", \"Topic27\", \"Topic27\", \"Topic27\", \"Topic27\", \"Topic27\", \"Topic27\", \"Topic27\", \"Topic27\", \"Topic27\", \"Topic27\", \"Topic27\", \"Topic27\", \"Topic27\", \"Topic27\", \"Topic27\", \"Topic27\", \"Topic27\", \"Topic27\", \"Topic27\", \"Topic27\", \"Topic27\", \"Topic27\", \"Topic27\", \"Topic27\", \"Topic27\", \"Topic27\", \"Topic27\", \"Topic27\", \"Topic27\", \"Topic28\", \"Topic28\", \"Topic28\", \"Topic28\", \"Topic28\", \"Topic28\", \"Topic28\", \"Topic28\", \"Topic28\", \"Topic28\", \"Topic28\", \"Topic28\", \"Topic28\", \"Topic28\", \"Topic28\", \"Topic28\", \"Topic28\", \"Topic28\", \"Topic28\", \"Topic28\", \"Topic28\", \"Topic28\", \"Topic28\", \"Topic28\", \"Topic28\", \"Topic28\", \"Topic28\", \"Topic28\", \"Topic28\", \"Topic28\", \"Topic28\", \"Topic28\", \"Topic29\", \"Topic29\", \"Topic29\", \"Topic29\", \"Topic29\", \"Topic29\", \"Topic29\", \"Topic29\", \"Topic29\", \"Topic29\", \"Topic29\", \"Topic29\", \"Topic29\", \"Topic29\", \"Topic29\", \"Topic29\", \"Topic29\", \"Topic29\", \"Topic29\", \"Topic29\", \"Topic29\", \"Topic29\", \"Topic29\", \"Topic29\", \"Topic29\", \"Topic29\", \"Topic29\", \"Topic29\", \"Topic29\", \"Topic29\", \"Topic29\", \"Topic29\", \"Topic29\", \"Topic30\", \"Topic30\", \"Topic30\", \"Topic30\", \"Topic30\", \"Topic30\", \"Topic30\", \"Topic30\", \"Topic30\", \"Topic30\", \"Topic30\", \"Topic30\", \"Topic30\", \"Topic30\", \"Topic30\", \"Topic30\", \"Topic30\", \"Topic30\", \"Topic30\", \"Topic30\", \"Topic30\", \"Topic30\", \"Topic30\", \"Topic30\", \"Topic30\", \"Topic30\", \"Topic30\", \"Topic30\", \"Topic30\", \"Topic30\", \"Topic30\"], \"logprob\": [30.0, 29.0, 28.0, 27.0, 26.0, 25.0, 24.0, 23.0, 22.0, 21.0, 20.0, 19.0, 18.0, 17.0, 16.0, 15.0, 14.0, 13.0, 12.0, 11.0, 10.0, 9.0, 8.0, 7.0, 6.0, 5.0, 4.0, 3.0, 2.0, 1.0, -4.231900215148926, -4.242499828338623, -4.302199840545654, -4.3256001472473145, -4.468400001525879, -4.674200057983398, -4.739299774169922, -5.006100177764893, -5.212200164794922, -5.399199962615967, -5.466599941253662, -5.475599765777588, -5.495299816131592, -5.534299850463867, -5.551700115203857, -5.573299884796143, -5.582200050354004, -5.591100215911865, -5.591400146484375, -5.601200103759766, -5.601799964904785, -5.604000091552734, -5.631899833679199, -5.632400035858154, -5.6620001792907715, -5.713500022888184, -5.755000114440918, -5.780600070953369, -5.821899890899658, -5.852099895477295, -4.825300216674805, -3.6921000480651855, -3.31820011138916, -3.349400043487549, -5.510499954223633, -4.836100101470947, -5.186299800872803, -4.077000141143799, -4.7657999992370605, -5.088099956512451, -5.0441999435424805, -2.552799940109253, -4.831399917602539, -5.161900043487549, -5.061699867248535, -5.168600082397461, -4.366499900817871, -5.229800224304199, -3.5529000759124756, -4.893400192260742, -4.55810022354126, -4.729800224304199, -4.8632001876831055, -4.511099815368652, -4.9029998779296875, -5.079899787902832, -5.027599811553955, -3.5434000492095947, -4.0243000984191895, -4.347099781036377, -4.535099983215332, -4.820899963378906, -4.890999794006348, -5.111299991607666, -5.151000022888184, -5.160099983215332, -5.225800037384033, -5.322800159454346, -5.341100215911865, -5.392099857330322, -5.4842000007629395, -5.4857001304626465, -5.503499984741211, -5.552199840545654, -5.677499771118164, -5.736400127410889, -5.737400054931641, -5.7729997634887695, -5.78849983215332, -5.849400043487549, -5.890699863433838, -5.928800106048584, -5.9328999519348145, -5.968999862670898, -6.016900062561035, -6.086100101470947, -6.091000080108643, -3.4042000770568848, -3.9918999671936035, -4.579800128936768, -5.4903998374938965, -3.1658999919891357, -5.488900184631348, -4.687300205230713, -5.07859992980957, -4.979899883270264, -4.656199932098389, -2.035599946975708, -2.9244000911712646, -4.131800174713135, -4.8730998039245605, -3.0483999252319336, -5.167799949645996, -5.021500110626221, -3.4079999923706055, -4.2829999923706055, -4.49459981918335, -4.823999881744385, -4.848700046539307, -4.917399883270264, -4.728400230407715, -4.83650016784668, -4.871399879455566, -5.073599815368652, -5.036900043487549, -4.114200115203857, -4.428199768066406, -4.45419979095459, -4.561600208282471, -4.714900016784668, -4.954599857330322, -4.960899829864502, -5.087900161743164, -5.265200138092041, -5.333899974822998, -5.341000080108643, -5.3471999168396, -5.396999835968018, -5.468999862670898, -5.497099876403809, -5.505300045013428, -5.5233001708984375, -5.56850004196167, -5.578199863433838, -5.600800037384033, -5.603899955749512, -5.616600036621094, -5.643700122833252, -5.652200222015381, -5.669300079345703, -5.674200057983398, -5.740600109100342, -5.7729997634887695, -5.776700019836426, -5.8470001220703125, -3.9995999336242676, -4.1006999015808105, -3.975600004196167, -4.826300144195557, -4.2307000160217285, -5.142199993133545, -4.643599987030029, -4.64109992980957, -4.230899810791016, -4.139900207519531, -4.460000038146973, -3.4289000034332275, -4.012400150299072, -4.482600212097168, -4.69350004196167, -4.153600215911865, -4.8506999015808105, -3.407900094985962, -2.4351000785827637, -3.1429998874664307, -4.980899810791016, -4.678400039672852, -4.569900035858154, -4.824999809265137, -4.51140022277832, -4.816199779510498, -4.903800010681152, -2.708400011062622, -3.1512999534606934, -4.087500095367432, -4.097700119018555, -4.1392998695373535, -4.884900093078613, -5.321199893951416, -5.513800144195557, -5.8420000076293945, -5.909900188446045, -6.300899982452393, -2.265500068664551, -7.634399890899658, -7.673399925231934, -1.5291999578475952, -3.6317999362945557, -8.109700202941895, -4.121099948883057, -4.890100002288818, -2.5373001098632812, -4.526400089263916, -2.406599998474121, -5.432700157165527, -4.77810001373291, -5.966300010681152, -5.789000034332275, -2.3886001110076904, -4.577000141143799, -7.083799839019775, -6.334799766540527, -3.093600034713745, -3.894200086593628, -3.410799980163574, -5.411399841308594, -5.827199935913086, -6.028500080108643, -2.8264000415802, -4.545000076293945, -4.841899871826172, -4.900199890136719, -4.966400146484375, -4.98859977722168, -5.123199939727783, -5.1305999755859375, -5.190899848937988, -5.381700038909912, -5.4730000495910645, -5.515600204467773, -5.944699764251709, -6.006400108337402, -6.195499897003174, -6.202499866485596, -6.26039981842041, -3.3689000606536865, -6.3343000411987305, -6.384200096130371, -6.40880012512207, -6.417200088500977, -6.473499774932861, -6.633600234985352, -6.836599826812744, -6.865799903869629, -6.93120002746582, -6.978000164031982, -7.0183000564575195, -7.114500045776367, -4.691699981689453, -3.8947999477386475, -3.8905999660491943, -3.934999942779541, -4.250899791717529, -4.010000228881836, -1.6868000030517578, -3.206899881362915, -3.936800003051758, -3.3213999271392822, -4.58519983291626, -4.69890022277832, -4.060100078582764, -4.412300109863281, -4.059599876403809, -2.852799892425537, -4.260799884796143, -4.5472002029418945, -5.1315999031066895, -4.809299945831299, -4.226200103759766, -4.448699951171875, -4.717800140380859, -4.42140007019043, -4.69980001449585, -4.82390022277832, -4.637199878692627, -4.735199928283691, -2.046099901199341, -2.83489990234375, -3.3768999576568604, -3.6786000728607178, -3.845900058746338, -3.970400094985962, -3.9865000247955322, -4.406199932098389, -4.6834001541137695, -4.734000205993652, -4.896200180053711, -4.914400100708008, -4.916500091552734, -4.928999900817871, -4.996399879455566, -5.148499965667725, -5.325200080871582, -5.333399772644043, -5.8155999183654785, -5.941400051116943, -5.972700119018555, -6.049499988555908, -6.067299842834473, -6.113800048828125, -6.278800010681152, -6.485499858856201, -6.58050012588501, -6.625800132751465, -6.639100074768066, -6.702300071716309, -4.342800140380859, -3.244499921798706, -3.702699899673462, -4.196300029754639, -3.851900100708008, -4.947800159454346, -4.071199893951416, -4.274400234222412, -3.326200008392334, -3.7181999683380127, -5.361700057983398, -4.140399932861328, -4.445499897003174, -3.0236001014709473, -4.516300201416016, -3.8315999507904053, -4.6255998611450195, -3.629699945449829, -4.474599838256836, -4.391200065612793, -4.472799777984619, -1.5151000022888184, -2.989300012588501, -3.5869998931884766, -3.9189000129699707, -3.9842000007629395, -2.503499984741211, -4.258900165557861, -4.455399990081787, -4.610300064086914, -4.984000205993652, -4.998799800872803, -5.139100074768066, -5.153800010681152, -5.15910005569458, -5.20989990234375, -5.286099910736084, -5.6940999031066895, -5.701099872589111, -5.756199836730957, -5.792200088500977, -6.033100128173828, -6.187300205230713, -6.26230001449585, -6.424300193786621, -6.649799823760986, -6.750899791717529, -6.813199996948242, -3.05430006980896, -7.352399826049805, -7.560800075531006, -2.9686999320983887, -3.912400007247925, -5.173500061035156, -4.755000114440918, -4.098800182342529, -4.263999938964844, -4.863900184631348, -4.155700206756592, -4.5030999183654785, -4.398499965667725, -4.395899772644043, -4.576000213623047, -4.390600204467773, -4.284900188446045, -4.502200126647949, -3.8164000511169434, -4.106200218200684, -4.241300106048584, -4.696499824523926, -4.622700214385986, -4.971799850463867, -2.382200002670288, -2.980299949645996, -3.0692999362945557, -3.464200019836426, -3.647700071334839, -3.988100051879883, -4.217899799346924, -4.406700134277344, -4.455100059509277, -4.467899799346924, -4.4842000007629395, -4.559599876403809, -4.568600177764893, -4.670100212097168, -4.768400192260742, -4.878499984741211, -4.879300117492676, -4.898099899291992, -4.966100215911865, -5.1732001304626465, -5.297599792480469, -5.348199844360352, -5.424099922180176, -5.466599941253662, -5.476900100708008, -5.509200096130371, -5.541200160980225, -5.633200168609619, -5.677999973297119, -5.697500228881836, -2.8310999870300293, -3.2576000690460205, -4.96750020980835, -4.171800136566162, -3.5236001014709473, -3.8254001140594482, -3.210200071334839, -3.961199998855591, -4.078000068664551, -4.607900142669678, -4.421000003814697, -4.071400165557861, -4.413400173187256, -4.418700218200684, -4.650199890136719, -4.537700176239014, -3.001499891281128, -3.201900005340576, -3.3668999671936035, -3.369800090789795, -3.6092000007629395, -3.8705999851226807, -4.060999870300293, -4.242800235748291, -4.25, -4.265900135040283, -4.361299991607666, -4.475299835205078, -4.548999786376953, -4.599800109863281, -4.664599895477295, -4.846099853515625, -5.047699928283691, -5.0559000968933105, -5.098599910736084, -5.10230016708374, -5.2017998695373535, -5.2378997802734375, -5.2434000968933105, -5.291299819946289, -5.3231000900268555, -5.477399826049805, -5.4868998527526855, -5.524099826812744, -5.711100101470947, -5.716100215911865, -2.3682000637054443, -3.594099998474121, -3.503999948501587, -4.007199764251709, -4.1946001052856445, -3.8252999782562256, -4.246300220489502, -4.041500091552734, -4.52400016784668, -4.8618998527526855, -3.493000030517578, -4.248000144958496, -4.065000057220459, -3.7353999614715576, -4.217800140380859, -4.401400089263916, -1.881100058555603, -2.7026000022888184, -3.2853000164031982, -3.499000072479248, -4.292200088500977, -4.453100204467773, -4.51170015335083, -4.541200160980225, -4.690199851989746, -4.852499961853027, -4.972599983215332, -5.077199935913086, -5.092199802398682, -5.128600120544434, -5.1880998611450195, -5.375800132751465, -5.492300033569336, -5.900700092315674, -6.203199863433838, -6.658999919891357, -6.856400012969971, -7.068900108337402, -3.7785000801086426, -7.735300064086914, -4.0121002197265625, -7.896999835968018, -2.121500015258789, -3.3029000759124756, -4.0208001136779785, -3.565999984741211, -4.338699817657471, -3.4860999584198, -4.039400100708008, -2.5820000171661377, -3.9254000186920166, -4.303299903869629, -4.462699890136719, -3.8515000343322754, -4.640699863433838, -4.838099956512451, -4.582099914550781, -4.763199806213379, -5.05649995803833, -4.2530999183654785, -4.808000087738037, -4.833600044250488, -4.88730001449585, -5.268899917602539, -0.1762000024318695, -4.8618998527526855, -4.771299839019775, -4.8165998458862305, -5.4552998542785645, -5.405099868774414, -12.570300102233887, -12.570300102233887, -12.570300102233887, -12.570300102233887, -12.570300102233887, -12.570300102233887, -12.570300102233887, -12.570300102233887, -12.570300102233887, -12.570300102233887, -12.570300102233887, -12.570300102233887, -12.570300102233887, -12.570300102233887, -12.570300102233887, -12.570300102233887, -12.570300102233887, -12.570300102233887, -12.570300102233887, -7.720799922943115, -12.570300102233887, -12.570300102233887, -12.570300102233887, -12.570300102233887, -12.570300102233887, -12.570300102233887, -9.502900123596191, -12.570300102233887, -12.532400131225586, -12.570300102233887, -4.393199920654297, -4.43310022354126, -4.607100009918213, -4.668900012969971, -4.894599914550781, -4.909599781036377, -5.095699787139893, -5.447199821472168, -5.564700126647949, -5.583700180053711, -5.603000164031982, -5.660099983215332, -5.884799957275391, -6.029399871826172, -6.099800109863281, -6.3454999923706055, -6.716100215911865, -7.51230001449585, -7.63040018081665, -0.8513000011444092, -3.8838999271392822, -3.839099884033203, -3.3736000061035156, -2.585599899291992, -5.383600234985352, -4.559199810028076, -5.497700214385986, -4.618500232696533, -4.785699844360352, -3.8689000606536865, -3.6082000732421875, -3.6533000469207764, -4.271599769592285, -4.481200218200684, -4.638899803161621, -3.8910000324249268, -4.862599849700928, -4.4045000076293945, -4.716700077056885, -4.608799934387207, -4.854000091552734, -5.216300010681152, -5.319399833679199, -5.2606000900268555, -2.776700019836426, -3.1315999031066895, -3.177500009536743, -3.5146000385284424, -3.5439000129699707, -3.9626998901367188, -4.067599773406982, -4.084000110626221, -4.173600196838379, -4.206999778747559, -4.288700103759766, -4.753200054168701, -5.364099979400635, -5.6859002113342285, -6.457499980926514, -6.763500213623047, -4.120500087738037, -3.3380000591278076, -2.2825000286102295, -4.855899810791016, -2.759500026702881, -4.38129997253418, -3.6321001052856445, -5.242499828338623, -4.144999980926514, -6.489099979400635, -5.395100116729736, -3.8659000396728516, -3.1582999229431152, -5.361199855804443, -3.30430006980896, -2.940000057220459, -3.6247000694274902, -4.167099952697754, -3.6670000553131104, -4.227700233459473, -4.933899879455566, -4.886300086975098, -1.7242000102996826, -2.712399959564209, -3.192500114440918, -3.5164999961853027, -4.807000160217285, -6.470300197601318, -7.00570011138916, -4.815899848937988, -3.2985999584198, -3.01990008354187, -3.8824000358581543, -3.304800033569336, -4.767000198364258, -2.0218000411987305, -2.864799976348877, -4.440299987792969, -5.325900077819824, -3.628000020980835, -4.553400039672852, -2.8025999069213867, -4.9029998779296875, -4.098100185394287, -5.3769001960754395, -2.809299945831299, -4.373899936676025, -12.383399963378906, -12.383399963378906, -12.383399963378906, -12.383399963378906, -12.383399963378906, -5.022600173950195, -12.383399963378906, -12.383399963378906, -12.383399963378906, -12.383399963378906, -12.383399963378906, -12.383399963378906, -12.383399963378906, -12.383399963378906, -2.104599952697754, -2.875200033187866, -3.0601000785827637, -3.390199899673462, -3.5826001167297363, -3.622299909591675, -3.6549999713897705, -3.7355000972747803, -3.836199998855591, -4.189300060272217, -4.42609977722168, -4.435299873352051, -4.592599868774414, -4.60290002822876, -4.715700149536133, -4.735499858856201, -4.789599895477295, -4.827700138092041, -4.8333001136779785, -4.952199935913086, -5.013899803161621, -5.295599937438965, -5.386199951171875, -5.525300025939941, -5.582300186157227, -5.730899810791016, -5.7733001708984375, -5.851900100708008, -6.046500205993652, -6.124599933624268, -2.680000066757202, -2.125, -3.0213000774383545, -4.1890997886657715, -4.425300121307373, -4.192200183868408, -4.9394001960754395, -4.905200004577637, -5.059500217437744, -4.921899795532227, -3.1254000663757324, -3.292799949645996, -3.322200059890747, -3.529400110244751, -3.553800106048584, -3.617000102996826, -3.7578999996185303, -3.972399950027466, -4.1996002197265625, -4.379899978637695, -4.730599880218506, -4.86460018157959, -5.038400173187256, -5.109099864959717, -5.390600204467773, -5.970399856567383, -2.8071999549865723, -4.618599891662598, -5.1168999671936035, -3.313499927520752, -4.126800060272217, -3.0631000995635986, -4.384300231933594, -5.120299816131592, -4.6178998947143555, -4.80049991607666, -4.6483001708984375, -5.071300029754639, -3.825200080871582, -3.0267999172210693, -2.932800054550171, -3.4535000324249268, -3.9339001178741455, -3.0325000286102295, -3.6742000579833984, -3.904900074005127, -3.2811999320983887, -3.96589994430542, -1.4217000007629395, -2.792799949645996, -2.9530999660491943, -3.1182000637054443, -3.422300100326538, -3.767199993133545, -3.9082999229431152, -4.012499809265137, -4.135900020599365, -4.267399787902832, -4.36269998550415, -4.4197001457214355, -4.440400123596191, -4.735400199890137, -4.806700229644775, -5.008900165557861, -5.127900123596191, -5.128900051116943, -5.164700031280518, -5.360099792480469, -5.394199848175049, -5.621200084686279, -2.979599952697754, -3.039400100708008, -5.6153998374938965, -3.8803000450134277, -4.601099967956543, -3.4500999450683594, -4.683300018310547, -5.200799942016602, -3.827699899673462, -4.639500141143799, -5.006800174713135, -5.1996002197265625, -2.6242001056671143, -2.9549999237060547, -3.4256999492645264, -3.532099962234497, -3.566200017929077, -3.5697999000549316, -3.579200029373169, -3.7523999214172363, -3.9433000087738037, -4.077899932861328, -4.079400062561035, -4.1504998207092285, -4.165200233459473, -4.165800094604492, -4.274199962615967, -4.36329984664917, -4.497399806976318, -4.600500106811523, -4.814199924468994, -4.854300022125244, -4.891300201416016, -4.957900047302246, -4.981900215148926, -5.011199951171875, -3.0977001190185547, -5.189599990844727, -5.295100212097168, -5.380000114440918, -5.443699836730957, -5.544300079345703, -3.3024001121520996, -3.428800106048584, -3.3385000228881836, -3.1003000736236572, -3.870800018310547, -3.9298999309539795, -4.437900066375732, -4.065100193023682, -3.7044999599456787, -4.825300216674805, -2.386399984359741, -2.705899953842163, -2.75, -2.995800018310547, -3.3080999851226807, -3.3821001052856445, -3.5243000984191895, -3.544600009918213, -3.562299966812134, -3.6429998874664307, -4.183300018310547, -4.2729997634887695, -4.5524001121521, -4.947999954223633, -5.021699905395508, -5.661799907684326, -6.421000003814697, -2.946000099182129, -3.683000087738037, -3.809499979019165, -3.6180999279022217, -4.300600051879883, -3.389400005340576, -4.145500183105469, -4.819900035858154, -3.352400064468384, -3.612299919128418, -5.441199779510498, -6.417200088500977, -3.8794000148773193, -5.023600101470947, -4.753499984741211, -5.317399978637695, -1.9859000444412231, -2.580899953842163, -2.706700086593628, -3.0897998809814453, -3.521199941635132, -3.6605000495910645, -3.695499897003174, -3.8434998989105225, -3.9944000244140625, -4.087200164794922, -4.179800033569336, -4.218400001525879, -4.273799896240234, -4.364799976348877, -4.492599964141846, -4.577000141143799, -4.7052998542785645, -4.9918999671936035, -5.0742998123168945, -5.1691999435424805, -5.291200160980225, -5.328000068664551, -5.585999965667725, -5.83620023727417, -2.118499994277954, -3.293600082397461, -5.50629997253418, -3.4816999435424805, -5.430500030517578, -6.16379976272583, -5.796999931335449, -5.1265997886657715, -4.033100128173828, -5.045199871063232, -4.899899959564209, -5.228300094604492, -3.12719988822937, -3.314199924468994, -3.35260009765625, -3.4460999965667725, -3.5078001022338867, -3.525700092315674, -3.541800022125244, -3.5548999309539795, -3.6953999996185303, -3.7177999019622803, -3.735100030899048, -3.779599905014038, -3.802500009536743, -3.8877999782562256, -4.119800090789795, -4.131700038909912, -4.223199844360352, -4.293099880218506, -4.39169979095459, -4.781700134277344, -4.80210018157959, -4.837699890136719, -4.884500026702881, -4.928299903869629, -4.939000129699707, -4.976900100708008, -5.295100212097168, -6.447400093078613, -6.47760009765625, -3.6386001110076904, -3.0954999923706055, -2.9435999393463135, -4.073500156402588, -3.839200019836426, -3.570499897003174, -4.395999908447266, -4.044000148773193, -2.1382999420166016, -2.4124999046325684, -2.442199945449829, -3.24429988861084, -3.3610000610351562, -3.7121999263763428, -3.724299907684326, -3.728300094604492, -3.751800060272217, -3.8547000885009766, -3.8891000747680664, -4.063899993896484, -4.086299896240234, -4.160299777984619, -4.321000099182129, -4.373499870300293, -4.373799800872803, -4.506400108337402, -4.526299953460693, -4.582600116729736, -4.585700035095215, -4.670599937438965, -4.676599979400635, -4.786200046539307, -4.79580020904541, -4.941100120544434, -5.2154998779296875, -5.228400230407715, -5.311500072479248, -5.352799892425537, -4.231100082397461, -2.9990999698638916, -3.8826000690460205, -5.452000141143799, -5.707699775695801, -3.1135001182556152, -6.586299896240234, -1.038699984550476, -4.9822998046875, -2.845400094985962, -2.711899995803833, -3.2743000984191895, -3.841399908065796, -3.772700071334839, -3.1900999546051025, -4.504899978637695, -4.896999835968018, -4.229000091552734, -5.042399883270264, -4.676000118255615, -11.791299819946289, -11.791299819946289, -11.791299819946289, -11.791299819946289, -11.791299819946289, -11.791299819946289, -11.791299819946289, -11.791299819946289, -11.791299819946289, -11.791299819946289, -11.791299819946289, -5.590799808502197, -11.791299819946289, -11.791299819946289, -4.660799980163574, -4.065400123596191, -11.791299819946289, -5.774199962615967, -11.791299819946289, -11.791299819946289, -11.791299819946289, -11.791299819946289, -11.791299819946289, -11.791299819946289, -11.791299819946289, -2.6972999572753906, -2.7802999019622803, -2.782399892807007, -3.0090999603271484, -3.224299907684326, -3.4721999168395996, -3.903700113296509, -3.940500020980835, -3.9914000034332275, -4.015100002288818, -4.054299831390381, -4.0802001953125, -4.332900047302246, -4.432700157165527, -4.481400012969971, -4.481500148773193, -4.558800220489502, -5.006700038909912, -2.6786000728607178, -5.97629976272583, -6.00540018081665, -6.3242998123168945, -2.096400022506714, -7.783100128173828, -3.9828999042510986, -8.766500473022461, -3.8148999214172363, -5.007500171661377, -5.093400001525879, -6.38070011138916, -1.516700029373169, -1.7350000143051147, -2.4426000118255615, -2.555999994277954, -3.186000108718872, -3.5741000175476074, -3.6668999195098877, -3.6809000968933105, -3.7578001022338867, -3.947200059890747, -3.9544999599456787, -4.189499855041504, -7.979599952697754, -11.527199745178223, -11.527199745178223, -11.527199745178223, -11.527199745178223, -11.527199745178223, -11.527199745178223, -11.527199745178223, -11.527199745178223, -11.527199745178223, -11.527199745178223, -11.527199745178223, -11.527199745178223, -11.527199745178223, -11.527199745178223, -11.527199745178223, -11.527199745178223, -11.527199745178223, -6.809299945831299, -11.527199745178223, -11.527199745178223, -11.527199745178223, -11.527199745178223, -11.527199745178223, -1.9305000305175781, -2.8994998931884766, -3.070199966430664, -3.1131999492645264, -3.254300117492676, -3.4611001014709473, -3.859499931335449, -3.96370005607605, -4.137800216674805, -4.144599914550781, -4.187600135803223, -4.222099781036377, -4.242800235748291, -4.267099857330322, -4.322500228881836, -4.3694000244140625, -4.398200035095215, -4.426799774169922, -4.51039981842041, -4.593400001525879, -4.644400119781494, -4.774700164794922, -4.906599998474121, -5.137199878692627, -5.248000144958496, -5.317599773406982, -5.8993000984191895, -2.991300106048584, -7.46120023727417, -4.478300094604492, -4.443699836730957, -3.8805999755859375, -3.8696000576019287, -3.952899932861328, -4.8308000564575195, -1.592900037765503, -2.4788999557495117, -2.611799955368042, -2.8998000621795654, -3.024899959564209, -3.325700044631958, -3.648699998855591, -3.6498000621795654, -3.694700002670288, -3.812000036239624, -4.445799827575684, -5.092700004577637, -5.247099876403809, -8.104900360107422, -3.943700075149536, -11.131500244140625, -11.131500244140625, -11.131500244140625, -11.131500244140625, -11.131500244140625, -11.131500244140625, -11.131500244140625, -11.131500244140625, -11.131500244140625, -11.131500244140625, -11.131500244140625, -11.131500244140625, -11.131500244140625, -11.131500244140625, -11.131500244140625, -1.365399956703186, -2.4202001094818115, -2.5322000980377197, -3.36899995803833, -3.5441999435424805, -3.6874001026153564, -3.746799945831299, -4.083799839019775, -4.262899875640869, -4.647299766540527, -4.819900035858154, -6.0605998039245605, -4.209400177001953, -5.133699893951416, -5.218100070953369, -11.053000450134277, -11.053000450134277, -11.053000450134277, -11.053000450134277, -11.053000450134277, -11.053000450134277, -11.053000450134277, -11.053000450134277, -11.053000450134277, -11.053000450134277, -11.053000450134277, -11.053000450134277, -11.053000450134277, -11.053000450134277, -11.053000450134277, -11.053000450134277, -11.053000450134277, -1.9802000522613525, -2.6610000133514404, -3.0165998935699463, -3.323699951171875, -3.6391000747680664, -3.650899887084961, -3.7053000926971436, -3.7636001110076904, -4.304299831390381, -4.411099910736084, -4.821300029754639, -5.523600101470947, -5.966100215911865, -7.8394999504089355, -2.3896000385284424, -10.849499702453613, -10.849499702453613, -10.849499702453613, -10.849499702453613, -10.849499702453613, -10.849499702453613, -10.849499702453613, -10.849499702453613, -10.849499702453613, -10.849499702453613, -10.849499702453613, -10.849499702453613, -10.849499702453613, -10.849499702453613, -10.849499702453613, -10.849499702453613, -10.849499702453613, -10.849499702453613, -1.5400999784469604, -2.5552000999450684, -3.58489990234375, -4.29610013961792, -10.510499954223633, -10.510499954223633, -10.510499954223633, -10.510499954223633, -10.510499954223633, -10.510499954223633, -10.510499954223633, -10.510499954223633, -10.510499954223633, -10.510499954223633, -10.510499954223633, -10.510499954223633, -10.510499954223633, -10.510499954223633, -10.510499954223633, -10.510499954223633, -10.510499954223633, -10.510499954223633, -10.510499954223633, -10.510499954223633, -10.510499954223633, -10.510499954223633, -10.510499954223633, -10.510499954223633, -10.510499954223633, -10.510499954223633, -10.510499954223633], \"loglift\": [30.0, 29.0, 28.0, 27.0, 26.0, 25.0, 24.0, 23.0, 22.0, 21.0, 20.0, 19.0, 18.0, 17.0, 16.0, 15.0, 14.0, 13.0, 12.0, 11.0, 10.0, 9.0, 8.0, 7.0, 6.0, 5.0, 4.0, 3.0, 2.0, 1.0, 1.5497, 1.5497, 1.5496, 1.5496, 1.5495, 1.5493, 1.5492, 1.5489, 1.5485, 1.5481, 1.5479, 1.5479, 1.5479, 1.5478, 1.5477, 1.5477, 1.5476, 1.5476, 1.5476, 1.5476, 1.5476, 1.5476, 1.5475, 1.5475, 1.5474, 1.5472, 1.5471, 1.547, 1.5469, 1.5468, 1.5306, 1.4817, 1.4527, 1.4359, 1.5234, 1.41, 1.4636, 1.2033, 1.328, 1.3995, 1.378, 0.478, 1.2587, 1.3842, 1.336, 1.3324, 0.8701, 1.3611, 0.2757, 1.0679, 0.7723, 0.6948, 0.7269, -0.4347, 0.2404, 0.9414, 0.4961, 1.8374, 1.8371, 1.8368, 1.8366, 1.8362, 1.836, 1.8356, 1.8355, 1.8355, 1.8353, 1.835, 1.835, 1.8348, 1.8345, 1.8345, 1.8345, 1.8343, 1.8338, 1.8336, 1.8336, 1.8334, 1.8333, 1.833, 1.8328, 1.8326, 1.8326, 1.8324, 1.8322, 1.8318, 1.8317, 1.8275, 1.8171, 1.81, 1.8222, 1.744, 1.8051, 1.7166, 1.7286, 1.6789, 1.5981, 0.9952, 1.152, 1.4339, 1.5718, 0.7801, 1.674, 1.5765, 0.6093, 0.9536, 0.8358, 1.1335, 1.1206, 1.1717, 0.6963, 0.6378, 0.7187, 1.4151, -0.8122, 2.2521, 2.2516, 2.2515, 2.2513, 2.251, 2.2504, 2.2503, 2.2499, 2.2493, 2.249, 2.2489, 2.2489, 2.2487, 2.2483, 2.2482, 2.2482, 2.2481, 2.2478, 2.2478, 2.2476, 2.2476, 2.2475, 2.2474, 2.2473, 2.2472, 2.2472, 2.2468, 2.2465, 2.2465, 2.246, 2.2361, 2.2292, 2.2205, 2.2313, 2.1897, 2.2043, 2.1543, 2.1184, 1.9503, 1.9127, 1.976, 1.7145, 1.858, 1.9665, 2.0175, 1.8214, 2.0393, 1.287, 0.5957, 0.6856, 1.9407, 1.6025, 1.2069, 1.5781, -0.2866, 0.7496, 1.2669, 2.7576, 2.7573, 2.756, 2.756, 2.7559, 2.7535, 2.7509, 2.7494, 2.746, 2.7452, 2.739, 2.6897, 2.6875, 2.6848, 2.682, 2.6556, 2.6468, 2.623, 2.5866, 2.5769, 2.3109, 2.29, 2.2764, 1.9235, 1.2724, 1.2617, 1.2475, 1.2406, 1.124, 1.0644, 0.9236, 0.8007, 0.6656, 0.8516, 0.5767, -0.6039, 2.9404, 2.9371, 2.9357, 2.9354, 2.935, 2.9349, 2.934, 2.934, 2.9335, 2.9319, 2.9311, 2.9306, 2.9251, 2.9241, 2.9206, 2.9204, 2.9192, 2.918, 2.9175, 2.9164, 2.9157, 2.9155, 2.9141, 2.9095, 2.9025, 2.9014, 2.8987, 2.8967, 2.895, 2.8904, 2.8727, 2.845, 2.823, 2.7629, 2.7379, 2.6925, 2.3305, 2.5029, 2.5978, 2.4961, 2.5448, 2.5488, 2.3553, 2.4487, 2.2718, 1.8421, 2.3207, 2.3367, 2.5972, 2.0574, 1.0983, 1.1636, 1.6546, 0.4884, 1.0771, 1.865, -1.6064, 0.22, 3.2119, 3.2114, 3.2107, 3.2101, 3.2097, 3.2094, 3.2093, 3.2078, 3.2063, 3.206, 3.2049, 3.2048, 3.2047, 3.2046, 3.2041, 3.2028, 3.2009, 3.2008, 3.1938, 3.1913, 3.1907, 3.189, 3.1886, 3.1874, 3.183, 3.1765, 3.1729, 3.1712, 3.1706, 3.168, 3.1496, 2.8306, 2.8247, 2.8614, 2.6843, 2.8316, 2.464, 2.5168, 1.954, 1.8941, 2.7887, 1.8809, 2.0312, 0.805, 2.0044, 0.2447, 2.0237, -0.5989, 1.4868, 1.0334, -0.2481, 3.2677, 3.2668, 3.2659, 3.2651, 3.2649, 3.2646, 3.2639, 3.263, 3.2621, 3.2595, 3.2594, 3.2581, 3.2579, 3.2579, 3.2574, 3.2565, 3.2508, 3.2507, 3.2497, 3.249, 3.2439, 3.24, 3.2378, 3.2326, 3.2238, 3.2192, 3.2162, 3.2087, 3.1807, 3.1616, 3.1192, 3.0644, 3.0503, 2.9529, 2.5533, 2.4249, 2.5957, 2.2352, 2.3807, 2.3144, 2.1245, 2.1973, 1.9817, 1.7909, 1.6789, 0.0122, 0.5887, -0.165, 1.5025, 0.5511, 0.1715, 3.2916, 3.2911, 3.291, 3.2904, 3.29, 3.289, 3.2882, 3.2874, 3.2871, 3.2871, 3.287, 3.2866, 3.2865, 3.2859, 3.2852, 3.2844, 3.2844, 3.2843, 3.2837, 3.2817, 3.2803, 3.2797, 3.2787, 3.2782, 3.278, 3.2775, 3.2771, 3.2756, 3.2749, 3.2745, 2.9519, 2.9414, 3.158, 2.9527, 2.7665, 2.6673, 2.3465, 2.4309, 2.4424, 2.5404, 2.3366, 1.5686, 2.1072, 1.6751, 2.3198, 1.4826, 3.418, 3.4177, 3.4174, 3.4174, 3.4168, 3.4161, 3.4154, 3.4146, 3.4146, 3.4145, 3.414, 3.4134, 3.4129, 3.4126, 3.4122, 3.4107, 3.4088, 3.4087, 3.4083, 3.4082, 3.4071, 3.4066, 3.4066, 3.4059, 3.4055, 3.4032, 3.4031, 3.4025, 3.399, 3.3989, 3.3904, 3.3574, 3.3074, 3.3168, 3.2379, 3.1321, 3.1959, 2.8252, 3.0391, 3.1622, 1.8316, 2.2794, 2.0241, 1.05, 1.506, 1.8616, 3.542, 3.5414, 3.5405, 3.54, 3.5369, 3.5359, 3.5355, 3.5353, 3.5342, 3.5327, 3.5314, 3.5302, 3.53, 3.5296, 3.5288, 3.526, 3.524, 3.5147, 3.5051, 3.4841, 3.4718, 3.4558, 3.4477, 3.38, 3.3568, 3.354, 3.3262, 3.1739, 3.1438, 3.005, 2.805, 2.297, 2.4301, 1.6427, 2.1504, 2.253, 2.2867, 1.473, 2.3362, 2.4818, 1.1948, 0.8491, 2.3121, 3.7071, 3.7024, 3.7021, 3.7015, 3.6959, 3.4599, 3.3459, 2.3372, 2.2753, 1.5076, 1.2555, 0.4045, 0.4045, 0.4045, 0.4045, 0.4045, 0.4045, 0.4045, 0.4045, 0.4045, 0.4045, 0.4045, 0.4045, 0.4045, 0.4045, 0.4045, 0.4045, 0.4045, 0.4045, 0.4045, -0.171, 0.4045, 0.4045, 0.4045, 0.4045, 0.4045, 0.4045, -3.726, 0.4045, -5.4749, 0.4045, 3.7669, 3.7666, 3.7651, 3.7645, 3.7619, 3.7617, 3.759, 3.7524, 3.7496, 3.7492, 3.7487, 3.7472, 3.7403, 3.7351, 3.7322, 3.7207, 3.6973, 3.6104, 3.5916, 3.3734, 3.208, 3.1724, 3.0185, 2.9711, 2.9507, 2.9491, 2.8894, 2.8284, 2.7613, 2.7127, 2.6819, 2.4319, 2.0093, 2.1117, 2.0217, 0.8039, 1.9982, 1.1856, 1.454, -0.5325, 0.2894, 1.8638, 1.4878, -1.4321, 3.9276, 3.9268, 3.9267, 3.9256, 3.9255, 3.9234, 3.9227, 3.9226, 3.922, 3.9218, 3.9211, 3.9162, 3.9053, 3.8963, 3.8592, 3.8352, 3.5348, 3.2754, 3.042, 3.0233, 2.9644, 2.6933, 2.6866, 2.5653, 2.453, 2.3774, 2.3379, 2.3048, 2.2894, 2.2794, 2.17, 1.7567, 1.8989, 1.922, 1.4471, -0.1514, 1.4815, 0.726, 4.0224, 4.0212, 4.02, 4.0189, 4.0079, 3.9453, 3.8936, 3.7602, 3.3939, 3.2988, 3.006, 2.9939, 2.8883, 2.6749, 2.6095, 2.2203, 2.1509, 1.8957, 1.5318, 1.4086, 1.3844, 1.3266, 1.3247, 1.267, 1.2162, 0.5915, 0.5915, 0.5915, 0.5915, 0.5915, 0.5897, 0.5915, 0.5915, 0.5915, 0.5915, 0.5915, 0.5915, 0.5915, 0.5915, 4.0935, 4.0923, 4.0918, 4.0907, 4.0898, 4.0896, 4.0895, 4.089, 4.0884, 4.0858, 4.0835, 4.0834, 4.0815, 4.0814, 4.0798, 4.0795, 4.0787, 4.0781, 4.078, 4.0759, 4.0747, 4.0683, 4.0658, 4.0616, 4.0597, 4.0542, 4.0525, 4.0491, 4.0396, 4.0353, 3.6501, 3.5151, 2.948, 2.8685, 2.723, 2.0539, 2.7685, 2.1064, 2.7317, 1.5142, 4.1123, 4.1117, 4.1116, 4.1107, 4.1106, 4.1103, 4.1095, 4.1081, 4.1062, 4.1044, 4.0999, 4.0977, 4.0943, 4.0928, 4.0856, 4.0628, 3.9413, 3.681, 3.6599, 3.6357, 3.6062, 3.3996, 3.1986, 3.0301, 2.913, 2.8559, 2.8208, 2.8208, 2.7458, 2.6022, 2.5909, 2.2703, 2.4637, 1.7385, 2.1434, 1.7352, 0.5474, 0.1104, 4.1379, 4.1362, 4.1358, 4.1353, 4.1342, 4.1324, 4.1315, 4.1307, 4.1297, 4.1285, 4.1275, 4.1269, 4.1266, 4.1226, 4.1215, 4.1177, 4.1151, 4.1151, 4.1142, 4.1091, 4.1081, 4.1005, 3.9834, 3.8227, 3.7191, 2.9109, 2.4105, 2.2738, 2.2462, 2.2308, 1.8124, 1.8957, 1.0691, 0.8217, 4.302, 4.3011, 4.2992, 4.2986, 4.2985, 4.2984, 4.2984, 4.2973, 4.2958, 4.2946, 4.2946, 4.2938, 4.2937, 4.2937, 4.2925, 4.2914, 4.2895, 4.288, 4.2841, 4.2833, 4.2825, 4.281, 4.2805, 4.2798, 4.278, 4.275, 4.2718, 4.269, 4.2667, 4.2629, 4.0968, 4.0382, 3.9504, 3.4349, 3.4481, 3.4073, 3.6258, 2.7261, 1.4096, 3.842, 4.4088, 4.4081, 4.408, 4.4072, 4.4058, 4.4055, 4.4046, 4.4045, 4.4044, 4.4038, 4.3989, 4.3978, 4.3936, 4.3853, 4.3834, 4.3593, 4.3039, 4.1608, 4.1082, 4.0826, 4.0018, 3.7655, 3.0734, 2.8336, 2.7432, 2.7377, 2.408, 2.2399, 2.0388, 1.7607, 1.596, 1.2041, 0.4916, 4.437, 4.4359, 4.4356, 4.4342, 4.432, 4.4311, 4.4308, 4.4296, 4.4281, 4.4272, 4.4261, 4.4256, 4.4249, 4.4236, 4.4216, 4.4201, 4.4176, 4.4108, 4.4085, 4.4056, 4.4014, 4.4, 4.389, 4.3754, 4.1569, 4.1183, 3.8228, 3.4675, 3.4459, 3.124, 3.0894, 2.9441, 2.4296, 2.1935, 0.8587, 2.3697, 4.7818, 4.7806, 4.7803, 4.7795, 4.779, 4.7788, 4.7787, 4.7786, 4.7772, 4.7769, 4.7767, 4.7762, 4.7759, 4.7749, 4.7715, 4.7713, 4.7697, 4.7684, 4.7664, 4.7563, 4.7557, 4.7545, 4.753, 4.7514, 4.751, 4.7496, 4.7357, 4.631, 4.6266, 4.3681, 4.2978, 4.0469, 3.8247, 3.2675, 2.5186, 3.8383, 2.0461, 4.8046, 4.8039, 4.8038, 4.8, 4.7991, 4.7958, 4.7957, 4.7956, 4.7954, 4.7941, 4.7937, 4.7911, 4.7908, 4.7896, 4.7866, 4.7855, 4.7855, 4.7825, 4.782, 4.7805, 4.7805, 4.7782, 4.778, 4.7747, 4.7744, 4.7694, 4.7578, 4.7572, 4.753, 4.7508, 2.099, 4.8341, 4.826, 4.7753, 4.7573, 4.6542, 4.6516, 4.5903, 3.7946, 3.43, 3.2494, 3.2461, 3.1354, 2.9162, 2.8857, 2.6036, 2.5993, 2.4839, 2.39, 1.9055, 1.1836, 1.1836, 1.1836, 1.1836, 1.1836, 1.1836, 1.1836, 1.1836, 1.1836, 1.1836, 1.1836, 0.7218, 1.1836, 1.1836, 0.4826, 0.0109, 1.1836, -1.0793, 1.1836, 1.1836, 1.1836, 1.1836, 1.1836, 1.1836, 1.1836, 4.8853, 4.8849, 4.8849, 4.8836, 4.8822, 4.8801, 4.875, 4.8745, 4.8737, 4.8733, 4.8727, 4.8722, 4.8673, 4.8649, 4.8637, 4.8637, 4.8617, 4.8462, 4.8011, 4.7788, 4.7757, 4.7361, 4.4366, 4.3509, 4.1314, 3.8221, 3.3592, 3.2163, 2.0503, 1.8526, 4.8999, 4.8995, 4.8978, 4.8974, 4.894, 4.8905, 4.8895, 4.8894, 4.8884, 4.8857, 4.8856, 4.8815, 4.2692, 1.4477, 1.4477, 1.4477, 1.4477, 1.4477, 1.4477, 1.4477, 1.4477, 1.4477, 1.4477, 1.4477, 1.4477, 1.4477, 1.4477, 1.4477, 1.4477, 1.4477, 0.5033, 1.4477, 1.4477, 1.4477, 1.4477, 1.4477, 4.9692, 4.9656, 4.9645, 4.9642, 4.9631, 4.9612, 4.9562, 4.9545, 4.9513, 4.9512, 4.9503, 4.9496, 4.9491, 4.9486, 4.9473, 4.9461, 4.9454, 4.9447, 4.9424, 4.9399, 4.9383, 4.9337, 4.9285, 4.9177, 4.9116, 4.9074, 4.8596, 4.5923, 4.524, 3.8574, 3.7694, 3.6178, 2.7212, 2.7607, 2.1207, 5.4258, 5.4222, 5.4214, 5.419, 5.4178, 5.4141, 5.4088, 5.4088, 5.4079, 5.4054, 5.3855, 5.3481, 5.3353, 4.4353, 3.5646, 1.8434, 1.8434, 1.8434, 1.8434, 1.8434, 1.8434, 1.8434, 1.8434, 1.8434, 1.8434, 1.8434, 1.8434, 1.8434, 1.8434, 1.8434, 5.5089, 5.5048, 5.5041, 5.495, 5.492, 5.4891, 5.4877, 5.4785, 5.4722, 5.4545, 5.4442, 5.2968, 4.4229, 2.34, 2.3076, 1.9219, 1.9219, 1.9219, 1.9219, 1.9219, 1.9219, 1.9219, 1.9219, 1.9219, 1.9219, 1.9219, 1.9219, 1.9219, 1.9219, 1.9219, 1.9219, 1.9219, 5.7815, 5.7764, 5.7719, 5.7666, 5.7592, 5.7589, 5.7573, 5.7556, 5.7338, 5.728, 5.6994, 5.6176, 5.5345, 4.7329, 4.4726, 2.1254, 2.1254, 2.1254, 2.1254, 2.1254, 2.1254, 2.1254, 2.1254, 2.1254, 2.1254, 2.1254, 2.1254, 2.1254, 2.1254, 2.1254, 2.1254, 2.1254, 2.1254, 6.7649, 6.7487, 6.7045, 6.6371, 2.4644, 2.4644, 2.4644, 2.4644, 2.4644, 2.4644, 2.4644, 2.4644, 2.4644, 2.4644, 2.4644, 2.4644, 2.4644, 2.4644, 2.4644, 2.4644, 2.4644, 2.4644, 2.4644, 2.4644, 2.4644, 2.4644, 2.4644, 2.4644, 2.4644, 2.4644, 0.0427]}, \"token.table\": {\"Topic\": [6, 7, 18, 18, 2, 5, 10, 2, 9, 26, 8, 12, 5, 1, 2, 3, 23, 2, 7, 21, 26, 1, 20, 27, 19, 12, 26, 1, 3, 1, 5, 8, 1, 2, 1, 2, 19, 16, 20, 20, 29, 29, 9, 16, 26, 26, 1, 2, 3, 5, 13, 9, 1, 24, 19, 22, 9, 1, 10, 20, 1, 1, 5, 1, 2, 3, 1, 9, 24, 2, 3, 12, 21, 15, 26, 28, 2, 25, 9, 21, 1, 2, 6, 13, 14, 3, 23, 3, 22, 20, 1, 6, 8, 15, 1, 9, 9, 15, 9, 20, 23, 26, 21, 1, 9, 10, 16, 17, 6, 12, 15, 16, 17, 6, 7, 4, 1, 5, 8, 1, 9, 18, 18, 9, 6, 8, 1, 6, 25, 6, 12, 15, 17, 17, 3, 1, 19, 16, 6, 24, 2, 9, 7, 2, 9, 13, 21, 25, 20, 6, 2, 10, 15, 22, 7, 8, 17, 24, 24, 3, 18, 21, 23, 1, 2, 12, 1, 8, 1, 2, 10, 6, 3, 3, 3, 5, 9, 14, 5, 2, 9, 13, 18, 26, 17, 26, 2, 1, 9, 18, 18, 19, 21, 13, 2, 21, 1, 26, 23, 21, 28, 13, 13, 1, 26, 2, 22, 16, 19, 22, 1, 18, 1, 2, 6, 2, 10, 16, 1, 22, 16, 10, 2, 5, 13, 5, 9, 17, 5, 12, 18, 23, 12, 3, 8, 20, 2, 26, 1, 20, 24, 8, 8, 8, 3, 5, 3, 17, 24, 2, 10, 10, 8, 2, 16, 2, 2, 16, 26, 25, 5, 3, 2, 9, 12, 1, 8, 7, 15, 26, 26, 15, 24, 26, 26, 14, 18, 7, 15, 16, 17, 23, 4, 13, 14, 17, 5, 13, 7, 1, 2, 3, 5, 7, 1, 10, 9, 5, 3, 1, 6, 17, 5, 6, 7, 21, 1, 2, 6, 2, 6, 22, 2, 7, 13, 5, 7, 15, 13, 3, 5, 8, 18, 19, 15, 2, 3, 8, 15, 1, 16, 20, 6, 6, 29, 17, 15, 21, 21, 10, 6, 7, 10, 14, 27, 26, 13, 11, 27, 26, 1, 2, 4, 5, 7, 9, 17, 2, 4, 5, 9, 17, 8, 1, 3, 8, 12, 21, 28, 7, 16, 2, 3, 5, 1, 5, 6, 7, 9, 1, 3, 6, 9, 5, 5, 13, 15, 8, 28, 8, 7, 8, 22, 20, 26, 1, 2, 4, 6, 7, 15, 27, 1, 3, 7, 4, 5, 22, 15, 26, 20, 21, 17, 15, 19, 21, 2, 2, 22, 3, 7, 11, 23, 11, 16, 12, 6, 18, 8, 10, 10, 14, 4, 6, 3, 2, 3, 5, 2, 5, 5, 9, 8, 16, 19, 20, 16, 19, 7, 8, 16, 23, 26, 24, 8, 4, 5, 13, 28, 11, 3, 7, 8, 12, 3, 16, 10, 7, 15, 6, 6, 9, 6, 21, 17, 6, 17, 18, 18, 7, 23, 10, 3, 5, 13, 1, 2, 8, 18, 1, 10, 24, 12, 2, 1, 2, 5, 6, 5, 8, 10, 1, 2, 3, 12, 13, 7, 15, 6, 16, 1, 7, 8, 11, 12, 3, 7, 8, 19, 1, 28, 4, 9, 1, 2, 5, 11, 12, 14, 5, 18, 18, 29, 9, 1, 3, 21, 1, 24, 24, 28, 6, 4, 5, 6, 13, 17, 29, 12, 9, 24, 15, 24, 1, 3, 7, 22, 20, 20, 9, 12, 2, 19, 3, 5, 8, 12, 26, 10, 16, 22, 3, 7, 29, 1, 21, 1, 2, 6, 10, 9, 17, 18, 1, 3, 1, 3, 5, 15, 21, 13, 2, 2, 10, 2, 10, 1, 17, 27, 26, 19, 1, 21, 1, 16, 28, 19, 1, 7, 23, 1, 2, 3, 5, 7, 10, 11, 2, 10, 2, 4, 9, 19, 20, 4, 9, 10, 13, 2, 3, 5, 12, 13, 17, 2, 7, 8, 3, 25, 22, 2, 8, 2, 8, 1, 3, 8, 13, 1, 20, 9, 9, 6, 2, 3, 17, 24, 1, 2, 8, 19, 24, 2, 3, 5, 8, 10, 10, 1, 1, 2, 3, 22, 5, 7, 1, 18, 13, 15, 16, 1, 15, 22, 22, 3, 29, 10, 22, 5, 24, 1, 3, 5, 7, 12, 23, 6, 16, 18, 15, 3, 2, 24, 1, 3, 2, 3, 7, 15, 24, 21, 17, 1, 3, 3, 26, 25, 27, 27, 6, 9, 6, 3, 5, 4, 5, 4, 18, 12, 3, 5, 7, 2, 20, 18, 20, 3, 13, 6, 2, 3, 5, 6, 10, 13, 14, 15, 19, 30, 1, 1, 6, 15, 1, 3, 8, 1, 2, 3, 10, 13, 14, 16, 23, 1, 19, 1, 19, 21, 2, 16, 12, 9, 22, 17, 9, 15, 1, 5, 2, 3, 21, 12, 2, 4, 5, 11, 8, 6, 8, 6, 3, 5, 7, 1, 5, 8, 10, 20, 7, 7, 4, 1, 6, 21, 29, 1, 21, 3, 1, 9, 18, 4, 7, 13, 18, 15, 1, 2, 3, 6, 13, 2, 3, 4, 5, 14, 7, 16, 21, 17, 3, 4, 14, 18, 1, 8, 7, 24, 18, 10, 21, 21, 8, 9, 20, 1, 9, 9, 9, 26, 1, 6, 1, 6, 17, 20, 1, 2, 3, 4, 6, 13, 14, 17, 22, 27, 15, 1, 4, 29, 5, 26, 2, 5, 13, 15, 5, 19, 15, 10, 17, 2, 10, 2, 13, 6, 26, 5, 8, 2, 8, 14, 13, 14, 9, 3, 7, 18, 13, 2, 3, 6, 10, 12, 2, 9, 13, 16, 17, 1, 5, 6, 4, 7, 15, 7, 22, 12, 26, 9, 20, 19, 3, 8, 1, 7, 21, 12, 22, 27, 29, 19, 26, 17, 21, 9, 26, 8, 28, 1, 2, 26, 5, 20, 5, 7, 16, 23, 2, 1, 2, 8, 15, 17, 22, 8, 15, 16, 17, 19, 9, 21, 21, 10, 14, 1, 2, 8, 12, 16, 23, 19, 19, 8, 3, 5, 12, 27, 15, 27, 14, 11, 24, 29, 3, 5, 3, 20, 11, 18, 9, 1, 9, 19, 19, 24, 1, 6, 24, 10, 30, 2, 2, 10, 14, 4, 14, 7, 5, 13, 5, 15, 19, 19, 3, 12, 8, 10, 3, 1, 3, 8, 12, 3, 6, 22, 5, 3, 8, 9, 12, 18, 21, 2, 28, 2, 21, 7, 8, 13, 14, 18, 22, 18, 3, 24, 18, 8, 15, 26, 20, 17, 25, 9, 6, 9, 15, 9, 22, 3, 1, 5, 5, 1, 12, 6, 6, 17, 18, 29, 18, 9, 2, 4, 13, 5, 3, 1, 2, 3, 4, 5, 6, 7, 12, 13, 14, 16, 23, 1, 13, 5, 7, 4, 2, 7, 8, 12, 8, 1, 7, 12, 5, 7, 1, 2, 3, 5, 6, 7, 8, 12, 16, 2, 4, 4, 5, 16, 19, 24, 9, 16, 7, 1, 3, 5, 12, 3, 12, 12, 6, 10, 5, 7, 7, 1, 2, 24, 14, 5, 8, 16, 3, 5, 21, 5, 24, 6, 19, 1, 6, 19, 2, 3, 5, 14, 1, 17, 2, 5, 9, 10, 13, 2, 2, 13, 10, 24, 16, 20, 16, 27, 28, 5, 20, 4, 4, 22, 1, 2, 3, 8, 8, 1, 2, 5, 6, 12, 14, 7, 1, 7, 11, 12, 8, 18, 15, 16, 2, 18, 22, 1, 16, 25, 20, 20, 16, 23, 16, 23, 24, 13, 1, 2, 6, 15, 12, 8, 29, 10, 3, 18, 1, 3, 25, 6, 5, 18, 10, 13, 18, 11, 17, 22, 3, 25, 22, 26, 2, 20, 20, 8, 28, 18, 3, 6, 15, 7, 7, 27, 18, 1, 6, 8, 30, 22, 1, 1, 19, 17, 8, 3, 13, 4, 26, 7, 28, 18, 9, 21, 21, 2, 12, 17, 4, 22, 1, 2, 3, 5, 6, 7, 12, 16, 1, 1, 3, 7, 12, 18, 6, 15, 1, 4, 5, 6, 9, 12, 13, 14, 26, 13, 10, 28, 1, 2, 3, 6, 3, 1, 5, 6, 9, 17, 1, 8, 19, 19, 16, 16, 23, 28, 2, 5, 6, 7, 10, 17, 23, 5, 5, 5, 1, 7, 1, 6, 2, 25, 25, 24, 1, 2, 3, 6, 12, 13, 14, 21, 15, 8, 18, 27, 8, 20, 2, 25, 6, 22, 1, 16, 20, 8, 25, 20, 5, 30, 27, 7, 29, 20, 21, 4, 14, 17, 9, 16, 1, 6, 23, 6, 16, 5, 1, 2, 5, 17, 29, 2, 20, 3, 17, 20, 23, 10, 1, 20, 15, 15, 12, 1, 15, 1, 2, 9, 4, 1, 3, 4, 5, 7, 8, 12, 23, 4, 11, 13, 6, 1, 2, 3, 5, 12, 4, 4, 10, 6, 15, 17], \"Freq\": [0.9670737474900274, 0.9962870981422838, 0.9812041401926416, 0.9918543303906144, 0.9961517362014852, 0.08762214956722854, 0.910296776059541, 0.9983620336189508, 0.9394582968694561, 0.057329148037309326, 0.5528448052470212, 0.44227584419761695, 0.9784485117313022, 0.6374428121534251, 0.010737934048526304, 0.334828307149502, 0.016594988984086106, 0.9978893753581372, 0.9954074063291355, 0.9943484386942655, 0.9707614055006035, 0.8684253839878585, 0.1270866415591988, 0.9087829505996333, 0.9916987229538046, 0.9930018126652889, 0.9832479478484207, 0.8813664322512542, 0.996860925631758, 0.3208063094034378, 0.6764288074243029, 0.9878772148088505, 0.34342349352262785, 0.6554150062821678, 0.4640728901388217, 0.4941897148675948, 0.040383924068127554, 0.6180909299146159, 0.3782347481567052, 0.9153597045334047, 0.9733172420174794, 0.8543815984397921, 0.4871955295101928, 0.1771620107309792, 0.32479701967346186, 0.9768412107643228, 0.4591427091637124, 0.36702171974551534, 0.13050473500911253, 0.03984598351818842, 0.0025589163727276964, 0.9895040765528862, 0.3626327257338941, 0.6352157142050091, 0.9962999186414823, 0.9980298044085245, 0.989834881609808, 0.45306619218827904, 0.31714633453179536, 0.22653309609413952, 0.9964337528014515, 0.9986897572192412, 0.9723492788248862, 0.0786625192801267, 0.852867314300321, 0.06762216569695102, 0.6796600552209704, 0.26653335498861586, 0.04664333712300777, 0.48136526252444545, 0.2905081584358057, 0.1689000921138405, 0.05742603131870577, 0.9807099482508669, 0.9707511174262693, 0.9890451504172626, 0.9844715005479091, 0.013267809980430043, 0.3825775956039216, 0.6126994576213182, 0.24991700849975823, 0.30099801868298587, 0.03335041160723125, 0.17224010045253607, 0.24316249475652152, 0.8897210716203783, 0.10523582567552861, 0.9944147092236303, 0.9717431839632159, 0.9873431632625425, 0.36419109970670416, 0.2992857552045193, 0.3052955093250919, 0.03004877060286338, 0.9980892413512867, 0.9802303358229297, 0.9978330191501329, 0.9820231890358148, 0.8346191690270841, 0.07478666389131577, 0.08675253011392631, 0.990267682953701, 0.9865834454579792, 0.43756709944096545, 0.21102526781550104, 0.0248265020959413, 0.2730915230553543, 0.0496530041918826, 0.1060456353379997, 0.5479024492463318, 0.13746656432703663, 0.03142092898903694, 0.17674272556333281, 0.9693336234697719, 0.9636688498415701, 0.9976441388957107, 0.9966746890137742, 0.9826499547135039, 0.9948135700974731, 0.1765116088793332, 0.05264381317453797, 0.7648836384771106, 0.9879418882025163, 0.9816572901840688, 0.9997261832136454, 0.9947493099075603, 0.05717321555296619, 0.9401817668709996, 0.9902198127843382, 0.9992961134777403, 0.9432371282414832, 0.9969231606416804, 0.9938454796786148, 0.9971767507321873, 0.9950288484561433, 0.8991653112917032, 0.09158165207600681, 0.9673080865324839, 0.9788737730434764, 0.9919816108263948, 0.10448758650276115, 0.8937707399313106, 0.9996696455937885, 0.5136768970283128, 0.2474704807871963, 0.13427420408642826, 0.10304764499656123, 0.36949753964816034, 0.9915039950345702, 0.9795572053994913, 0.71312978658078, 0.2855540882706937, 0.9965205725762509, 0.9978121310084991, 0.9940100909315731, 0.9897048048756083, 0.9630742989614168, 0.9866225022287727, 0.9907002927726045, 0.5714471009204463, 0.4245798553567801, 0.9491375080375155, 0.9860835178588184, 0.013709173829449422, 0.9722967900578744, 0.012654621996414851, 0.8008274095949764, 0.19844205154508232, 0.2927007016233668, 0.4309550755816379, 0.2752632130160173, 0.9926838046225036, 0.9980861248397457, 0.9977328443104484, 0.9944773862603956, 0.9803476926634063, 0.9851327616137687, 0.9452401242833584, 0.9632183964583315, 0.7863919442193417, 0.12155004290041346, 0.041437514625140955, 0.04880418389183268, 0.9780314396058108, 0.9702966256205127, 0.958837623243347, 0.9958264476797206, 0.09393821367841498, 0.9018068513127838, 0.9926342432717773, 0.9938892610400567, 0.7797131195953804, 0.21814688387571582, 0.9935531011286995, 0.334673949893572, 0.6587233299492529, 0.30969785059500793, 0.6855109726653547, 0.9959100749923515, 0.989322142715448, 0.9792596158964435, 0.9928763474921719, 0.9223701919218775, 0.9968536459288315, 0.9958733841956771, 0.9991236182166943, 0.9851815000296223, 0.9948896293732428, 0.9981366172969812, 0.9752442636237028, 0.9950611990352851, 0.983621165182349, 0.10580162820944566, 0.2031391261621357, 0.6813624856688301, 0.16054562735682168, 0.584032124715367, 0.25409189841512725, 0.9978513169017689, 0.9908412924112023, 0.9940910753524347, 0.9989898360242484, 0.9103183024926911, 0.08618256081088504, 0.003360879808781033, 0.4128455128246507, 0.5521596364938743, 0.032280101825795736, 0.5377931923142991, 0.34618041595528515, 0.06131608843488446, 0.0536515773805239, 0.9558668501290714, 0.5070134022118769, 0.1140780154976723, 0.36758471660361075, 0.9966339666023297, 0.9774069802619916, 0.4385690311269502, 0.5382438109285298, 0.9900955923519095, 0.9949259639399956, 0.9890333588379181, 0.9947668551760386, 0.9960354401704811, 0.9945983811732134, 0.9525139223846988, 0.0439199503116864, 0.9723537623349335, 0.6495250412282128, 0.34748253234431137, 0.9906182289261513, 0.980735868670376, 0.9971629618869792, 0.9970821646747197, 0.9996308380476039, 0.594211281373575, 0.09794691451212775, 0.30037053783719175, 0.9909709807161958, 0.9538466822812776, 0.9974688770827695, 0.6897896823306953, 0.1598293166376001, 0.14721121269252643, 0.9990356595623104, 0.998625541372824, 0.9904790837074555, 0.9962193226424815, 0.9900096923107521, 0.9761143515561541, 0.9539879373785723, 0.9851103027108677, 0.9161074633725417, 0.9973578469145814, 0.7698542117948172, 0.21593471794244873, 0.9865719958540924, 0.9535157518550761, 0.996237795074023, 0.9980574888169724, 0.9299231219055538, 0.6261425835471267, 0.11386173994490811, 0.2597289093462214, 0.9861638287675667, 0.7781715776279499, 0.2133696261237927, 0.9992012890030261, 0.02739009937324915, 0.013695049686624576, 0.7386767424723131, 0.015406930897452648, 0.20371386408854056, 0.704459291048088, 0.29188751501594085, 0.985512459065944, 0.9628927753138902, 0.9980201912382358, 0.6247318780569684, 0.2211969329005534, 0.14945738709496853, 0.708098500427043, 0.28565337233136395, 0.6069816942061378, 0.3868674534500659, 0.3100863152959982, 0.09888579346053486, 0.5896523239683745, 0.993443898306494, 0.9985970502416947, 0.989069855481342, 0.5085557655562489, 0.4893649819503527, 0.9765051766840421, 0.5461613291232826, 0.41134935547892804, 0.03975224863871994, 0.99299537916692, 0.8068832677837592, 0.010433835359272748, 0.1808531462273943, 0.9971393068689282, 0.9952714199416417, 0.9349556615666514, 0.9965996461040388, 0.2724344397031783, 0.4705685776691262, 0.2544222453426376, 0.1298259737908664, 0.8408496209478209, 0.028682482581703046, 0.9912211338892775, 0.9951214705755871, 0.9188343200360272, 0.969295417778646, 0.9928057964985911, 0.992002804338224, 0.9874300575978242, 0.996287530434756, 0.9924329180069901, 0.9303270327347324, 0.9916161272877722, 0.9963191369999842, 0.907414541185614, 0.5677568613635782, 0.9979544314935876, 0.9887830293397684, 0.9942599310498339, 0.9604227274865258, 0.05945604234496008, 0.3595232560546805, 0.1486401058624002, 0.11612508270500016, 0.08732606219416011, 0.21088315019228027, 0.017651012571160023, 0.2927182884234685, 0.15968239852190555, 0.5430578122145839, 0.004424697003377925, 9.8326600075065e-05, 0.9993457909823237, 0.9972491121608515, 0.5818810054075249, 0.38385867372433574, 0.031988222810361316, 0.9767635370268875, 0.9815865031367754, 0.9697048583979233, 0.9827736543999052, 0.1387398935205477, 0.7507618431636089, 0.10964927068559414, 0.25389280701121897, 0.2766913447836549, 0.049742264230769426, 0.2766913447836549, 0.14197271249198773, 0.028715784605878425, 0.7322525074498998, 0.20998417493048596, 0.026921048068011023, 0.9927973717158104, 0.9770722813558149, 0.021881852454901405, 0.9607273622992982, 0.9982854556007525, 0.9573912692439919, 0.9910851678761718, 0.9953874044539076, 0.9977341395236595, 0.9490751163061667, 0.9903029322682658, 0.9901634072484089, 0.2573013888101949, 0.4512984676750243, 0.22462819658032884, 0.05717808640226552, 0.008168298057466503, 0.9894365666073515, 0.9552039683772506, 0.19107468946534176, 0.4518230226031286, 0.35575784723657555, 0.08979397704677053, 0.9084157344564951, 0.960761911974195, 0.9953806068216474, 0.977972880778321, 0.9869082969709554, 0.9762907078091386, 0.9832225472818069, 0.9790494282112153, 0.9678306042473852, 0.9843591018109065, 0.9915254757651959, 0.9933603577534486, 0.963942637052528, 0.4652157360199995, 0.17310352968186027, 0.25316391215972067, 0.10602591193013942, 0.9939092802475115, 0.969866176327714, 0.9581086929832251, 0.3599453080539499, 0.6273332511797413, 0.7116552622763598, 0.28799619256902764, 0.8325954387156561, 0.9892870102023316, 0.9925260318498593, 0.9818972925233969, 0.9938384214935997, 0.19344318239169453, 0.711298861323546, 0.09408715096872301, 0.2177090740006892, 0.7800040333402176, 0.972157966715759, 0.9914300279543349, 0.11343316011658058, 0.48889692010246233, 0.26203059986930116, 0.1338511289375651, 0.2747569846666439, 0.7200527874022392, 0.3184551919939101, 0.4278115032069132, 0.04927042593113326, 0.20309029225272002, 0.947402922623921, 0.9722819544803571, 0.9910478061444787, 0.6193723990777859, 0.3274389116143709, 0.05128561266249183, 0.9140127268160686, 0.984545433070006, 0.5708139715683048, 0.043329113353369676, 0.3786587732185785, 0.003767748987249537, 0.9903156457839795, 0.9951421078432108, 0.9834676169193781, 0.9967402549129474, 0.0028316484514572366, 0.9971778072525015, 0.6788896774347215, 0.31947749526339836, 0.954769483259853, 0.9887882152330287, 0.9927697304381599, 0.4732147881440099, 0.10610743960961046, 0.4195512554678851, 0.9893950462774276, 0.8155510066765919, 0.18207650381616935, 0.9957201217295943, 0.6791933284645059, 0.05659944403870882, 0.25687439986798616, 0.07019583267424565, 0.7665830615854128, 0.16267605667364865, 0.9944174470414886, 0.4616818344866379, 0.47737005216336836, 0.0582705227992844, 0.9699686538100749, 0.9963858937279488, 0.11539627338189883, 0.15332745583613408, 0.6453643437283971, 0.08547872102362876, 0.8157890645700567, 0.18235284972742444, 0.9224922118362717, 0.124517553438239, 0.20668219754374367, 0.37270560212806236, 0.09825874965194371, 0.1973645574905421, 0.7289286722100968, 0.2639903839896026, 0.9831551544558805, 0.9806895087458064, 0.9968203006510437, 0.09789177261155295, 0.09576369059825833, 0.2383451854889985, 0.5681978975496661, 0.1237378237735661, 0.17079305253252786, 0.7040856451340944, 0.9784591148818202, 0.6553580173327163, 0.3376086755956417, 0.9483000732833287, 0.9912288140552896, 0.2958607489021685, 0.24332472806907315, 0.035945698464749445, 0.08571666556978713, 0.1728158580036031, 0.16452069681943016, 0.9938699360529447, 0.9852870233056917, 0.9954729651788619, 0.6993402499529495, 0.9891568972330195, 0.09998222041041896, 0.4210789667284952, 0.4768382819573827, 0.5265063289070214, 0.46734831442308644, 0.9966769842975647, 0.9497332600916916, 0.9963351089394281, 0.6400748382491624, 0.3447825803971004, 0.014847096763511501, 0.9948664796723723, 0.7289016620386717, 0.2688987569933847, 0.9798966474507173, 0.9981326151277644, 0.9941608074105793, 0.98322497012974, 0.9812282265554705, 0.3245828415493475, 0.649165683098695, 0.025075069304241436, 0.9893884490995354, 0.998493537214424, 0.9732337147783204, 0.9909687951802875, 0.9922704399825673, 0.9793526109536969, 0.020059029380979334, 0.9939484945624091, 0.07253992161809555, 0.5908185721263309, 0.3350199011572571, 0.9699646295157016, 0.9611500631500683, 0.9806898843387324, 0.9974222636751883, 0.9960304627482881, 0.9811480956231607, 0.9316221242015139, 0.9993436800740967, 0.9918200933674679, 0.38693934250418144, 0.28451422242954516, 0.028451422242954518, 0.29968831429245424, 0.1787983169644967, 0.11660759802032393, 0.7022368680779507, 0.0919806793191448, 0.9055339291591669, 0.03534316927518898, 0.7576691913368638, 0.12922346266240972, 0.07620870874962625, 0.9623890720712239, 0.9903451016882917, 0.9953876143798013, 0.32497050125198196, 0.6705377244143008, 0.9967558287957324, 0.988074384434503, 0.9979051426883802, 0.9741233494575618, 0.9853918726907223, 0.9920421345052828, 0.9953734381698046, 0.996951992943157, 0.9595136900029927, 0.9040378332265164, 0.04987794941939401, 0.04052583390325763, 0.9557560081657899, 0.51860709455409, 0.3860417979124547, 0.09468949760116813, 0.31706453954546654, 0.0462742841498789, 0.35134178706389535, 0.15481890129157014, 0.033705960059788334, 0.0954050055929602, 0.0005712874586404803, 0.9897211966052384, 0.009936959805273477, 0.616138607651908, 0.22673900761590213, 0.009858217722430528, 0.03943287088972211, 0.10597584051612816, 0.8731880067885667, 0.043584255072062705, 0.08115688875487538, 0.9974485774725599, 0.09079515830783544, 0.5220721602700538, 0.139030086158873, 0.1711867047262314, 0.05863853974047705, 0.017969875081759096, 0.48281422578514777, 0.3435408914240475, 0.17331792720492484, 0.9951298386468659, 0.9856161377434906, 0.9910160599638741, 0.28581619151927756, 0.7123418927095841, 0.9689753764407146, 0.02865249769045124, 0.8469924629569534, 0.15164493878268598, 0.9962890117949349, 0.9932845899905759, 0.7077430779229398, 0.2677946781330042, 0.9947853931110805, 0.9862570000303358, 0.9828180482771798, 0.3255697812858737, 0.6737224375742358, 0.9768111041130101, 0.9878899960560779, 0.34034032485793575, 0.3600173886077522, 0.1639755312484701, 0.13482432569318653, 0.9126878607352639, 0.4762359293283595, 0.025125156942982996, 0.05367647165091822, 0.1153473114200583, 0.3289111454354138, 0.992759584360247, 0.9962774835557447, 0.10963428730042817, 0.66752015432286, 0.22250671810762002, 0.9632369364450902, 0.056667525595055744, 0.9419814910391233, 0.9994379987913822, 0.9785876634588351, 0.20201336232000391, 0.18989256058080367, 0.6019998197136117, 0.2910723014495529, 0.6407564315186403, 0.0665591952120138, 0.9660860002547839, 0.9959327312435208, 0.9826754366338437, 0.9830983302839633, 0.974284189574684, 0.9611848632732073, 0.6588786866109293, 0.26985828107324306, 0.5833790256010333, 0.05791340638762856, 0.045178521213385635, 0.03062436672853657, 0.01273488517424293, 0.41613120080161553, 0.06748073526512684, 0.5061055144884513, 0.9963523901559449, 0.9932278587669718, 0.9969250175064012, 0.9894361135142646, 0.01850542686962055, 0.9787314655488202, 0.993696019985051, 0.8729554963614431, 0.08699032044161233, 0.03815364931649664, 0.9007140995957338, 0.9859766412290063, 0.9910416323358929, 0.20792590270653552, 0.7895368193681733, 0.738138270512072, 0.2588277052444928, 0.9848900273304355, 0.9733910274164426, 0.9842049993216125, 0.24741000541217267, 0.7496709186549293, 0.9968062450332545, 0.9924322206067105, 0.9779819223419262, 0.9337738184362979, 0.06581887017226529, 0.18519463024947552, 0.8131201734391035, 0.9550165604426349, 0.9382975523056529, 0.0413155353274795, 0.01957051673406924, 0.9990849383536657, 0.974823664960867, 0.9728082846106922, 0.9945761246808252, 0.8030798751138106, 0.1915603371831108, 0.9896920242571454, 0.2185637334633562, 0.18560955635579915, 0.16913246780202065, 0.26751037887311, 0.06784683522144094, 0.04070810113286457, 0.03246955685597531, 0.012115506289543027, 0.0063000632705623736, 0.937384744832608, 0.9966458049537386, 0.7065301787199927, 0.28407241929834354, 0.008692546490157391, 0.4558397262428771, 0.008181738676154205, 0.5353194733826608, 0.34859617576586477, 0.10865911331124284, 0.03415000704067632, 0.039915592644946346, 0.1312779491433791, 0.1193032713498952, 0.21776173320742953, 0.806726317912074, 0.882288646688261, 0.11508112782890362, 0.7470849134418293, 0.18755269793518728, 0.06408050512785565, 0.7110329000042195, 0.28441316000168776, 0.9786988874980883, 0.9979509252610386, 0.9761143512586411, 0.9668976946396138, 0.9905205924838089, 0.9499845769071422, 0.9968792769071323, 0.9767910522169982, 0.9941687609466004, 0.9982345924062809, 0.8024137872376538, 0.9821197604768501, 0.00033583153998300853, 0.2207756543848298, 0.0028209849358572714, 0.7759723562847395, 0.989028825272037, 0.9948201865643203, 0.9977895331396035, 0.9985787689509874, 0.9826122735413145, 0.01627140839350843, 0.9935105281261959, 0.3233089543177572, 0.5123203429958306, 0.16414146911516903, 0.9768031857050983, 0.9655385773991705, 0.9839654027885916, 0.967566614241671, 0.9960450034543894, 0.9969918379265184, 0.990357225530061, 0.9924938256851892, 0.988729290954256, 0.9977118733347893, 0.9880179466278813, 0.9954536438117871, 0.9962213992553096, 0.984681322085224, 0.9850880778215377, 0.8342449784097042, 0.02650266433352396, 0.0836306296746756, 0.05536112105225005, 0.97005790685317, 0.5065902320169159, 0.4130607607969728, 0.04826253852986386, 0.03195312895770297, 0.9980745406444238, 0.21318318526220864, 0.11091287341344638, 0.433568505161654, 0.17285123129368268, 0.06770006559002571, 0.12103951694402519, 0.6479174142297819, 0.22071911913322242, 0.9979931294653667, 0.9926956976456275, 0.90242635062351, 0.07139448976451819, 0.024750089785032972, 0.9739515923076058, 0.02409777135606447, 0.8052432641666244, 0.1848099294808646, 0.9606733193001324, 0.9448159179458193, 0.9649929130561202, 0.9580534154001303, 0.9887069736191988, 0.9715967360228355, 0.02804840461959687, 0.19635560377648195, 0.8005266923195034, 0.9961476498565367, 0.9964545160797766, 0.9942680838098188, 0.9806740458597775, 0.018349410421492716, 0.9988934068867054, 0.9930627936238798, 0.9994455539435811, 0.9506224149993375, 0.4249956090960605, 0.3193492525816333, 0.013657703883994383, 0.03454595688304461, 0.11327860280254164, 0.017272978441522306, 0.0674851250738546, 0.00923903498034914, 0.9564866248378293, 0.9804785217235024, 0.9926261767303707, 0.9967114197088722, 0.997861225330022, 0.9867921623282134, 0.8892384585845116, 0.10933259736694814, 0.35595641534270306, 0.5571962124665413, 0.08655475145111322, 0.987394740420287, 0.98803741668574, 0.9929932152700609, 0.9931528610513335, 0.9970386617458836, 0.9878553309333267, 0.997704078575749, 0.9911209314087439, 0.589191815016603, 0.4021467943764116, 0.9924331711973133, 0.9612513771776948, 0.11964786222034271, 0.8734293942085017, 0.45387245996156805, 0.011418175093372781, 0.532372413728506, 0.6728618445529063, 0.3214784368419441, 0.9967058130282707, 0.22571873807368356, 0.36169388149156523, 0.40792543025364497, 0.9097851428375423, 0.07066282826847756, 0.07889069183398523, 0.031459478338705764, 0.14955352010246278, 0.6693609006527703, 0.15766590762467889, 0.14737157001344556, 0.3808904916156332, 0.1582077148673754, 0.15495687141119643, 0.17429521035567785, 0.7093693176713602, 0.11457167673729873, 0.9854118123160573, 0.9773197528890973, 0.9977532281872545, 0.9621080367778603, 0.9802178335384711, 0.8388009519582865, 0.9786807724186382, 0.9981835704127044, 0.9920287192605051, 0.8853882006006284, 0.9944980688119304, 0.9944667336641431, 0.9992092342026596, 0.8831759110834699, 0.9778020478693887, 0.986794314222953, 0.9722216364165824, 0.9874812287065994, 0.9724059120222068, 0.9906777298207186, 0.9878593965240349, 0.9926071665944005, 0.9903003741941048, 0.9955062865239304, 0.9787656751134586, 0.9953406059060315, 0.7575958761655395, 0.8278097704900809, 0.06576058924453913, 0.10573271211867076, 0.9352652114785969, 0.061440780316112206, 0.34132357443831435, 0.43092101272837185, 0.08106434892909965, 0.14648470069644323, 0.9972380876563907, 0.15511877473238037, 0.488208643688965, 0.004847461710386886, 0.3178549892953687, 0.033932231972708206, 0.9765252345773917, 0.17838468712327443, 0.560068123817208, 0.09268031230427108, 0.09766312479374802, 0.07075593735057255, 0.9841439899209788, 0.9911887007908253, 0.9744759547769125, 0.817409835395757, 0.9979498168402755, 0.07591743581156711, 0.22445154935593756, 0.23435382359222892, 0.16173714585942559, 0.30036898516750465, 0.9310641433278734, 0.9949188825454123, 0.9964727103233618, 0.9875874074379911, 0.3711367352051361, 0.03227275958305532, 0.4389095303295523, 0.1549092459986655, 0.998642721185504, 0.9967974581191609, 0.9993802328569872, 0.9832137029771143, 0.9847846239539232, 0.51064202086654, 0.32497003355452325, 0.6720468721127556, 0.269616339027466, 0.7267918704218649, 0.9917328338689226, 0.9645372796619134, 0.99615452181622, 0.12272897707190074, 0.6852367886514458, 0.18750260385984835, 0.9980718843525821, 0.5189901781357606, 0.6353880673717002, 0.14556162997969857, 0.21718719393796296, 0.9203433417678945, 0.8922924057021878, 0.9978153553111255, 0.9973536119626857, 0.9870588847231185, 0.9947601566646189, 0.8411516508926958, 0.15322093269049106, 0.9876386825551038, 0.9993795456245183, 0.9892785632671887, 0.9822325357417908, 0.25695228818681726, 0.7408790976053231, 0.9941333337422236, 0.995059058749428, 0.7940154567651325, 0.16562352988921472, 0.8309248279187722, 0.993759776428908, 0.997135814567505, 0.16319612402629502, 0.38827841868053903, 0.44787250891486025, 0.3164022347669711, 0.682843752404631, 0.9817963836454712, 0.991997256891544, 0.2488765239446071, 0.23066604658280657, 0.12747334153260365, 0.3884901837184111, 0.9609020480202262, 0.9943856850917039, 0.9555638210194483, 0.039404693650286524, 0.9948083811432094, 0.9723509115581056, 0.11786122773154808, 0.10803945875391907, 0.2887600079422928, 0.48421321059711003, 0.9874986804282405, 0.9513767908760244, 0.9956334646541413, 0.996160104610683, 0.9953834835895305, 0.9858687376541415, 0.9819841973126354, 0.9836534507317326, 0.9714312517005183, 0.9846642246026203, 0.9878137729403327, 0.9946317142895735, 0.99371720873766, 0.22162539272907486, 0.772986125859944, 0.9749833652945031, 0.9893593087121546, 0.9893697559301561, 0.999099017848346, 0.16216711740243922, 0.8366675172178943, 0.9576102950233137, 0.5750388452439403, 0.41185214591795727, 0.9973609707434683, 0.49939786851067103, 0.2930220931955357, 0.20637577531513535, 0.993759641409679, 0.9944649471784784, 0.9955971979698549, 0.5709824539854456, 0.13594820332986798, 0.29072000404387155, 0.9403815417117847, 0.9930439031617663, 0.13738245519536896, 0.5036313543532585, 0.025870044714086184, 0.12340428587404821, 0.005841622999954945, 0.05142714533888907, 0.03233755589260773, 0.013456595839181927, 0.016898980821298232, 0.06352765012451002, 0.018255071874859204, 0.008032231624938048, 0.9977071559852048, 0.9894210000003005, 0.9965779203683109, 0.9960781425255141, 0.9991576231742583, 0.9915272405671087, 0.10675765206057425, 0.4228025824181158, 0.4693108664841085, 0.9851054533200255, 0.48565308579354194, 0.5102431154539745, 0.9876202548154004, 0.13723594260194363, 0.8616233896315211, 0.34221237638294927, 0.4305429897662692, 0.1905946568561631, 0.010596740252295333, 0.022110153536796143, 0.0004400030554586297, 0.0006600045831879446, 0.00022000152772931486, 0.00256668449017534, 0.8856333375965084, 0.1133781809000361, 0.21897691083001464, 0.6408644917497983, 0.13924075308212888, 0.9927824859163145, 0.9828094899849268, 0.9971319968609008, 0.9935803185661222, 0.9891240347128081, 0.07432898347825369, 0.31251958962447574, 0.6115248186165417, 0.9648536647477306, 0.6339830150422818, 0.3622760085955896, 0.980658768564833, 0.307134393901763, 0.691339965299474, 0.9922898921300942, 0.968317992736532, 0.984110842121395, 0.14915369695315905, 0.8485188093335271, 0.9423209714464397, 0.862519267644613, 0.28510665534157237, 0.3129219387895306, 0.3998446995644002, 0.6052370659071054, 0.009531292376489848, 0.38125169505959394, 0.08154066151325527, 0.915764352379636, 0.46787616622312056, 0.5242467886596411, 0.792198178055634, 0.14596616346083707, 0.05971343050670608, 0.18056331357611255, 0.4166845697910289, 0.03993227127164027, 0.3611266271522251, 0.9978704788877444, 0.9718317361093772, 0.09885629538824588, 0.15846082643115883, 0.20425455150071392, 0.12611446507250484, 0.4117800833635389, 0.9950312195649199, 0.7701002777359884, 0.22856264566869136, 0.9994752106012242, 0.9886951682734618, 0.9959298274086054, 0.9938305599702004, 0.9829210821591824, 0.9927782601089629, 0.9938229852895363, 0.9686229923831309, 0.9507135094735889, 0.9993181035577803, 0.9981866332212456, 0.9927606518394081, 0.38579572423742386, 0.04915956596931163, 0.508694639160703, 0.05450299705293246, 0.9952202208745703, 0.30231105031526473, 0.10301682287813162, 0.10012850074136158, 0.10494237096931165, 0.030808769458880485, 0.3571891709138956, 0.9460694330351713, 0.3666612123476866, 0.4103914486827318, 0.02018318600079009, 0.19846799567443588, 0.9936694349463386, 0.9631804567777537, 0.9935600681294364, 0.9849004989287158, 0.9976625867683698, 0.9815595224182058, 0.9822066988957197, 0.8066863137967684, 0.19130900722453004, 0.9958831600978163, 0.996585195289898, 0.9762842957923773, 0.16313216277500725, 0.832392317749396, 0.631128784430449, 0.35572713304261666, 0.8515625780687666, 0.9963942171850554, 0.8037491081742457, 0.16734952105680775, 0.02710590834018717, 0.9883602191528862, 0.9909632183637336, 0.9953398685593494, 0.9643251249442085, 0.9980419770801139, 0.9951834937635446, 0.9934762613051461, 0.9164972595160407, 0.08207438144919767, 0.9986712159647503, 0.9750979607286118, 0.9945514287847148, 0.9695921381230079, 0.805697244860305, 0.19402505080309387, 0.985807156102836, 0.11036292774190824, 0.8567156085727793, 0.031799487654448136, 0.9949770707061562, 0.9958040011617761, 0.9802115096047244, 0.9731858278095751, 0.9988215019954123, 0.9684259502139857, 0.986643574832109, 0.9764026785968115, 0.9980954625220666, 0.9711552511432748, 0.997167696129806, 0.703317681040042, 0.2940772759904269, 0.9986621635955131, 0.9895876964745902, 0.4945049598954917, 0.9935754926613815, 0.6001101189379062, 0.30483953649920975, 0.09295555373070073, 0.9878706345679817, 0.985006185796029, 0.998840010951169, 0.7908959355196871, 0.20722994464337954, 0.9907786472510004, 0.994993078934025, 0.47872315803598187, 0.519605851972939, 0.9880177173361665, 0.9277005352865393, 0.9895473991854433, 0.9754032086314809, 0.9878956720944316, 0.9983439046453065, 0.9827631083150667, 0.8233844802190523, 0.8964558570910045, 0.10085128392273801, 0.9955761110427561, 0.9886535842205505, 0.975614798503243, 0.27951443387168196, 0.34725577059793866, 0.20851630211050903, 0.002361176400314237, 0.09005038271543263, 0.03851160128788394, 0.005455131683484617, 0.02817127705202504, 0.9980714581456024, 0.2144644065481332, 0.4818989376051427, 0.09818852347986821, 0.18991727567816616, 0.01421149681945461, 0.9732009466829176, 0.9844097871020018, 0.40827916109570844, 0.055992570664554306, 0.05365954688686454, 0.013998142666138576, 0.07698978466376216, 0.26129866310125344, 0.0357730312579097, 0.08243350681170494, 0.010887444295885559, 0.9756692384712332, 0.9779429014639737, 0.9563916968514807, 0.8593900012763993, 0.13257166460826728, 0.0011629093386690112, 0.005814546693345056, 0.9937674040270287, 0.5442279094288064, 0.029910649177722605, 0.26408914639842884, 0.12474929291196502, 0.03647640143624708, 0.9991531862005533, 0.3319772810481038, 0.6639545620962076, 0.9808480999153292, 0.9974731827298329, 0.2202618144887118, 0.7790468203728264, 0.9903889552127156, 0.07935213610304259, 0.1517705904106737, 0.10323481784279327, 0.22804109016020005, 0.24884213554643453, 0.04622454530274325, 0.14175527226174597, 0.9892179732963711, 0.990627099910439, 0.9731698430503597, 0.933626060370134, 0.06595081979849289, 0.8420028119845544, 0.15685434013683808, 0.9961326617796415, 0.9867807759079057, 0.9892805487534726, 0.9949813106672428, 0.4389066047304246, 0.32657305686745414, 0.008531661863010413, 0.06019561425568458, 0.07488903190864696, 0.029860816520536446, 0.06019561425568458, 0.9827092023185768, 0.980251726893058, 0.022611329117905615, 0.9751135682096796, 0.9871558848242298, 0.9941688995841275, 0.9969200420043378, 0.9988061236148875, 0.9981368567802076, 0.9938541919010035, 0.9693648789580781, 0.906979964251493, 0.09276643725585415, 0.9981061629268994, 0.9852412040671625, 0.9831029504409552, 0.9864920374249972, 0.989369890568177, 0.9719350602169116, 0.9858239859126137, 0.9928489421866726, 0.9409678915731466, 0.9869434298724378, 0.9771517565784349, 0.926683765413854, 0.0731749514618952, 0.9844213150781045, 0.97683096783721, 0.9886651327881182, 0.6169784245514679, 0.17794812022141446, 0.20405633863227834, 0.6562632590802633, 0.3373315817702288, 0.9652479424766951, 0.6313319672714018, 0.15014485181526174, 0.06693204237547813, 0.15014485181526174, 0.9796553699967935, 0.7298555423663481, 0.2560896639881923, 0.9763139431703052, 0.022843561233893205, 0.7543523055251327, 0.2445531165044071, 0.9881132431481308, 0.9965151854366631, 0.988451424288938, 0.9692726054006996, 0.9934525883100773, 0.9804268633637568, 0.8686385585547168, 0.12970207709229212, 0.8917743707384276, 0.014414228003378434, 0.09348050808073367, 0.9852231104450166, 0.021299546511325883, 0.38048735358868513, 0.141157903697787, 0.3332410867817441, 0.06854581331826694, 0.001161793446072321, 0.05131254386819418, 0.002710851374168749, 0.1948589457205696, 0.694996906403365, 0.10392477105097046, 0.9845950175925399, 0.01650791216221394, 0.0017376749644435726, 0.9678849551950699, 0.013032562233326793, 0.9911571030107059, 0.9145383265181072, 0.913941781842474, 0.988535462962778, 0.9588510381879215, 0.32068228013590644, 0.6614072027803071], \"Term\": [\"acceptances\", \"account\", \"accounted\", \"accounting\", \"acquire\", \"acquired\", \"acquired\", \"acquisition\", \"action\", \"action\", \"activity\", \"activity\", \"actual\", \"added\", \"added\", \"added\", \"added\", \"additional\", \"adjusted\", \"adjustment\", \"adjustments\", \"administration\", \"administration\", \"advantage\", \"affect\", \"afternoon\", \"aftertax\", \"again\", \"agency\", \"ago\", \"ago\", \"agree\", \"agreed\", \"agreed\", \"agreement\", \"agreement\", \"agreement\", \"agriculture\", \"agriculture\", \"aide\", \"algeria\", \"algerian\", \"all\", \"all\", \"all\", \"alone\", \"also\", \"also\", \"also\", \"also\", \"also\", \"america\", \"american\", \"american\", \"among\", \"amount\", \"amounts\", \"an\", \"an\", \"an\", \"analyst\", \"analysts\", \"angeles\", \"announced\", \"announced\", \"announced\", \"announcement\", \"announcement\", \"announcement\", \"annual\", \"annual\", \"annual\", \"annual\", \"appeared\", \"applied\", \"appreciation\", \"approval\", \"approval\", \"approved\", \"approved\", \"april\", \"april\", \"april\", \"april\", \"april\", \"area\", \"area\", \"areas\", \"argentina\", \"argentine\", \"around\", \"around\", \"around\", \"around\", \"asked\", \"asset\", \"assets\", \"associates\", \"association\", \"association\", \"association\", \"australia\", \"authorized\", \"available\", \"available\", \"available\", \"available\", \"available\", \"average\", \"average\", \"average\", \"average\", \"average\", \"averaged\", \"averaging\", \"avg\", \"back\", \"backlog\", \"bags\", \"balance\", \"balance\", \"balance\", \"balances\", \"bancorp\", \"bank\", \"bankers\", \"banking\", \"banking\", \"bankruptcy\", \"banks\", \"barges\", \"barley\", \"barrel\", \"barrels\", \"base\", \"basic\", \"basic\", \"beans\", \"because\", \"began\", \"bid\", \"bid\", \"billion\", \"board\", \"board\", \"board\", \"board\", \"bodies\", \"bonus\", \"borrowings\", \"bought\", \"bought\", \"bpd\", \"brazil\", \"brazilian\", \"brazils\", \"brings\", \"brokerage\", \"brothers\", \"budget\", \"budget\", \"bulletin\", \"bushels\", \"business\", \"business\", \"business\", \"but\", \"but\", \"buy\", \"buy\", \"buy\", \"call\", \"canada\", \"canadian\", \"capacity\", \"care\", \"carry\", \"carryforwards\", \"cars\", \"cash\", \"cash\", \"cash\", \"cash\", \"ccc\", \"cenergy\", \"center\", \"cents\", \"certain\", \"certain\", \"certificate\", \"certificates\", \"change\", \"change\", \"charge\", \"chicago\", \"chicago\", \"chief\", \"chief\", \"china\", \"chinese\", \"cited\", \"class\", \"classes\", \"closed\", \"closing\", \"co\", \"coast\", \"cocoa\", \"coffee\", \"colombia\", \"comment\", \"commenting\", \"commercial\", \"commercial\", \"commercial\", \"commission\", \"commission\", \"commission\", \"committee\", \"commodities\", \"commodity\", \"common\", \"company\", \"company\", \"company\", \"companys\", \"companys\", \"companys\", \"compared\", \"compared\", \"compared\", \"compared\", \"comparison\", \"competitive\", \"competitive\", \"competitive\", \"completed\", \"components\", \"comprised\", \"comprised\", \"consideration\", \"consumer\", \"consumers\", \"consumption\", \"continued\", \"continuing\", \"contract\", \"contract\", \"contributed\", \"control\", \"control\", \"convertible\", \"cooperation\", \"copper\", \"corn\", \"corp\", \"corporation\", \"corporation\", \"corporation\", \"corps\", \"corresponding\", \"cost\", \"costs\", \"costs\", \"costs\", \"could\", \"countries\", \"countrys\", \"court\", \"cover\", \"coverage\", \"covers\", \"created\", \"creates\", \"credit\", \"credits\", \"credits\", \"crisis\", \"critical\", \"crop\", \"crude\", \"crushing\", \"cts\", \"cts\", \"cts\", \"cubic\", \"cumulative\", \"cumulative\", \"currency\", \"current\", \"current\", \"current\", \"current\", \"current\", \"currently\", \"currently\", \"customer\", \"customs\", \"cut\", \"daily\", \"daily\", \"daily\", \"data\", \"data\", \"david\", \"david\", \"days\", \"days\", \"days\", \"deal\", \"dealers\", \"debentures\", \"debt\", \"debt\", \"dec\", \"december\", \"december\", \"december\", \"declared\", \"decline\", \"decline\", \"decline\", \"deficit\", \"delegates\", \"delivered\", \"delivery\", \"demand\", \"demand\", \"demand\", \"department\", \"department\", \"department\", \"deposit\", \"deposits\", \"destinations\", \"diamond\", \"differentials\", \"diluted\", \"directors\", \"disclosed\", \"discount\", \"distance\", \"distribution\", \"div\", \"diversified\", \"divestitures\", \"dividend\", \"dividends\", \"division\", \"divisions\", \"dlr\", \"dlr\", \"dlr\", \"dlr\", \"dlr\", \"dlr\", \"dlr\", \"dlrs\", \"dlrs\", \"dlrs\", \"dlrs\", \"dlrs\", \"dollar\", \"dollars\", \"domestic\", \"domestic\", \"domestic\", \"dot\", \"drilling\", \"drought\", \"dry\", \"due\", \"due\", \"due\", \"earlier\", \"earlier\", \"earlier\", \"earlier\", \"earlier\", \"early\", \"early\", \"early\", \"early\", \"earned\", \"earnings\", \"earnings\", \"easy\", \"economic\", \"economics\", \"economist\", \"economists\", \"economy\", \"ecuador\", \"eep\", \"ef\", \"eight\", \"eight\", \"eight\", \"eight\", \"eight\", \"emergency\", \"enable\", \"end\", \"end\", \"end\", \"ended\", \"ended\", \"ends\", \"energy\", \"engaged\", \"enhancement\", \"ensure\", \"enter\", \"entered\", \"enterprises\", \"equal\", \"equipment\", \"equity\", \"established\", \"estimated\", \"estimated\", \"estimated\", \"estimated\", \"estimates\", \"evidence\", \"excellent\", \"excess\", \"excess\", \"exchange\", \"exchange\", \"exchangeable\", \"exclude\", \"excludes\", \"excluding\", \"expansion\", \"expected\", \"expected\", \"expected\", \"expects\", \"expects\", \"expenditures\", \"expenses\", \"export\", \"export\", \"export\", \"export\", \"exporters\", \"exporters\", \"exports\", \"exports\", \"exports\", \"exports\", \"exposure\", \"express\", \"external\", \"extraordinary\", \"extraordinary\", \"extraordinary\", \"faces\", \"fair\", \"fall\", \"fall\", \"fall\", \"fall\", \"falling\", \"farmers\", \"feb\", \"february\", \"february\", \"fed\", \"federal\", \"federal\", \"feds\", \"feed\", \"feet\", \"fell\", \"fell\", \"fell\", \"figure\", \"figures\", \"figures\", \"filing\", \"final\", \"final\", \"final\", \"financial\", \"financial\", \"financial\", \"fire\", \"firm\", \"firm\", \"firm\", \"firmed\", \"firms\", \"first\", \"first\", \"first\", \"first\", \"fiscal\", \"fiscal\", \"fit\", \"five\", \"five\", \"five\", \"five\", \"five\", \"fixed\", \"fixed\", \"float\", \"fob\", \"following\", \"forecast\", \"forecast\", \"forecast\", \"forecast\", \"foreign\", \"foreign\", \"foreign\", \"formal\", \"former\", \"former\", \"formerly\", \"forward\", \"four\", \"four\", \"four\", \"four\", \"four\", \"four\", \"fourth\", \"franc\", \"francs\", \"frank\", \"freight\", \"full\", \"full\", \"full\", \"fully\", \"fully\", \"fund\", \"fundamental\", \"funds\", \"gain\", \"gain\", \"gain\", \"gains\", \"gas\", \"gas\", \"gdp\", \"general\", \"given\", \"gmt\", \"got\", \"government\", \"government\", \"government\", \"grade\", \"grain\", \"grains\", \"granted\", \"gross\", \"group\", \"group\", \"growing\", \"growth\", \"growth\", \"growth\", \"guarantee\", \"guaranteed\", \"guarantees\", \"gulf\", \"half\", \"hands\", \"harvesting\", \"he\", \"head\", \"held\", \"held\", \"held\", \"held\", \"help\", \"help\", \"help\", \"high\", \"high\", \"higher\", \"higher\", \"higher\", \"higher\", \"hog\", \"holders\", \"holding\", \"holdings\", \"holdings\", \"home\", \"hong\", \"house\", \"houston\", \"hrs\", \"hutton\", \"ico\", \"if\", \"ill\", \"import\", \"import\", \"import\", \"importers\", \"imports\", \"imports\", \"imports\", \"in\", \"in\", \"in\", \"in\", \"in\", \"in\", \"in\", \"inc\", \"inc\", \"include\", \"include\", \"include\", \"include\", \"include\", \"includes\", \"includes\", \"includes\", \"income\", \"increase\", \"increase\", \"increase\", \"increase\", \"increase\", \"increase\", \"increased\", \"increased\", \"increased\", \"increasing\", \"incs\", \"india\", \"industrial\", \"industrial\", \"industries\", \"industries\", \"industry\", \"industry\", \"inflation\", \"initial\", \"initiative\", \"initiative\", \"institute\", \"institutional\", \"institutions\", \"interest\", \"interest\", \"intermediate\", \"internal\", \"international\", \"international\", \"international\", \"international\", \"investing\", \"investment\", \"investment\", \"investment\", \"investment\", \"investment\", \"investments\", \"issue\", \"it\", \"it\", \"it\", \"ivory\", \"january\", \"january\", \"japan\", \"job\", \"july\", \"july\", \"july\", \"june\", \"june\", \"june\", \"kansas\", \"key\", \"kilos\", \"kong\", \"la\", \"lambert\", \"larry\", \"last\", \"last\", \"last\", \"last\", \"last\", \"last\", \"latest\", \"latest\", \"latest\", \"lbs\", \"lead\", \"leading\", \"lehman\", \"less\", \"less\", \"letter\", \"level\", \"level\", \"level\", \"lewis\", \"life\", \"light\", \"likely\", \"likely\", \"line\", \"line\", \"lines\", \"load\", \"loading\", \"loan\", \"loan\", \"loans\", \"longterm\", \"los\", \"loss\", \"loss\", \"losses\", \"losses\", \"louis\", \"lower\", \"lower\", \"lower\", \"ltd\", \"lyng\", \"machinery\", \"maize\", \"making\", \"making\", \"manager\", \"march\", \"march\", \"march\", \"march\", \"march\", \"march\", \"march\", \"march\", \"march\", \"marine\", \"mark\", \"market\", \"market\", \"market\", \"markets\", \"markets\", \"markets\", \"may\", \"may\", \"may\", \"may\", \"may\", \"may\", \"may\", \"meal\", \"meet\", \"meet\", \"meeting\", \"meeting\", \"meeting\", \"member\", \"member\", \"merchants\", \"merger\", \"mexico\", \"midday\", \"middle\", \"mideast\", \"might\", \"mill\", \"mining\", \"minister\", \"minneapolis\", \"mississippi\", \"mln\", \"mln\", \"mln\", \"mln\", \"modest\", \"monday\", \"monetary\", \"money\", \"month\", \"month\", \"monthly\", \"months\", \"months\", \"months\", \"mortgage\", \"moscow\", \"movement\", \"moving\", \"mths\", \"much\", \"na\", \"name\", \"natural\", \"near\", \"nearby\", \"nearly\", \"need\", \"needs\", \"negative\", \"net\", \"net\", \"net\", \"net\", \"never\", \"new\", \"new\", \"new\", \"new\", \"nil\", \"nine\", \"nine\", \"nine\", \"nine\", \"nine\", \"normal\", \"normal\", \"normal\", \"north\", \"northern\", \"note\", \"note\", \"note\", \"noted\", \"noted\", \"november\", \"november\", \"numbers\", \"obtained\", \"obtaining\", \"occur\", \"oecd\", \"offer\", \"offer\", \"offered\", \"offered\", \"offering\", \"offers\", \"officer\", \"official\", \"official\", \"officials\", \"offset\", \"oil\", \"oilseed\", \"one\", \"one\", \"one\", \"one\", \"one\", \"one\", \"one\", \"one\", \"only\", \"ontario\", \"opec\", \"open\", \"oper\", \"operate\", \"operating\", \"operating\", \"operations\", \"operations\", \"operations\", \"optimism\", \"orders\", \"organization\", \"output\", \"outstanding\", \"over\", \"owned\", \"pacific\", \"paid\", \"paid\", \"paper\", \"partially\", \"particularly\", \"particularly\", \"pay\", \"pay\", \"pay\", \"payable\", \"payable\", \"payment\", \"payments\", \"payments\", \"payments\", \"payout\", \"pct\", \"pct\", \"pct\", \"pct\", \"pct\", \"per\", \"per\", \"per\", \"per\", \"per\", \"period\", \"period\", \"period\", \"periods\", \"pesos\", \"petroleum\", \"philippine\", \"philippines\", \"pickup\", \"pipeline\", \"plan\", \"plant\", \"pledge\", \"points\", \"policies\", \"policy\", \"polled\", \"pork\", \"port\", \"portion\", \"portland\", \"ports\", \"positions\", \"post\", \"posted\", \"power\", \"preferred\", \"premium\", \"present\", \"preserve\", \"president\", \"president\", \"president\", \"pressure\", \"pressure\", \"previous\", \"previous\", \"previous\", \"previous\", \"previously\", \"price\", \"price\", \"price\", \"price\", \"price\", \"priced\", \"prices\", \"prices\", \"prices\", \"prices\", \"prices\", \"primarily\", \"primary\", \"principal\", \"principally\", \"prior\", \"private\", \"private\", \"private\", \"private\", \"private\", \"processors\", \"producer\", \"producers\", \"producing\", \"product\", \"product\", \"product\", \"product\", \"production\", \"products\", \"profit\", \"profitability\", \"profitable\", \"profitably\", \"profits\", \"profits\", \"program\", \"program\", \"projected\", \"projections\", \"properties\", \"proposal\", \"proposal\", \"proposal\", \"proposed\", \"prudentialbache\", \"public\", \"public\", \"public\", \"publicly\", \"pulp\", \"purchase\", \"purchases\", \"purposes\", \"qtly\", \"qtr\", \"qtr\", \"quality\", \"quarter\", \"quarterly\", \"quarters\", \"quota\", \"quota\", \"quotas\", \"quoted\", \"quotes\", \"raised\", \"raised\", \"raising\", \"range\", \"rate\", \"rate\", \"rate\", \"rates\", \"rates\", \"raw\", \"reach\", \"real\", \"real\", \"real\", \"real\", \"reasonable\", \"receive\", \"received\", \"received\", \"recently\", \"recommend\", \"record\", \"record\", \"record\", \"record\", \"recorded\", \"redeem\", \"reduce\", \"reduction\", \"reflect\", \"reflected\", \"reflecting\", \"reflects\", \"registered\", \"registrations\", \"regular\", \"regulatory\", \"related\", \"release\", \"release\", \"reluctant\", \"reorganization\", \"rep\", \"report\", \"reported\", \"reported\", \"reporting\", \"research\", \"research\", \"reserve\", \"reserves\", \"reserves\", \"reserves\", \"resources\", \"respectively\", \"restructuring\", \"results\", \"results\", \"results\", \"retired\", \"return\", \"reuter\", \"reuter\", \"reuter\", \"reuter\", \"reuter\", \"reuter\", \"reuter\", \"reuter\", \"reuter\", \"reuter\", \"reuter\", \"reuter\", \"reuters\", \"rev\", \"revenues\", \"revised\", \"revs\", \"right\", \"rise\", \"rise\", \"rise\", \"rises\", \"rising\", \"rising\", \"river\", \"rose\", \"rose\", \"said\", \"said\", \"said\", \"said\", \"said\", \"said\", \"said\", \"said\", \"said\", \"sale\", \"sale\", \"sales\", \"sales\", \"sales\", \"santa\", \"satisfactory\", \"savings\", \"season\", \"seasonally\", \"second\", \"second\", \"second\", \"section\", \"sector\", \"sector\", \"sectors\", \"securities\", \"securities\", \"seek\", \"seemed\", \"seems\", \"sell\", \"sell\", \"sense\", \"sept\", \"september\", \"september\", \"september\", \"service\", \"service\", \"service\", \"services\", \"services\", \"session\", \"session\", \"set\", \"set\", \"set\", \"seven\", \"seven\", \"seven\", \"seven\", \"several\", \"shamrock\", \"share\", \"share\", \"share\", \"share\", \"share\", \"shareholder\", \"shareholders\", \"shareholders\", \"shares\", \"shearson\", \"shipment\", \"shipments\", \"shipped\", \"ships\", \"short\", \"shortfall\", \"showing\", \"shr\", \"shrs\", \"significant\", \"since\", \"since\", \"since\", \"since\", \"situation\", \"six\", \"six\", \"six\", \"six\", \"six\", \"six\", \"slide\", \"slightly\", \"slightly\", \"slightly\", \"slightly\", \"slow\", \"slowed\", \"smith\", \"soft\", \"sold\", \"somewhat\", \"sorghum\", \"sources\", \"sources\", \"south\", \"soviet\", \"soviets\", \"soybean\", \"soybean\", \"soybeans\", \"soybeans\", \"spinoff\", \"split\", \"spokesman\", \"spokesman\", \"spokesman\", \"spot\", \"st\", \"stability\", \"stage\", \"stake\", \"standard\", \"start\", \"state\", \"state\", \"states\", \"statistical\", \"steel\", \"steep\", \"stock\", \"stock\", \"stockholders\", \"stocks\", \"stocks\", \"stocks\", \"study\", \"subject\", \"subordinated\", \"subsidiaries\", \"subsidiary\", \"subsidized\", \"subsidy\", \"success\", \"sugar\", \"suggest\", \"supplies\", \"supply\", \"supply\", \"surplus\", \"surpluses\", \"swing\", \"swiss\", \"system\", \"system\", \"system\", \"systems\", \"taiwan\", \"take\", \"talks\", \"talks\", \"tankers\", \"target\", \"tax\", \"tax\", \"taxes\", \"technologies\", \"telephone\", \"television\", \"ten\", \"tender\", \"terminal\", \"terminals\", \"terms\", \"terms\", \"texas\", \"th\", \"thailand\", \"the\", \"the\", \"the\", \"the\", \"the\", \"the\", \"the\", \"the\", \"there\", \"this\", \"this\", \"this\", \"this\", \"this\", \"thomas\", \"thought\", \"three\", \"three\", \"three\", \"three\", \"three\", \"three\", \"three\", \"three\", \"three\", \"threefortwo\", \"throughout\", \"tighten\", \"time\", \"time\", \"time\", \"time\", \"to\", \"today\", \"today\", \"today\", \"today\", \"today\", \"told\", \"tomorrow\", \"tomorrow\", \"tonight\", \"tonne\", \"tonnes\", \"tonnes\", \"tons\", \"total\", \"total\", \"total\", \"total\", \"total\", \"total\", \"total\", \"totaled\", \"totalled\", \"totalling\", \"trade\", \"trade\", \"trading\", \"trading\", \"transaction\", \"transfer\", \"transport\", \"trust\", \"two\", \"two\", \"two\", \"two\", \"two\", \"two\", \"two\", \"twoforone\", \"uncertain\", \"unchanged\", \"unchanged\", \"undisclosed\", \"unemployment\", \"union\", \"unit\", \"united\", \"units\", \"uruguay\", \"us\", \"us\", \"usda\", \"utility\", \"various\", \"vegetable\", \"versus\", \"vessels\", \"vice\", \"view\", \"virginia\", \"visit\", \"voted\", \"vs\", \"vs\", \"waiting\", \"wall\", \"weather\", \"week\", \"week\", \"week\", \"weekly\", \"weekly\", \"weight\", \"well\", \"well\", \"well\", \"well\", \"went\", \"were\", \"were\", \"west\", \"west\", \"wheat\", \"wheat\", \"when\", \"whether\", \"white\", \"whollyowned\", \"winter\", \"workforce\", \"world\", \"world\", \"would\", \"would\", \"would\", \"writedowns\", \"year\", \"year\", \"year\", \"year\", \"year\", \"year\", \"year\", \"year\", \"yearago\", \"yearago\", \"yearago\", \"yearonyear\", \"years\", \"years\", \"years\", \"years\", \"yesterdays\", \"yr\", \"yrago\", \"zealand\", \"zealands\", \"zone\", \"zone\"]}, \"R\": 30, \"lambda.step\": 0.01, \"plot.opts\": {\"xlab\": \"PC1\", \"ylab\": \"PC2\"}, \"topic.order\": [29, 22, 18, 15, 14, 17, 1, 24, 19, 7, 21, 11, 4, 10, 3, 5, 26, 16, 6, 9, 30, 25, 20, 12, 8, 27, 13, 2, 28, 23]};\n",
              "\n",
              "function LDAvis_load_lib(url, callback){\n",
              "  var s = document.createElement('script');\n",
              "  s.src = url;\n",
              "  s.async = true;\n",
              "  s.onreadystatechange = s.onload = callback;\n",
              "  s.onerror = function(){console.warn(\"failed to load library \" + url);};\n",
              "  document.getElementsByTagName(\"head\")[0].appendChild(s);\n",
              "}\n",
              "\n",
              "if(typeof(LDAvis) !== \"undefined\"){\n",
              "   // already loaded: just create the visualization\n",
              "   !function(LDAvis){\n",
              "       new LDAvis(\"#\" + \"ldavis_el956820556558652483352731456\", ldavis_el956820556558652483352731456_data);\n",
              "   }(LDAvis);\n",
              "}else if(typeof define === \"function\" && define.amd){\n",
              "   // require.js is available: use it to load d3/LDAvis\n",
              "   require.config({paths: {d3: \"https://cdnjs.cloudflare.com/ajax/libs/d3/3.5.5/d3.min\"}});\n",
              "   require([\"d3\"], function(d3){\n",
              "      window.d3 = d3;\n",
              "      LDAvis_load_lib(\"https://cdn.rawgit.com/bmabey/pyLDAvis/files/ldavis.v1.0.0.js\", function(){\n",
              "        new LDAvis(\"#\" + \"ldavis_el956820556558652483352731456\", ldavis_el956820556558652483352731456_data);\n",
              "      });\n",
              "    });\n",
              "}else{\n",
              "    // require.js not available: dynamically load d3 & LDAvis\n",
              "    LDAvis_load_lib(\"https://cdnjs.cloudflare.com/ajax/libs/d3/3.5.5/d3.min.js\", function(){\n",
              "         LDAvis_load_lib(\"https://cdn.rawgit.com/bmabey/pyLDAvis/files/ldavis.v1.0.0.js\", function(){\n",
              "                 new LDAvis(\"#\" + \"ldavis_el956820556558652483352731456\", ldavis_el956820556558652483352731456_data);\n",
              "            })\n",
              "         });\n",
              "}\n",
              "</script>"
            ],
            "text/plain": [
              "PreparedData(topic_coordinates=              x         y  topics  cluster       Freq\n",
              "topic                                                \n",
              "28     0.117865  0.474720       1        1  21.215959\n",
              "21    -0.022301  0.490828       2        1  15.915280\n",
              "17    -0.230687  0.429022       3        1  10.504656\n",
              "14    -0.465474  0.147556       4        1   6.340985\n",
              "13    -0.464165 -0.103755       5        1   5.280830\n",
              "16    -0.316108  0.306925       6        1   4.026356\n",
              "0     -0.429164  0.006898       7        1   3.808259\n",
              "23    -0.064315  0.371558       8        1   3.716872\n",
              "18     0.318665  0.335428       9        1   3.273361\n",
              "6      0.429312  0.188331      10        1   2.894042\n",
              "20     0.420980 -0.272836      11        1   2.439158\n",
              "10    -0.156272  0.220524      12        1   2.294148\n",
              "3      0.235560  0.231413      13        1   1.965558\n",
              "9     -0.277776  0.104360      14        1   1.789795\n",
              "2      0.353748  0.053618      15        1   1.666192\n",
              "4      0.078316  0.213670      16        1   1.631962\n",
              "25    -0.294729 -0.299729      17        1   1.594743\n",
              "15    -0.282094 -0.172862      18        1   1.351048\n",
              "5      0.403940 -0.057406      19        1   1.214492\n",
              "8     -0.191947 -0.407199      20        1   1.181476\n",
              "29     0.317839 -0.153433      21        1   0.832964\n",
              "24    -0.096738 -0.117223      22        1   0.817277\n",
              "19     0.055256  0.041042      23        1   0.790873\n",
              "11    -0.065157 -0.373464      24        1   0.752399\n",
              "7      0.218984 -0.369477      25        1   0.743725\n",
              "26     0.055438 -0.427366      26        1   0.693314\n",
              "12     0.096091 -0.298694      27        1   0.439044\n",
              "1      0.179627 -0.191150      28        1   0.404173\n",
              "27    -0.003500 -0.216811      29        1   0.306766\n",
              "22     0.078806 -0.154490      30        1   0.114292, topic_info=               Term          Freq         Total Category  logprob  loglift\n",
              "93              mln  14888.000000  14888.000000  Default  30.0000  30.0000\n",
              "303             pct   8264.000000   8264.000000  Default  29.0000  29.0000\n",
              "344              vs   8377.000000   8377.000000  Default  28.0000  28.0000\n",
              "42             dlrs  10170.000000  10170.000000  Default  27.0000  27.0000\n",
              "122            said  27272.000000  27272.000000  Default  26.0000  26.0000\n",
              "...             ...           ...           ...      ...      ...      ...\n",
              "16324         ltpep      0.017593      1.309381  Topic30 -10.5105   2.4644\n",
              "16323       laundry      0.017593      1.309381  Topic30 -10.5105   2.4644\n",
              "16300     cognizant      0.017593      1.309381  Topic30 -10.5105   2.4644\n",
              "16343  estremadoyro      0.017593      1.309381  Topic30 -10.5105   2.4644\n",
              "0             again      0.017593     14.749824  Topic30 -10.5105   0.0427\n",
              "\n",
              "[1255 rows x 6 columns], token_table=      Topic      Freq         Term\n",
              "term                              \n",
              "1015      6  0.967074  acceptances\n",
              "768       7  0.996287      account\n",
              "1160     18  0.981204    accounted\n",
              "1475     18  0.991854   accounting\n",
              "258       2  0.996152      acquire\n",
              "...     ...       ...          ...\n",
              "1527      4  0.913942        yrago\n",
              "1418     10  0.988535      zealand\n",
              "828       6  0.958851     zealands\n",
              "159      15  0.320682         zone\n",
              "159      17  0.661407         zone\n",
              "\n",
              "[1429 rows x 3 columns], R=30, lambda_step=0.01, plot_opts={'xlab': 'PC1', 'ylab': 'PC2'}, topic_order=[29, 22, 18, 15, 14, 17, 1, 24, 19, 7, 21, 11, 4, 10, 3, 5, 26, 16, 6, 9, 30, 25, 20, 12, 8, 27, 13, 2, 28, 23])"
            ]
          },
          "execution_count": 68,
          "metadata": {},
          "output_type": "execute_result"
        }
      ],
      "source": [
        "import pyLDAvis.gensim\n",
        "pyLDAvis.enable_notebook()\n",
        "vis = pyLDAvis.gensim.prepare(lda_model, corpus, id2word, mds=\"mmds\", R=30)\n",
        "vis"
      ]
    },
    {
      "cell_type": "markdown",
      "source": [
        "# Applying the LDA model to the test subset"
      ],
      "metadata": {
        "id": "6v6J41-9ixV3"
      }
    },
    {
      "cell_type": "code",
      "execution_count": null,
      "metadata": {
        "id": "wFXoRfsGacsS",
        "outputId": "24dce0c3-3bd2-4aaf-e2e6-ce1eb8c0c26d"
      },
      "outputs": [
        {
          "name": "stderr",
          "output_type": "stream",
          "text": [
            "C:\\Users\\eloid\\AppData\\Local\\Temp/ipykernel_9568/2722426161.py:6: SettingWithCopyWarning: \n",
            "A value is trying to be set on a copy of a slice from a DataFrame.\n",
            "Try using .loc[row_indexer,col_indexer] = value instead\n",
            "\n",
            "See the caveats in the documentation: https://pandas.pydata.org/pandas-docs/stable/user_guide/indexing.html#returning-a-view-versus-a-copy\n",
            "  reuters_test['predicted_topic']=topics_test\n"
          ]
        },
        {
          "data": {
            "text/html": [
              "<div>\n",
              "<style scoped>\n",
              "    .dataframe tbody tr th:only-of-type {\n",
              "        vertical-align: middle;\n",
              "    }\n",
              "\n",
              "    .dataframe tbody tr th {\n",
              "        vertical-align: top;\n",
              "    }\n",
              "\n",
              "    .dataframe thead th {\n",
              "        text-align: right;\n",
              "    }\n",
              "</style>\n",
              "<table border=\"1\" class=\"dataframe\">\n",
              "  <thead>\n",
              "    <tr style=\"text-align: right;\">\n",
              "      <th></th>\n",
              "      <th>purpose</th>\n",
              "      <th>doc.title</th>\n",
              "      <th>doc.text</th>\n",
              "      <th>doc.text.token</th>\n",
              "      <th>real_topic</th>\n",
              "      <th>predicted_topic</th>\n",
              "    </tr>\n",
              "  </thead>\n",
              "  <tbody>\n",
              "    <tr>\n",
              "      <th>14825</th>\n",
              "      <td>test</td>\n",
              "      <td>ASIAN EXPORTERS FEAR DAMAGE FROM U.S.-JAPAN RIFT</td>\n",
              "      <td>mounting trade friction us and japan raised fe...</td>\n",
              "      <td>[mounting, trade, friction, us, and, japan, ra...</td>\n",
              "      <td>6.0</td>\n",
              "      <td>28</td>\n",
              "    </tr>\n",
              "    <tr>\n",
              "      <th>14827</th>\n",
              "      <td>test</td>\n",
              "      <td>CHINA DAILY SAYS VERMIN EAT 7-12 PCT GRAIN STOCKS</td>\n",
              "      <td>a survey 19 provinces seven cities showed verm...</td>\n",
              "      <td>[a, survey, 19, provinces, seven, cities, show...</td>\n",
              "      <td>4.0</td>\n",
              "      <td>17</td>\n",
              "    </tr>\n",
              "    <tr>\n",
              "      <th>14828</th>\n",
              "      <td>test</td>\n",
              "      <td>JAPAN TO REVISE LONG-TERM ENERGY DEMAND DOWNWARDS</td>\n",
              "      <td>the ministry international trade industry miti...</td>\n",
              "      <td>[the, ministry, international, trade, industry...</td>\n",
              "      <td>18.0</td>\n",
              "      <td>28</td>\n",
              "    </tr>\n",
              "    <tr>\n",
              "      <th>14831</th>\n",
              "      <td>test</td>\n",
              "      <td>THAI TRADE DEFICIT WIDENS IN FIRST QUARTER</td>\n",
              "      <td>thailands trade deficit widened 45 billion bah...</td>\n",
              "      <td>[thailands, trade, deficit, widened, 45, billi...</td>\n",
              "      <td>29.0</td>\n",
              "      <td>17</td>\n",
              "    </tr>\n",
              "    <tr>\n",
              "      <th>14832</th>\n",
              "      <td>test</td>\n",
              "      <td>INDONESIA SEES CPO PRICE RISING SHARPLY</td>\n",
              "      <td>indonesia expects crude palm oil cpo prices ri...</td>\n",
              "      <td>[indonesia, expects, crude, palm, oil, cpo, pr...</td>\n",
              "      <td>16.0</td>\n",
              "      <td>28</td>\n",
              "    </tr>\n",
              "    <tr>\n",
              "      <th>...</th>\n",
              "      <td>...</td>\n",
              "      <td>...</td>\n",
              "      <td>...</td>\n",
              "      <td>...</td>\n",
              "      <td>...</td>\n",
              "      <td>...</td>\n",
              "    </tr>\n",
              "    <tr>\n",
              "      <th>21569</th>\n",
              "      <td>test</td>\n",
              "      <td>THAI RICE EXPORTS RISE IN WEEK TO OCTOBER 13</td>\n",
              "      <td>thai rice exports rose 72987 tonnes week ended...</td>\n",
              "      <td>[thai, rice, exports, rose, 72987, tonnes, wee...</td>\n",
              "      <td>29.0</td>\n",
              "      <td>19</td>\n",
              "    </tr>\n",
              "    <tr>\n",
              "      <th>21570</th>\n",
              "      <td>test</td>\n",
              "      <td>N.Z.'S CHASE CORP MAKES OFFER FOR ENTREGROWTH</td>\n",
              "      <td>chase corp ltd ltchcawe said make offer fullyp...</td>\n",
              "      <td>[chase, corp, ltd, ltchcawe, said, make, offer...</td>\n",
              "      <td>2.0</td>\n",
              "      <td>21</td>\n",
              "    </tr>\n",
              "    <tr>\n",
              "      <th>21572</th>\n",
              "      <td>test</td>\n",
              "      <td>TOKYO DEALERS SEE DOLLAR POISED TO BREACH 140 YEN</td>\n",
              "      <td>tokyos foreign exchange market watching nervou...</td>\n",
              "      <td>[tokyos, foreign, exchange, market, watching, ...</td>\n",
              "      <td>13.0</td>\n",
              "      <td>28</td>\n",
              "    </tr>\n",
              "    <tr>\n",
              "      <th>21573</th>\n",
              "      <td>test</td>\n",
              "      <td>JAPAN/INDIA CONFERENCE CUTS GULF WAR RISK CHARGES</td>\n",
              "      <td>the japanindiapakistangulfjapan shipping confe...</td>\n",
              "      <td>[the, japanindiapakistangulfjapan, shipping, c...</td>\n",
              "      <td>8.0</td>\n",
              "      <td>28</td>\n",
              "    </tr>\n",
              "    <tr>\n",
              "      <th>21575</th>\n",
              "      <td>test</td>\n",
              "      <td>SIX KILLED IN SOUTH AFRICAN GOLD MINE ACCIDENT</td>\n",
              "      <td>six black miners killed two injured rock fall ...</td>\n",
              "      <td>[six, black, miners, killed, two, injured, roc...</td>\n",
              "      <td>17.0</td>\n",
              "      <td>21</td>\n",
              "    </tr>\n",
              "  </tbody>\n",
              "</table>\n",
              "<p>2581 rows × 6 columns</p>\n",
              "</div>"
            ],
            "text/plain": [
              "      purpose                                          doc.title  \\\n",
              "14825    test   ASIAN EXPORTERS FEAR DAMAGE FROM U.S.-JAPAN RIFT   \n",
              "14827    test  CHINA DAILY SAYS VERMIN EAT 7-12 PCT GRAIN STOCKS   \n",
              "14828    test  JAPAN TO REVISE LONG-TERM ENERGY DEMAND DOWNWARDS   \n",
              "14831    test         THAI TRADE DEFICIT WIDENS IN FIRST QUARTER   \n",
              "14832    test            INDONESIA SEES CPO PRICE RISING SHARPLY   \n",
              "...       ...                                                ...   \n",
              "21569    test       THAI RICE EXPORTS RISE IN WEEK TO OCTOBER 13   \n",
              "21570    test      N.Z.'S CHASE CORP MAKES OFFER FOR ENTREGROWTH   \n",
              "21572    test  TOKYO DEALERS SEE DOLLAR POISED TO BREACH 140 YEN   \n",
              "21573    test  JAPAN/INDIA CONFERENCE CUTS GULF WAR RISK CHARGES   \n",
              "21575    test     SIX KILLED IN SOUTH AFRICAN GOLD MINE ACCIDENT   \n",
              "\n",
              "                                                doc.text  \\\n",
              "14825  mounting trade friction us and japan raised fe...   \n",
              "14827  a survey 19 provinces seven cities showed verm...   \n",
              "14828  the ministry international trade industry miti...   \n",
              "14831  thailands trade deficit widened 45 billion bah...   \n",
              "14832  indonesia expects crude palm oil cpo prices ri...   \n",
              "...                                                  ...   \n",
              "21569  thai rice exports rose 72987 tonnes week ended...   \n",
              "21570  chase corp ltd ltchcawe said make offer fullyp...   \n",
              "21572  tokyos foreign exchange market watching nervou...   \n",
              "21573  the japanindiapakistangulfjapan shipping confe...   \n",
              "21575  six black miners killed two injured rock fall ...   \n",
              "\n",
              "                                          doc.text.token  real_topic  \\\n",
              "14825  [mounting, trade, friction, us, and, japan, ra...         6.0   \n",
              "14827  [a, survey, 19, provinces, seven, cities, show...         4.0   \n",
              "14828  [the, ministry, international, trade, industry...        18.0   \n",
              "14831  [thailands, trade, deficit, widened, 45, billi...        29.0   \n",
              "14832  [indonesia, expects, crude, palm, oil, cpo, pr...        16.0   \n",
              "...                                                  ...         ...   \n",
              "21569  [thai, rice, exports, rose, 72987, tonnes, wee...        29.0   \n",
              "21570  [chase, corp, ltd, ltchcawe, said, make, offer...         2.0   \n",
              "21572  [tokyos, foreign, exchange, market, watching, ...        13.0   \n",
              "21573  [the, japanindiapakistangulfjapan, shipping, c...         8.0   \n",
              "21575  [six, black, miners, killed, two, injured, roc...        17.0   \n",
              "\n",
              "       predicted_topic  \n",
              "14825               28  \n",
              "14827               17  \n",
              "14828               28  \n",
              "14831               17  \n",
              "14832               28  \n",
              "...                ...  \n",
              "21569               19  \n",
              "21570               21  \n",
              "21572               28  \n",
              "21573               28  \n",
              "21575               21  \n",
              "\n",
              "[2581 rows x 6 columns]"
            ]
          },
          "execution_count": 91,
          "metadata": {},
          "output_type": "execute_result"
        }
      ],
      "source": [
        "reuters_test = reuters[reuters[\"purpose\"]==\"test\"]\n",
        "other_corpus = [id2word.doc2bow(text) for text in reuters_test[\"doc.text.token\"]]\n",
        "topics_test = []\n",
        "for text in reuters_test[\"doc.text.token\"]:\n",
        "    topics_test.append(max(lda_model[id2word.doc2bow(text)],key=itemgetter(1))[0])\n",
        "reuters_test['predicted_topic']=topics_test\n",
        "reuters_test"
      ]
    },
    {
      "cell_type": "markdown",
      "source": [
        "## Performance metrics for the test subset"
      ],
      "metadata": {
        "id": "ZlhOkgk3i7e3"
      }
    },
    {
      "cell_type": "code",
      "execution_count": null,
      "metadata": {
        "id": "WzYqQcnDacsT",
        "outputId": "2d28bbb7-f1d6-49b2-b8ea-0740e57bf6b4"
      },
      "outputs": [
        {
          "name": "stdout",
          "output_type": "stream",
          "text": [
            "0.5750176258614653\n",
            "0.4881550145750465\n",
            "0.46725396432190924\n",
            "0.6713059354767479\n"
          ]
        }
      ],
      "source": [
        "print(adjusted_rand_score(reuters_test[\"real_topic\"],reuters_test[\"predicted_topic\"]))\n",
        "print(normalized_mutual_info_score(reuters_test[\"real_topic\"],reuters_test[\"predicted_topic\"]))\n",
        "print(adjusted_mutual_info_score(reuters_test[\"real_topic\"],reuters_test[\"predicted_topic\"]))\n",
        "print(fowlkes_mallows_score(reuters_test[\"real_topic\"],reuters_test[\"predicted_topic\"]))"
      ]
    },
    {
      "cell_type": "code",
      "execution_count": null,
      "metadata": {
        "id": "4CNg1BCBacsT"
      },
      "outputs": [],
      "source": [
        ""
      ]
    },
    {
      "cell_type": "code",
      "execution_count": null,
      "metadata": {
        "id": "5HEjUBcwacsT"
      },
      "outputs": [],
      "source": [
        ""
      ]
    },
    {
      "cell_type": "code",
      "execution_count": null,
      "metadata": {
        "id": "dHbF2pbVacsT"
      },
      "outputs": [],
      "source": [
        ""
      ]
    },
    {
      "cell_type": "code",
      "execution_count": null,
      "metadata": {
        "id": "m9_-WMmFacsU"
      },
      "outputs": [],
      "source": [
        ""
      ]
    },
    {
      "cell_type": "code",
      "execution_count": null,
      "metadata": {
        "id": "fKcgl9viacsX"
      },
      "outputs": [],
      "source": [
        ""
      ]
    },
    {
      "cell_type": "code",
      "execution_count": null,
      "metadata": {
        "id": "AN0Uon-lacsX"
      },
      "outputs": [],
      "source": [
        ""
      ]
    },
    {
      "cell_type": "code",
      "execution_count": null,
      "metadata": {
        "id": "h4DoZJKdacsX"
      },
      "outputs": [],
      "source": [
        ""
      ]
    },
    {
      "cell_type": "code",
      "execution_count": null,
      "metadata": {
        "id": "pbks2y9nacsX"
      },
      "outputs": [],
      "source": [
        ""
      ]
    },
    {
      "cell_type": "code",
      "execution_count": null,
      "metadata": {
        "id": "Q0L1eW4PacsX"
      },
      "outputs": [],
      "source": [
        ""
      ]
    },
    {
      "cell_type": "code",
      "execution_count": null,
      "metadata": {
        "id": "g5NZbkWwacsX"
      },
      "outputs": [],
      "source": [
        ""
      ]
    },
    {
      "cell_type": "code",
      "execution_count": null,
      "metadata": {
        "id": "1e4TCl7LacsX"
      },
      "outputs": [],
      "source": [
        ""
      ]
    },
    {
      "cell_type": "code",
      "execution_count": null,
      "metadata": {
        "id": "vKKhTRNDacsY"
      },
      "outputs": [],
      "source": [
        ""
      ]
    },
    {
      "cell_type": "code",
      "execution_count": null,
      "metadata": {
        "id": "M8_KUeQPacsY"
      },
      "outputs": [],
      "source": [
        ""
      ]
    }
  ],
  "metadata": {
    "kernelspec": {
      "display_name": "Python 3.9.7 64-bit",
      "language": "python",
      "name": "python3"
    },
    "language_info": {
      "codemirror_mode": {
        "name": "ipython",
        "version": 3
      },
      "file_extension": ".py",
      "mimetype": "text/x-python",
      "name": "python",
      "nbconvert_exporter": "python",
      "pygments_lexer": "ipython3",
      "version": "3.9.7"
    },
    "vscode": {
      "interpreter": {
        "hash": "7b2fc178fc1582995d8799a6a44a43ce16bf723183ee7511f6c8a8c9cb80a240"
      }
    },
    "colab": {
      "name": "Text Analysis - Eloi Garcia.ipynb",
      "provenance": []
    }
  },
  "nbformat": 4,
  "nbformat_minor": 0
}